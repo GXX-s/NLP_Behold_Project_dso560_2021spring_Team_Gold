{
 "cells": [
  {
   "cell_type": "markdown",
   "metadata": {},
   "source": [
    "# Summary"
   ]
  },
  {
   "cell_type": "markdown",
   "metadata": {},
   "source": [
    "In this notebook, we will explore various machine learning algorithms with the input variables created in the second notebook, including Logistic Regression, Deep Learning, RNN and LSTM. For the input variables, we tried different combinations of vectorizing methods and feature encoding methods. "
   ]
  },
  {
   "cell_type": "markdown",
   "metadata": {},
   "source": [
    "PS: We are not able to have the outputs for all the models because this notebook takes long to run entirely. The teammates ran models separately on their own computer. In this submission, we will include the model performance if we cannot obtain the running output in this notebook. "
   ]
  },
  {
   "cell_type": "markdown",
   "metadata": {},
   "source": [
    "# Libraries"
   ]
  },
  {
   "cell_type": "code",
   "execution_count": 1,
   "metadata": {
    "ExecuteTime": {
     "end_time": "2021-05-12T05:31:45.913824Z",
     "start_time": "2021-05-12T05:31:43.438221Z"
    }
   },
   "outputs": [
    {
     "name": "stderr",
     "output_type": "stream",
     "text": [
      "/Users/xinxuegu/opt/anaconda3/lib/python3.8/site-packages/gensim/similarities/__init__.py:15: UserWarning: The gensim.similarities.levenshtein submodule is disabled, because the optional Levenshtein package <https://pypi.org/project/python-Levenshtein/> is unavailable. Install Levenhstein (e.g. `pip install python-Levenshtein`) to suppress this warning.\n",
      "  warnings.warn(msg)\n",
      "[nltk_data] Downloading package averaged_perceptron_tagger to\n",
      "[nltk_data]     /Users/xinxuegu/nltk_data...\n",
      "[nltk_data]   Package averaged_perceptron_tagger is already up-to-\n",
      "[nltk_data]       date!\n",
      "[nltk_data] Downloading package wordnet to\n",
      "[nltk_data]     /Users/xinxuegu/nltk_data...\n",
      "[nltk_data]   Package wordnet is already up-to-date!\n"
     ]
    },
    {
     "data": {
      "text/plain": [
       "True"
      ]
     },
     "execution_count": 1,
     "metadata": {},
     "output_type": "execute_result"
    }
   ],
   "source": [
    "import pandas as pd\n",
    "import pickle\n",
    "import nltk\n",
    "from nltk.stem.porter import PorterStemmer\n",
    "import pandas as pd\n",
    "import sys\n",
    "import re\n",
    "import matplotlib.pyplot as plt\n",
    "from collections import Counter\n",
    "import numpy as np\n",
    "import string\n",
    "from nltk.corpus import stopwords\n",
    "import seaborn as sns\n",
    "from nltk.stem import WordNetLemmatizer\n",
    "from sklearn.feature_extraction.text import CountVectorizer\n",
    "from nltk.tokenize import sent_tokenize\n",
    "from nltk.corpus import wordnet\n",
    "from sklearn.feature_extraction.text import TfidfVectorizer\n",
    "import gensim\n",
    "import seaborn as sns\n",
    "from gensim.parsing.preprocessing import remove_stopwords\n",
    "nltk.download('averaged_perceptron_tagger')\n",
    "nltk.download('wordnet')"
   ]
  },
  {
   "cell_type": "code",
   "execution_count": 2,
   "metadata": {
    "ExecuteTime": {
     "end_time": "2021-05-12T05:31:47.345701Z",
     "start_time": "2021-05-12T05:31:47.334509Z"
    }
   },
   "outputs": [],
   "source": [
    "from collections import Counter\n",
    "from sklearn.linear_model import LogisticRegression\n",
    "from sklearn import preprocessing\n",
    "import nltk\n",
    "from nltk.collocations import BigramCollocationFinder, BigramAssocMeasures\n",
    "from nltk.stem import WordNetLemmatizer\n",
    "from nltk.stem import PorterStemmer\n",
    "from nltk import word_tokenize\n",
    "from nltk.corpus import wordnet\n",
    "lemmatizer = WordNetLemmatizer()\n",
    "from tqdm import tqdm"
   ]
  },
  {
   "cell_type": "code",
   "execution_count": 3,
   "metadata": {
    "ExecuteTime": {
     "end_time": "2021-05-12T05:31:47.379513Z",
     "start_time": "2021-05-12T05:31:47.358291Z"
    }
   },
   "outputs": [],
   "source": [
    "from sklearn.feature_extraction.text import CountVectorizer\n",
    "from sklearn.feature_extraction.text import TfidfVectorizer\n",
    "from sklearn.decomposition import TruncatedSVD\n",
    "import matplotlib.pyplot as plt\n",
    "import numpy as np\n",
    "from sklearn.model_selection import train_test_split"
   ]
  },
  {
   "cell_type": "code",
   "execution_count": 4,
   "metadata": {
    "ExecuteTime": {
     "end_time": "2021-05-12T05:31:52.075991Z",
     "start_time": "2021-05-12T05:31:47.749864Z"
    }
   },
   "outputs": [],
   "source": [
    "from keras.preprocessing.text import one_hot\n",
    "from keras.preprocessing.sequence import pad_sequences\n",
    "from numpy import asarray\n",
    "from numpy import zeros\n",
    "from keras.preprocessing.text import Tokenizer\n",
    "from keras.models import Sequential\n",
    "from keras.layers import Dense\n",
    "from keras.layers import Flatten\n",
    "from keras.layers import Embedding"
   ]
  },
  {
   "cell_type": "code",
   "execution_count": 5,
   "metadata": {
    "ExecuteTime": {
     "end_time": "2021-05-12T05:31:52.096532Z",
     "start_time": "2021-05-12T05:31:52.093914Z"
    }
   },
   "outputs": [],
   "source": [
    "from typing import List\n",
    "from keras.preprocessing.text import text_to_word_sequence"
   ]
  },
  {
   "cell_type": "code",
   "execution_count": 6,
   "metadata": {
    "ExecuteTime": {
     "end_time": "2021-05-12T05:31:52.110789Z",
     "start_time": "2021-05-12T05:31:52.108395Z"
    }
   },
   "outputs": [],
   "source": [
    "from keras.utils import to_categorical\n",
    "from sklearn.preprocessing import LabelEncoder\n",
    "from sklearn.preprocessing import OneHotEncoder\n",
    "from sklearn.decomposition import PCA"
   ]
  },
  {
   "cell_type": "code",
   "execution_count": 7,
   "metadata": {
    "ExecuteTime": {
     "end_time": "2021-05-12T05:31:52.127006Z",
     "start_time": "2021-05-12T05:31:52.124054Z"
    }
   },
   "outputs": [],
   "source": [
    "from keras.models import Sequential\n",
    "from keras.layers import Dense\n",
    "from keras.models import model_from_json\n",
    "import numpy\n",
    "import os\n",
    "import warnings\n",
    "warnings.filterwarnings(\"ignore\")\n"
   ]
  },
  {
   "cell_type": "code",
   "execution_count": 31,
   "metadata": {
    "ExecuteTime": {
     "end_time": "2021-05-12T06:12:54.513079Z",
     "start_time": "2021-05-12T06:12:54.509546Z"
    }
   },
   "outputs": [],
   "source": [
    "##import Keras Toolkit\n",
    "from random import randint\n",
    "from numpy import array, argmax, asarray, zeros\n",
    "from keras.models import Sequential\n",
    "from keras.layers import Dense\n",
    "from keras.layers import Embedding"
   ]
  },
  {
   "cell_type": "markdown",
   "metadata": {},
   "source": [
    "# Load the Data"
   ]
  },
  {
   "cell_type": "markdown",
   "metadata": {},
   "source": [
    "In the '2_Prepare_Training_Data_behold_project.ipynb' notebook, we have created many varibles using Countvectorization, TFIDFVectorizer, Integer Encoding on our lemmatized description. Besides, we encoded the manually created features using one-hot encoding. \n",
    "\n",
    "We also conducted PCA dimensionality reduction on them. The following are our outputs:\n",
    "\n",
    "1. CountVectorized: X_cv.pkl, princ_comps_cv.pkl\n",
    "2. TfidfVectorized: X_tfidf.pkl,princ_comps_tfidf.pkl\n",
    "3. Encoded Feature: cat_feat_array.pkl,features_princ_comps.pkl\n",
    "4. Integer Encoding and Padding: padded_docs.pkl \n",
    "\n"
   ]
  },
  {
   "cell_type": "markdown",
   "metadata": {},
   "source": [
    "To explore what kind of input variables can bring better performance to our machine learning models, we concatenate the data above to create different combinations of training data.\n",
    "We saved those variables as Pickle files for quicker loading speed. \n",
    "\n",
    "1.the countvectorized lemma description + encoded feature array with PCA\n",
    "    \n",
    "    cv_featPca_1.pkl\n",
    "\n",
    "2.the countvectorized lemma description with PCA + encoded feature vector without PCA\n",
    "\n",
    "    cvPca_feat_2.pkl: \n",
    "3.the the countvectorized lemma description with PCA + encoded feature array with PCA\n",
    "    \n",
    "    cvPca_featPca_3.pkl\n",
    "    \n",
    "4.the tfidf vectorized lemma description with PCA + encoded feature array with PCA\n",
    "    \n",
    "    tfidfPca_featPca_4.pkl\n",
    "\n",
    "\n",
    "5.For the deep learning models we prepared a tokenized lemmatized description using keras.preprocessing.text.Tokenizer, and saved in the following file:\n",
    "    \n",
    "    tokenizer_word_index.pkl\n",
    "\n",
    "6.We also saved the pretrained GloVe Embeddings as pkl file so that we can load it faster. \n",
    "    \n",
    "    embedding_matrix.pkl\n",
    "\n",
    "\n",
    "The cells below are to load these variables into the environment. "
   ]
  },
  {
   "cell_type": "markdown",
   "metadata": {},
   "source": [
    "PS: If you don't have the pkl files below in your local environment, just run the second notebook thoroughly from the beginning, then you will have them all. It only takes less than 10 mins to run. "
   ]
  },
  {
   "cell_type": "code",
   "execution_count": 8,
   "metadata": {
    "ExecuteTime": {
     "end_time": "2021-05-12T05:31:55.814158Z",
     "start_time": "2021-05-12T05:31:54.965458Z"
    }
   },
   "outputs": [],
   "source": [
    "# final cleaned data \n",
    "with open('final_cleaned_data.pkl', 'rb') as f:\n",
    "    behold_prod = pickle.load(f) "
   ]
  },
  {
   "cell_type": "code",
   "execution_count": 9,
   "metadata": {
    "ExecuteTime": {
     "end_time": "2021-05-12T05:31:59.747772Z",
     "start_time": "2021-05-12T05:31:56.416689Z"
    }
   },
   "outputs": [],
   "source": [
    "# # load variables with this chunk of code\n",
    "\n",
    "import pickle\n",
    "\n",
    "# Encode Features\n",
    "# cat_feat_array.pkl is the array of encoded features\n",
    "with open('cat_feat_array.pkl', 'rb') as f:\n",
    "        cat_feat_array = pickle.load(f)\n",
    "\n",
    "# features_princ_comps.pkl is pca on the encoded feature array (cat_feat_array.pkl)\n",
    "with open('features_princ_comps.pkl', 'rb') as f:\n",
    "     features_princ_comps = pickle.load(f)\n",
    "\n",
    "#=====================================================================   \n",
    "#Countvectorizer\n",
    "# X_cv.pkl is the Countvertorized lemmatized descriptions\n",
    "with open('X_cv.pkl', 'rb') as f:\n",
    "    X_cv = pickle.load(f)\n",
    "# princ_comps_cv.pkl is the pca on Countvertorized lemmatized descriptions(X_cv.pkl)\n",
    "with open('princ_comps_cv.pkl', 'rb') as f:\n",
    "    princ_comps_cv = pickle.load(f)\n",
    "\n",
    "#=====================================================================   \n",
    "#TFIDF\n",
    " # X_tfidf.pkl is the tfidf vectorized lemmatized description\n",
    "with open('X_tfidf.pkl', 'rb') as f:\n",
    "    X_tfidf = pickle.load(f)\n",
    " # princ_comps_tfidf.pkl is the tfidf vectorized lemmatized description(X_tfidf.pkl) with PCA\n",
    "with open('princ_comps_tfidf.pkl', 'rb') as f:\n",
    "    princ_comps_tfidf = pickle.load(f)\n",
    "\n",
    "#=====================================================================  \n",
    "\n",
    "## combinations of the above data, to make different set of training data\n",
    "## the number in the file name indicates their order to be used in the model exploration\n",
    "## they were named X_all before\n",
    "\n",
    "# cv_featPca_1.pkl is the countvectorized lemma description + encoded feature array with PCA\n",
    "with open('cv_featPca_1.pkl', 'rb') as f:\n",
    "    cv_featPca_1 = pickle.load(f)\n",
    "# cvPca_feat_2.pkl is the countvectorized lemma description with PCA + encoded feature vector without PCA\n",
    "with open('cvPca_feat_2.pkl', 'rb') as f:\n",
    "    cvPca_feat_2 = pickle.load(f)    \n",
    "# cvPca_featPca_3.pkl is the the countvectorized lemma description with PCA + encoded feature array with PCA\n",
    "with open('cvPca_featPca_3.pkl', 'rb') as f:\n",
    "    cvPca_featPca_3 = pickle.load(f)  \n",
    "# tfidfPca_featPca_4.pkl is the tfidf vectorized lemma description with PCA + encoded feature array with PCA\n",
    "with open('tfidfPca_featPca_4.pkl', 'rb') as f:\n",
    "     tfidfPca_featPca_4 = pickle.load(f)  \n",
    "\n",
    "#===================================================================== \n",
    "#tokenizer_word_index.pkl is the tokenized lemma description \n",
    "with open('tokenizer_word_index.pkl', 'rb') as f:\n",
    "    tokenizer_word_index =  pickle.load(f)   \n",
    "# padded_docs.pkl is the lemmatized_description after integer encoding and padding \n",
    "with open('padded_docs.pkl', 'rb') as f:\n",
    "    padded_docs = pickle.load(f) \n",
    "    \n",
    "\n"
   ]
  },
  {
   "cell_type": "code",
   "execution_count": 10,
   "metadata": {
    "ExecuteTime": {
     "end_time": "2021-05-12T05:32:00.098621Z",
     "start_time": "2021-05-12T05:32:00.069757Z"
    }
   },
   "outputs": [],
   "source": [
    "\n",
    "# embedding_matrix.pkl is the loaded pretrained embeddings from GloVe\n",
    "with open('embedding_matrix.pkl', 'rb') as f:\n",
    "    embedding_matrix = pickle.load(f) "
   ]
  },
  {
   "cell_type": "code",
   "execution_count": 11,
   "metadata": {
    "ExecuteTime": {
     "end_time": "2021-05-12T05:32:00.366960Z",
     "start_time": "2021-05-12T05:32:00.364240Z"
    }
   },
   "outputs": [],
   "source": [
    "## define dependent variable\n",
    "labels = behold_prod['label']\n",
    "\n",
    "corpus = behold_prod['lemmatized_description']"
   ]
  },
  {
   "cell_type": "markdown",
   "metadata": {},
   "source": [
    "The number of labels we need to classify is 31."
   ]
  },
  {
   "cell_type": "code",
   "execution_count": 12,
   "metadata": {
    "ExecuteTime": {
     "end_time": "2021-05-12T05:32:02.148719Z",
     "start_time": "2021-05-12T05:32:02.137139Z"
    }
   },
   "outputs": [
    {
     "data": {
      "text/plain": [
       "31"
      ]
     },
     "execution_count": 12,
     "metadata": {},
     "output_type": "execute_result"
    }
   ],
   "source": [
    "len(behold_prod.label.value_counts())"
   ]
  },
  {
   "cell_type": "markdown",
   "metadata": {},
   "source": [
    "# Label Encoding the Target"
   ]
  },
  {
   "cell_type": "markdown",
   "metadata": {},
   "source": [
    "The current brand labels are strings. We need to use LabelEncoder to transform them into numeric. "
   ]
  },
  {
   "cell_type": "code",
   "execution_count": 14,
   "metadata": {
    "ExecuteTime": {
     "end_time": "2021-05-12T04:30:35.150363Z",
     "start_time": "2021-05-12T04:30:35.103172Z"
    }
   },
   "outputs": [],
   "source": [
    "from sklearn.linear_model import LogisticRegression\n",
    "from sklearn import preprocessing\n",
    "le = preprocessing.LabelEncoder()\n",
    "le.fit(behold_prod['label'].astype(str))\n",
    "y=le.transform(behold_prod['label'].astype(str))"
   ]
  },
  {
   "cell_type": "markdown",
   "metadata": {},
   "source": [
    "# Models explored"
   ]
  },
  {
   "cell_type": "markdown",
   "metadata": {},
   "source": [
    "## Logistic Regression"
   ]
  },
  {
   "cell_type": "markdown",
   "metadata": {},
   "source": [
    "We tried logistic regression algorithm on the vectorized lemmtized description with different vectorizing method (countvectorize, tfidf), and run them with or without encoded features. \n",
    "\n",
    "The best performance is from LR on CountVectorisation(no PCA) + Encoded Features (PCA), which has around 90% accuracy. \n"
   ]
  },
  {
   "cell_type": "code",
   "execution_count": 25,
   "metadata": {
    "ExecuteTime": {
     "end_time": "2021-05-11T12:34:54.928962Z",
     "start_time": "2021-05-11T12:34:54.921712Z"
    }
   },
   "outputs": [],
   "source": [
    "# Fix number of iterations\n",
    "iteration_count=1"
   ]
  },
  {
   "cell_type": "markdown",
   "metadata": {},
   "source": [
    "### LR on CountVectorisation(without PCA)"
   ]
  },
  {
   "cell_type": "markdown",
   "metadata": {},
   "source": [
    "First we run a LR model on the count vectorized lemma description, without PCA, without adding encoded features. The accuracy is around 88%. "
   ]
  },
  {
   "cell_type": "code",
   "execution_count": 26,
   "metadata": {
    "ExecuteTime": {
     "end_time": "2021-05-11T12:37:35.917672Z",
     "start_time": "2021-05-11T12:37:35.907459Z"
    }
   },
   "outputs": [],
   "source": [
    "lr=LogisticRegression(max_iter=500)"
   ]
  },
  {
   "cell_type": "code",
   "execution_count": 27,
   "metadata": {
    "ExecuteTime": {
     "end_time": "2021-05-11T12:38:51.756691Z",
     "start_time": "2021-05-11T12:38:14.278642Z"
    }
   },
   "outputs": [
    {
     "name": "stdout",
     "output_type": "stream",
     "text": [
      "0.8828131366636786\n"
     ]
    }
   ],
   "source": [
    "for n in range(0,iteration_count):\n",
    "    X_train,X_test,y_train,y_test=train_test_split(X_cv,y, test_size=0.2, random_state=n,stratify=y)\n",
    "\n",
    "    lr.fit(X_train, y_train)\n",
    "    y_pred = lr.predict(X_test)\n",
    "\n",
    "    # calculate accuracy\n",
    "    print(np.mean(y_pred == y_test))"
   ]
  },
  {
   "cell_type": "markdown",
   "metadata": {},
   "source": [
    "### LR on CountVectorisation(with PCA)"
   ]
  },
  {
   "cell_type": "markdown",
   "metadata": {},
   "source": [
    "Then we run the same model with principle components. The accuracy drops a little. "
   ]
  },
  {
   "cell_type": "code",
   "execution_count": 28,
   "metadata": {},
   "outputs": [
    {
     "name": "stdout",
     "output_type": "stream",
     "text": [
      "0.8642327438676555\n"
     ]
    }
   ],
   "source": [
    "for n in range(0,iteration_count):\n",
    "    X_train,X_test,y_train,y_test=train_test_split(princ_comps_cv ,y, test_size=0.2, random_state=n,stratify=y)\n",
    "\n",
    "    lr.fit(X_train, y_train)\n",
    "    y_pred = lr.predict(X_test)\n",
    "\n",
    "    # calculate accuracy\n",
    "    print(np.mean(y_pred == y_test))"
   ]
  },
  {
   "cell_type": "code",
   "execution_count": null,
   "metadata": {},
   "outputs": [],
   "source": []
  },
  {
   "cell_type": "markdown",
   "metadata": {},
   "source": [
    "### LR on CountVectorisation(non PCA) + Encoded Features (PCA)"
   ]
  },
  {
   "cell_type": "markdown",
   "metadata": {},
   "source": [
    "This time we added encoded features' PCA to the input variables. The accuracy improved from 88% to nearly 90%. This means our encoded features are useful in terms of predicting brands. "
   ]
  },
  {
   "cell_type": "code",
   "execution_count": 29,
   "metadata": {
    "ExecuteTime": {
     "end_time": "2021-05-11T12:39:08.165619Z",
     "start_time": "2021-05-11T12:39:08.163427Z"
    }
   },
   "outputs": [],
   "source": [
    "#X_all=np.concatenate([X_cv.toarray(),features_princ_comps],axis=1)\n",
    "X_all = cv_featPca_1"
   ]
  },
  {
   "cell_type": "code",
   "execution_count": 30,
   "metadata": {
    "ExecuteTime": {
     "end_time": "2021-05-11T12:39:18.367657Z",
     "start_time": "2021-05-11T12:39:18.363412Z"
    }
   },
   "outputs": [
    {
     "data": {
      "text/plain": [
       "(61355, 2743)"
      ]
     },
     "execution_count": 30,
     "metadata": {},
     "output_type": "execute_result"
    }
   ],
   "source": [
    "X_all.shape"
   ]
  },
  {
   "cell_type": "code",
   "execution_count": 31,
   "metadata": {
    "ExecuteTime": {
     "end_time": "2021-05-11T12:40:20.309850Z",
     "start_time": "2021-05-11T12:39:19.828897Z"
    },
    "scrolled": true
   },
   "outputs": [
    {
     "name": "stdout",
     "output_type": "stream",
     "text": [
      "0.9054681770026892\n"
     ]
    }
   ],
   "source": [
    "for n in range(0,1):\n",
    "    X_train,X_test,y_train,y_test=train_test_split(X_all ,y, test_size=0.2, random_state=n,stratify=y)\n",
    "\n",
    "    lr.fit(X_train, y_train)\n",
    "    y_pred = lr.predict(X_test)\n",
    "\n",
    "    # calculate accuracy\n",
    "    print(np.mean(y_pred == y_test))"
   ]
  },
  {
   "cell_type": "markdown",
   "metadata": {},
   "source": [
    "### LR on CountVectorisation(PCA) + Encoded Features (non PCA)"
   ]
  },
  {
   "cell_type": "markdown",
   "metadata": {},
   "source": [
    "Another LR model runs on conunvectors' pca and encoded features without pca. The performance drops a little but is still better than the model without encoded features. "
   ]
  },
  {
   "cell_type": "code",
   "execution_count": 32,
   "metadata": {
    "ExecuteTime": {
     "end_time": "2021-05-11T12:40:27.732325Z",
     "start_time": "2021-05-11T12:40:27.727870Z"
    }
   },
   "outputs": [],
   "source": [
    "#X_all=np.concatenate([princ_comps_cv,cat_feat_array],axis=1)\n",
    "X_all = cvPca_feat_2"
   ]
  },
  {
   "cell_type": "code",
   "execution_count": 33,
   "metadata": {
    "ExecuteTime": {
     "end_time": "2021-05-11T12:40:40.910924Z",
     "start_time": "2021-05-11T12:40:40.905195Z"
    }
   },
   "outputs": [
    {
     "data": {
      "text/plain": [
       "(61355, 550)"
      ]
     },
     "execution_count": 33,
     "metadata": {},
     "output_type": "execute_result"
    }
   ],
   "source": [
    "X_all.shape"
   ]
  },
  {
   "cell_type": "code",
   "execution_count": 34,
   "metadata": {
    "ExecuteTime": {
     "end_time": "2021-05-11T12:43:56.437452Z",
     "start_time": "2021-05-11T12:40:51.216675Z"
    }
   },
   "outputs": [
    {
     "name": "stdout",
     "output_type": "stream",
     "text": [
      "0.8871322630592454\n"
     ]
    }
   ],
   "source": [
    "for n in range(0,1):\n",
    "    X_train,X_test,y_train,y_test=train_test_split(X_all ,y, test_size=0.2, random_state=n,stratify=y)\n",
    "\n",
    "    lr.fit(X_train, y_train)\n",
    "    y_pred = lr.predict(X_test)\n",
    "\n",
    "    # calculate accuracy\n",
    "    print(np.mean(y_pred == y_test))"
   ]
  },
  {
   "cell_type": "markdown",
   "metadata": {},
   "source": [
    "### LR on CountVectorisation(PCA) + Encoded Features (PCA)"
   ]
  },
  {
   "cell_type": "markdown",
   "metadata": {},
   "source": [
    "This model runs on conunvectors' pca and encoded features pca. This performed slightly worse than the countvectorisation(no pca) + encoded features (PCA). But considering the input variables for this has lower dimensions, we will use this one as our baseline for reference. "
   ]
  },
  {
   "cell_type": "code",
   "execution_count": 31,
   "metadata": {
    "ExecuteTime": {
     "end_time": "2021-05-11T12:45:36.154537Z",
     "start_time": "2021-05-11T12:45:36.150936Z"
    }
   },
   "outputs": [],
   "source": [
    "#X_all=np.concatenate([princ_comps_cv,features_princ_comps],axis=1)\n",
    "X_all = cvPca_featPca_3"
   ]
  },
  {
   "cell_type": "code",
   "execution_count": 32,
   "metadata": {
    "ExecuteTime": {
     "end_time": "2021-05-11T12:45:37.856375Z",
     "start_time": "2021-05-11T12:45:37.850963Z"
    }
   },
   "outputs": [
    {
     "data": {
      "text/plain": [
       "(61355, 520)"
      ]
     },
     "execution_count": 32,
     "metadata": {},
     "output_type": "execute_result"
    }
   ],
   "source": [
    "X_all.shape"
   ]
  },
  {
   "cell_type": "code",
   "execution_count": 33,
   "metadata": {
    "ExecuteTime": {
     "end_time": "2021-05-11T12:47:43.101894Z",
     "start_time": "2021-05-11T12:46:22.024349Z"
    }
   },
   "outputs": [
    {
     "name": "stdout",
     "output_type": "stream",
     "text": [
      "0.8942221497840437\n"
     ]
    }
   ],
   "source": [
    "for n in range(0,1):\n",
    "    X_train,X_test,y_train,y_test=train_test_split(X_all ,y, test_size=0.2, random_state=n,stratify=y)\n",
    "\n",
    "    lr.fit(X_train, y_train)\n",
    "    y_pred = lr.predict(X_test)\n",
    "\n",
    "    # calculate accuracy\n",
    "    print(np.mean(y_pred == y_test))"
   ]
  },
  {
   "cell_type": "markdown",
   "metadata": {},
   "source": [
    "### LR on TF-IDF(with PCA)"
   ]
  },
  {
   "cell_type": "markdown",
   "metadata": {},
   "source": [
    "Instead of using the Countvectorizer, we use TFIDF to vectorize the lemma descriptions. As you can see the performance is not as good as the ones using Countvectorizer. "
   ]
  },
  {
   "cell_type": "code",
   "execution_count": 93,
   "metadata": {},
   "outputs": [
    {
     "name": "stdout",
     "output_type": "stream",
     "text": [
      "0.7543802461087116\n",
      "0.7544617390595714\n"
     ]
    }
   ],
   "source": [
    "for n in range(0,2):\n",
    "    X_train,X_test,y_train,y_test=train_test_split(princ_comps_tfidf ,y, test_size=0.2, random_state=n,stratify=y)\n",
    "\n",
    "    lr.fit(X_train, y_train)\n",
    "    y_pred = lr.predict(X_test)\n",
    "\n",
    "    # calculate accuracy\n",
    "    print(np.mean(y_pred == y_test))"
   ]
  },
  {
   "cell_type": "code",
   "execution_count": null,
   "metadata": {},
   "outputs": [],
   "source": []
  },
  {
   "cell_type": "markdown",
   "metadata": {},
   "source": [
    "### LR on TF-IDF+Encoded Features (both PCA)"
   ]
  },
  {
   "cell_type": "markdown",
   "metadata": {},
   "source": [
    "This model uses TFIDF vectorized lemma descriptions with pca plus the encoded features with pca. "
   ]
  },
  {
   "cell_type": "code",
   "execution_count": 30,
   "metadata": {
    "ExecuteTime": {
     "end_time": "2021-05-11T12:43:57.335901Z",
     "start_time": "2021-05-11T12:43:57.331615Z"
    }
   },
   "outputs": [],
   "source": [
    "#X_all=np.concatenate([princ_comps_tfidf,features_princ_comps],axis=1)\n",
    "X_all = tfidfPca_featPca_4"
   ]
  },
  {
   "cell_type": "code",
   "execution_count": 95,
   "metadata": {},
   "outputs": [
    {
     "name": "stdout",
     "output_type": "stream",
     "text": [
      "0.7956971721946051\n",
      "0.8015646646565072\n"
     ]
    }
   ],
   "source": [
    "for n in range(0,2):\n",
    "    X_train,X_test,y_train,y_test=train_test_split(X_all ,y, test_size=0.2, random_state=n,stratify=y)\n",
    "\n",
    "    lr.fit(X_train, y_train)\n",
    "    y_pred = lr.predict(X_test)\n",
    "\n",
    "    # calculate accuracy\n",
    "    print(np.mean(y_pred == y_test))"
   ]
  },
  {
   "cell_type": "code",
   "execution_count": null,
   "metadata": {},
   "outputs": [],
   "source": []
  },
  {
   "cell_type": "markdown",
   "metadata": {},
   "source": [
    "## Deep Learning"
   ]
  },
  {
   "cell_type": "markdown",
   "metadata": {},
   "source": [
    "We used keras library to run the deep learning model. We tried running with or without pretrained embeddings (GloVe), with or without encoded features.\n",
    "\n",
    "For all the deep learning models, we don't have the running outputs in this notebook. Because they were run on another computer. But the model performances were documented below. "
   ]
  },
  {
   "cell_type": "code",
   "execution_count": 15,
   "metadata": {
    "ExecuteTime": {
     "end_time": "2021-05-12T04:30:49.771471Z",
     "start_time": "2021-05-12T04:30:49.751715Z"
    }
   },
   "outputs": [],
   "source": [
    "## label the dependent variable\n",
    "\n",
    "from keras.utils import to_categorical\n",
    "from sklearn.preprocessing import LabelEncoder\n",
    "encoder = LabelEncoder()\n",
    "labels=behold_prod['label']\n",
    "labels = to_categorical(encoder.fit_transform(labels))"
   ]
  },
  {
   "cell_type": "markdown",
   "metadata": {},
   "source": [
    "The input varibles are from the padded_docs created in the second notebook."
   ]
  },
  {
   "cell_type": "code",
   "execution_count": 16,
   "metadata": {
    "ExecuteTime": {
     "end_time": "2021-05-12T04:30:52.016532Z",
     "start_time": "2021-05-12T04:30:51.893117Z"
    }
   },
   "outputs": [],
   "source": [
    "## split train and test \n",
    "from sklearn.model_selection import train_test_split\n",
    "X_train, X_test, y_train, y_test = train_test_split(padded_docs, labels, test_size=0.2)\n"
   ]
  },
  {
   "cell_type": "markdown",
   "metadata": {},
   "source": [
    "### Without Pretrained Embeddings + Without encoded Features"
   ]
  },
  {
   "cell_type": "markdown",
   "metadata": {},
   "source": [
    "First we build a model without pretrained embbeddings (weights), just let the algorithm to decide. This is the baseline for deep learning models. \n",
    "\n",
    "The accuacy is around 82%."
   ]
  },
  {
   "cell_type": "markdown",
   "metadata": {},
   "source": [
    "We set the max_length to be 300. The embedding shape will be (300,300)"
   ]
  },
  {
   "cell_type": "code",
   "execution_count": 25,
   "metadata": {
    "ExecuteTime": {
     "end_time": "2021-05-12T05:35:15.749502Z",
     "start_time": "2021-05-12T05:35:15.745972Z"
    }
   },
   "outputs": [
    {
     "name": "stdout",
     "output_type": "stream",
     "text": [
      "Vocab size is 45548 unique tokens.\n"
     ]
    }
   ],
   "source": [
    "max_length=300\n",
    "vocab_size = int(len(tokenizer_word_index) * 1.3)\n",
    "print(f\"Vocab size is {vocab_size} unique tokens.\")"
   ]
  },
  {
   "cell_type": "code",
   "execution_count": 18,
   "metadata": {
    "ExecuteTime": {
     "end_time": "2021-05-12T04:31:00.770317Z",
     "start_time": "2021-05-12T04:31:00.481711Z"
    }
   },
   "outputs": [
    {
     "name": "stdout",
     "output_type": "stream",
     "text": [
      "Model: \"sequential\"\n",
      "_________________________________________________________________\n",
      "Layer (type)                 Output Shape              Param #   \n",
      "=================================================================\n",
      "embedding (Embedding)        (None, 300, 300)          13664400  \n",
      "_________________________________________________________________\n",
      "flatten (Flatten)            (None, 90000)             0         \n",
      "_________________________________________________________________\n",
      "dense (Dense)                (None, 31)                2790031   \n",
      "=================================================================\n",
      "Total params: 16,454,431\n",
      "Trainable params: 16,454,431\n",
      "Non-trainable params: 0\n",
      "_________________________________________________________________\n",
      "None\n"
     ]
    }
   ],
   "source": [
    "model = Sequential()\n",
    "model.add(Embedding(vocab_size, 300, input_length=max_length))\n",
    "model.add(Flatten()) \n",
    "model.add(Dense(31, activation='softmax')) \n",
    "model.compile(optimizer='adam', loss='binary_crossentropy', metrics=['acc'])\n",
    "# summarize the model\n",
    "print(model.summary())"
   ]
  },
  {
   "cell_type": "code",
   "execution_count": null,
   "metadata": {
    "ExecuteTime": {
     "start_time": "2021-05-12T04:31:03.408Z"
    }
   },
   "outputs": [],
   "source": [
    "# fit the model\n",
    "model.fit(X_train, y_train, epochs=30, verbose=0)\n",
    "# evaluate the model\n",
    "loss, accuracy = model.evaluate(X_test, y_test, verbose=0)\n",
    "print('Accuracy: %f' % (accuracy*100))"
   ]
  },
  {
   "cell_type": "markdown",
   "metadata": {},
   "source": [
    " ### With Pretrained Embeddings + Without encoded Features"
   ]
  },
  {
   "cell_type": "markdown",
   "metadata": {},
   "source": [
    "The second deep learning model we tried uses the GloVe embeddings only, without adding and encoded features. \n",
    "\n",
    "The model accuracy is around 84%. "
   ]
  },
  {
   "cell_type": "code",
   "execution_count": null,
   "metadata": {
    "ExecuteTime": {
     "end_time": "2021-05-11T14:34:50.051714Z",
     "start_time": "2021-05-11T14:34:49.906342Z"
    }
   },
   "outputs": [],
   "source": [
    "# define model\n",
    "model = Sequential()\n",
    "e = Embedding(vocab_size, 100,weights=[embedding_matrix], input_length=300, trainable=False)\n",
    "model.add(e)\n",
    "model.add(Flatten())\n",
    "model.add(Dense(31, activation='sigmoid'))\n",
    "print(model.summary())"
   ]
  },
  {
   "cell_type": "code",
   "execution_count": null,
   "metadata": {
    "ExecuteTime": {
     "end_time": "2021-05-11T14:37:47.628727Z",
     "start_time": "2021-05-11T14:34:54.130132Z"
    }
   },
   "outputs": [],
   "source": [
    "model.compile(optimizer='adam', loss='binary_crossentropy', metrics=['acc'])\n",
    "# fit the model\n",
    "model.fit(X_train, y_train, epochs=30, verbose=0)\n",
    "# evaluate the model\n",
    "loss, accuracy = model.evaluate(X_test, y_test, verbose=0)\n",
    "print('Accuracy: %f' % (accuracy*100))"
   ]
  },
  {
   "cell_type": "markdown",
   "metadata": {},
   "source": [
    "### With Pretrained Embeddings + Encoded Features as an additional layer"
   ]
  },
  {
   "cell_type": "markdown",
   "metadata": {},
   "source": [
    "We also tried adding encoded features as an additional layer on top of the pretrained embeddings. \n",
    "\n",
    "But the performance is as good as the other ones. It only has less than 80% accuracy. "
   ]
  },
  {
   "cell_type": "code",
   "execution_count": null,
   "metadata": {
    "ExecuteTime": {
     "end_time": "2021-05-11T14:38:11.446205Z",
     "start_time": "2021-05-11T14:38:11.442093Z"
    }
   },
   "outputs": [],
   "source": [
    "vocab_size = int(len(tokenizer_word_index) * 1.3)\n",
    "print(f\"Vocab size is {vocab_size} unique tokens.\")"
   ]
  },
  {
   "cell_type": "code",
   "execution_count": null,
   "metadata": {
    "ExecuteTime": {
     "end_time": "2021-05-11T14:38:12.648483Z",
     "start_time": "2021-05-11T14:38:12.645800Z"
    }
   },
   "outputs": [],
   "source": [
    "length_cat_array=cat_feat_array.shape[1]"
   ]
  },
  {
   "cell_type": "code",
   "execution_count": null,
   "metadata": {
    "ExecuteTime": {
     "end_time": "2021-05-11T14:38:13.927412Z",
     "start_time": "2021-05-11T14:38:13.921705Z"
    }
   },
   "outputs": [],
   "source": [
    "length_cat_array"
   ]
  },
  {
   "cell_type": "code",
   "execution_count": null,
   "metadata": {
    "ExecuteTime": {
     "end_time": "2021-05-11T14:38:16.735516Z",
     "start_time": "2021-05-11T14:38:16.532404Z"
    }
   },
   "outputs": [],
   "source": [
    "import keras\n",
    "model=Sequential()\n",
    "# Use Input layers, specify input shape (dimensions except first)\n",
    "inp_text_data = keras.layers.Input(shape=(300,))\n",
    "inp_cat_data = keras.layers.Input(shape=(length_cat_array))\n",
    "# Bind nulti_hot to embedding layer\n",
    "emb = keras.layers.Embedding(vocab_size,input_length=300,weights=[embedding_matrix], output_dim=100,trainable=False)(inp_text_data)  \n",
    "# Also you need flatten embedded output of shape (?,3,2) to (?, 6) -\n",
    "# otherwise it's not possible to concatenate it with inp_num_data\n",
    "flatten = keras.layers.Flatten()(emb)\n",
    "# Concatenate two layers\n",
    "conc = keras.layers.Concatenate()([flatten, inp_cat_data])\n",
    "# dense1 = keras.layers.Dense(31)(conc)\n",
    "# Creating output layer\n",
    "out = keras.layers.Dense(31, activation='softmax')(conc)\n",
    "model = keras.Model(inputs=[inp_text_data, inp_cat_data], outputs=out)\n"
   ]
  },
  {
   "cell_type": "markdown",
   "metadata": {},
   "source": [
    "## RNN"
   ]
  },
  {
   "cell_type": "markdown",
   "metadata": {},
   "source": [
    "RNN is good at processing sequence data for prediction. Text can also be sequence data. We fit the RNN model with pre-trained embeddings on the lemmatized description corpus. \n"
   ]
  },
  {
   "cell_type": "markdown",
   "metadata": {},
   "source": [
    "### Glove Embedding + RNN (no pca)"
   ]
  },
  {
   "cell_type": "markdown",
   "metadata": {},
   "source": [
    "In this model, we use the glove embeddings. The input variables are just the lemmatized desciption in the behold_prod dataframe. The accuracy is around 80%. "
   ]
  },
  {
   "cell_type": "code",
   "execution_count": null,
   "metadata": {
    "ExecuteTime": {
     "end_time": "2021-05-11T13:17:28.675653Z",
     "start_time": "2021-05-11T13:17:23.162691Z"
    }
   },
   "outputs": [],
   "source": [
    "# !python -m spacy download en_core_web_md"
   ]
  },
  {
   "cell_type": "code",
   "execution_count": 13,
   "metadata": {
    "ExecuteTime": {
     "end_time": "2021-05-12T05:34:29.660352Z",
     "start_time": "2021-05-12T05:34:29.657872Z"
    }
   },
   "outputs": [],
   "source": [
    "corpus = behold_prod['lemmatized_description']\n",
    "labels = behold_prod['label']"
   ]
  },
  {
   "cell_type": "code",
   "execution_count": 14,
   "metadata": {
    "ExecuteTime": {
     "end_time": "2021-05-12T05:34:33.630384Z",
     "start_time": "2021-05-12T05:34:31.511035Z"
    }
   },
   "outputs": [],
   "source": [
    "# ## tokenize text\n",
    "\n",
    "# from keras.preprocessing.text import Tokenizer\n",
    "# # so this means that all tokens that are not found in the vocabulary are going to be marked as UNKNOWN_TOKEN\n",
    "# tokenizer = Tokenizer(num_words=10000, oov_token=\"UNKNOWN_TOKEN\")\n",
    "# tokenizer.fit_on_texts(corpus)"
   ]
  },
  {
   "cell_type": "markdown",
   "metadata": {},
   "source": [
    "Use the tokenized word from the second notebook: tokenizer_word_index"
   ]
  },
  {
   "cell_type": "code",
   "execution_count": null,
   "metadata": {},
   "outputs": [],
   "source": [
    "vocab_size = int(len(tokenizer_word_index) * 1.3)\n",
    "print(f\"Vocab size is {vocab_size} unique tokens.\")"
   ]
  },
  {
   "cell_type": "markdown",
   "metadata": {},
   "source": [
    "Let's create a new padded docs here to provide some flexibility for model adjusting. "
   ]
  },
  {
   "cell_type": "code",
   "execution_count": 15,
   "metadata": {
    "ExecuteTime": {
     "end_time": "2021-05-12T05:34:36.384989Z",
     "start_time": "2021-05-12T05:34:34.967447Z"
    }
   },
   "outputs": [
    {
     "data": {
      "text/plain": [
       "[66, 39, 8, 7, 1]"
      ]
     },
     "execution_count": 15,
     "metadata": {},
     "output_type": "execute_result"
    }
   ],
   "source": [
    "from tensorflow.keras.preprocessing.sequence import pad_sequences\n",
    "def integer_encode_documents(docs, tokenizer):\n",
    "    return tokenizer.texts_to_sequences(docs)\n",
    "\n",
    "# integer encode the documents\n",
    "encoded_docs = integer_encode_documents(corpus, tokenizer)\n",
    "# see some lengths of the documents\n",
    "list(map(len, encoded_docs))[:5]"
   ]
  },
  {
   "cell_type": "code",
   "execution_count": 16,
   "metadata": {
    "ExecuteTime": {
     "end_time": "2021-05-12T05:34:37.707237Z",
     "start_time": "2021-05-12T05:34:37.699012Z"
    }
   },
   "outputs": [
    {
     "data": {
      "text/plain": [
       "513"
      ]
     },
     "execution_count": 16,
     "metadata": {},
     "output_type": "execute_result"
    }
   ],
   "source": [
    "max(list(map(len, encoded_docs)))"
   ]
  },
  {
   "cell_type": "markdown",
   "metadata": {},
   "source": [
    "Padding the encoded docs with length equals to the maximum length of encoded docs."
   ]
  },
  {
   "cell_type": "code",
   "execution_count": 17,
   "metadata": {
    "ExecuteTime": {
     "end_time": "2021-05-12T05:34:39.231743Z",
     "start_time": "2021-05-12T05:34:39.229376Z"
    }
   },
   "outputs": [],
   "source": [
    "# set MAX_SEQUENCE_LENGTH \n",
    "MAX_SEQUENCE_LENGTH = 513"
   ]
  },
  {
   "cell_type": "code",
   "execution_count": 18,
   "metadata": {
    "ExecuteTime": {
     "end_time": "2021-05-12T05:34:41.332236Z",
     "start_time": "2021-05-12T05:34:40.879065Z"
    }
   },
   "outputs": [],
   "source": [
    "padded_docs = pad_sequences(encoded_docs, maxlen=MAX_SEQUENCE_LENGTH, padding='post')"
   ]
  },
  {
   "cell_type": "code",
   "execution_count": 19,
   "metadata": {
    "ExecuteTime": {
     "end_time": "2021-05-12T05:34:42.636432Z",
     "start_time": "2021-05-12T05:34:42.619747Z"
    }
   },
   "outputs": [],
   "source": [
    "## encode the label\n",
    "encoder = LabelEncoder()\n",
    "labels = to_categorical(encoder.fit_transform(labels))"
   ]
  },
  {
   "cell_type": "code",
   "execution_count": 20,
   "metadata": {
    "ExecuteTime": {
     "end_time": "2021-05-12T05:34:45.600959Z",
     "start_time": "2021-05-12T05:34:45.504437Z"
    }
   },
   "outputs": [],
   "source": [
    "## split train and test\n",
    "## independent variables using the new padded docs we just created \n",
    "X_train, X_test, y_train, y_test = train_test_split(padded_docs, labels, test_size=0.3)"
   ]
  },
  {
   "cell_type": "code",
   "execution_count": 22,
   "metadata": {
    "ExecuteTime": {
     "end_time": "2021-05-12T05:34:49.066545Z",
     "start_time": "2021-05-12T05:34:49.063536Z"
    }
   },
   "outputs": [],
   "source": [
    "# define the model \n",
    "import keras\n",
    "from keras.layers.recurrent import SimpleRNN, LSTM\n",
    "from keras.layers import Flatten, Masking\n"
   ]
  },
  {
   "cell_type": "code",
   "execution_count": 27,
   "metadata": {
    "ExecuteTime": {
     "end_time": "2021-05-12T05:36:09.468134Z",
     "start_time": "2021-05-12T05:36:09.461835Z"
    }
   },
   "outputs": [],
   "source": [
    "## define the rnn model \n",
    "def make_classification_rnn_model(plot=False):\n",
    "    model =  keras.models.Sequential()\n",
    "    model.add(Embedding(vocab_size, 100, weights=[embedding_matrix], input_length=MAX_SEQUENCE_LENGTH, trainable=False))\n",
    "    model.add(Masking(mask_value=0.0)) # masking layer, masks any words that don't have an embedding as 0s.\n",
    "    model.add(SimpleRNN(units=128, input_shape=(1, MAX_SEQUENCE_LENGTH)))\n",
    "    model.add(Dense(64))\n",
    "    model.add(Dense(31, activation='softmax')) ## if multiple class, better use softmax rather than sigmoid\n",
    "    \n",
    "    # Compile the model\n",
    "    model.compile(\n",
    "    optimizer='adam', loss='categorical_crossentropy', metrics=['accuracy'])\n",
    "    # summarize the model\n",
    "    model.summary()\n",
    "    \n",
    "    if plot:\n",
    "        plot_model(model, to_file='model.png', show_shapes=True)\n",
    "    return model"
   ]
  },
  {
   "cell_type": "code",
   "execution_count": 28,
   "metadata": {
    "ExecuteTime": {
     "end_time": "2021-05-12T05:36:11.439985Z",
     "start_time": "2021-05-12T05:36:11.237462Z"
    }
   },
   "outputs": [
    {
     "name": "stdout",
     "output_type": "stream",
     "text": [
      "Model: \"sequential_2\"\n",
      "_________________________________________________________________\n",
      "Layer (type)                 Output Shape              Param #   \n",
      "=================================================================\n",
      "embedding (Embedding)        (None, 513, 100)          4554800   \n",
      "_________________________________________________________________\n",
      "masking (Masking)            (None, 513, 100)          0         \n",
      "_________________________________________________________________\n",
      "simple_rnn (SimpleRNN)       (None, 128)               29312     \n",
      "_________________________________________________________________\n",
      "dense (Dense)                (None, 64)                8256      \n",
      "_________________________________________________________________\n",
      "dense_1 (Dense)              (None, 31)                2015      \n",
      "=================================================================\n",
      "Total params: 4,594,383\n",
      "Trainable params: 39,583\n",
      "Non-trainable params: 4,554,800\n",
      "_________________________________________________________________\n"
     ]
    }
   ],
   "source": [
    "## compile the model\n",
    "model = make_classification_rnn_model()"
   ]
  },
  {
   "cell_type": "code",
   "execution_count": 29,
   "metadata": {
    "ExecuteTime": {
     "end_time": "2021-05-12T05:36:21.818867Z",
     "start_time": "2021-05-12T05:36:21.814981Z"
    }
   },
   "outputs": [
    {
     "data": {
      "text/plain": [
       "(42948, 31)"
      ]
     },
     "execution_count": 29,
     "metadata": {},
     "output_type": "execute_result"
    }
   ],
   "source": [
    "y_train.shape"
   ]
  },
  {
   "cell_type": "code",
   "execution_count": 30,
   "metadata": {
    "ExecuteTime": {
     "end_time": "2021-05-12T06:12:52.754282Z",
     "start_time": "2021-05-12T05:36:23.964913Z"
    }
   },
   "outputs": [
    {
     "name": "stdout",
     "output_type": "stream",
     "text": [
      "Epoch 1/20\n",
      "604/604 [==============================] - 114s 188ms/step - loss: 1.8045 - accuracy: 0.5421 - val_loss: 1.0554 - val_accuracy: 0.7185\n",
      "Epoch 2/20\n",
      "604/604 [==============================] - 120s 198ms/step - loss: 0.9715 - accuracy: 0.7393 - val_loss: 0.8979 - val_accuracy: 0.7618\n",
      "Epoch 3/20\n",
      "604/604 [==============================] - 110s 182ms/step - loss: 0.8000 - accuracy: 0.7842 - val_loss: 0.8203 - val_accuracy: 0.7814\n",
      "Epoch 4/20\n",
      "604/604 [==============================] - 109s 180ms/step - loss: 0.7396 - accuracy: 0.8002 - val_loss: 0.8405 - val_accuracy: 0.7739\n",
      "Epoch 5/20\n",
      "604/604 [==============================] - 116s 191ms/step - loss: 0.6614 - accuracy: 0.8186 - val_loss: 0.7744 - val_accuracy: 0.7972\n",
      "Epoch 6/20\n",
      "604/604 [==============================] - 106s 176ms/step - loss: 0.6168 - accuracy: 0.8324 - val_loss: 0.7940 - val_accuracy: 0.7965\n",
      "Epoch 7/20\n",
      "604/604 [==============================] - 105s 174ms/step - loss: 0.5760 - accuracy: 0.8432 - val_loss: 0.7631 - val_accuracy: 0.7998\n",
      "Epoch 8/20\n",
      "604/604 [==============================] - 101s 167ms/step - loss: 0.5366 - accuracy: 0.8530 - val_loss: 0.7708 - val_accuracy: 0.7963\n",
      "Epoch 9/20\n",
      "604/604 [==============================] - 110s 182ms/step - loss: 0.5204 - accuracy: 0.8550 - val_loss: 0.7762 - val_accuracy: 0.8033\n",
      "Epoch 10/20\n",
      "604/604 [==============================] - 101s 168ms/step - loss: 0.5205 - accuracy: 0.8559 - val_loss: 0.7964 - val_accuracy: 0.7974\n",
      "Epoch 11/20\n",
      "604/604 [==============================] - 109s 180ms/step - loss: 0.4867 - accuracy: 0.8684 - val_loss: 0.7811 - val_accuracy: 0.8044\n",
      "Epoch 12/20\n",
      "604/604 [==============================] - 115s 190ms/step - loss: 0.4764 - accuracy: 0.8690 - val_loss: 0.7865 - val_accuracy: 0.8044\n",
      "Epoch 13/20\n",
      "604/604 [==============================] - 111s 184ms/step - loss: 0.4576 - accuracy: 0.8734 - val_loss: 0.7706 - val_accuracy: 0.8063\n",
      "Epoch 14/20\n",
      "604/604 [==============================] - 112s 185ms/step - loss: 0.4342 - accuracy: 0.8785 - val_loss: 0.7527 - val_accuracy: 0.8133\n",
      "Epoch 15/20\n",
      "604/604 [==============================] - 115s 190ms/step - loss: 0.4336 - accuracy: 0.8817 - val_loss: 0.7719 - val_accuracy: 0.8142\n",
      "Epoch 16/20\n",
      "604/604 [==============================] - 114s 189ms/step - loss: 0.4296 - accuracy: 0.8829 - val_loss: 0.8581 - val_accuracy: 0.8026\n",
      "Epoch 17/20\n",
      "604/604 [==============================] - 109s 181ms/step - loss: 0.4174 - accuracy: 0.8852 - val_loss: 0.8209 - val_accuracy: 0.8056\n",
      "Epoch 18/20\n",
      "604/604 [==============================] - 108s 178ms/step - loss: 0.4208 - accuracy: 0.8842 - val_loss: 0.7889 - val_accuracy: 0.8165\n",
      "Epoch 19/20\n",
      "604/604 [==============================] - 103s 171ms/step - loss: 0.3929 - accuracy: 0.8919 - val_loss: 0.8063 - val_accuracy: 0.8114\n",
      "Epoch 20/20\n",
      "604/604 [==============================] - 101s 168ms/step - loss: 0.4083 - accuracy: 0.8893 - val_loss: 0.8469 - val_accuracy: 0.8005\n"
     ]
    }
   ],
   "source": [
    "# fit the model\n",
    "history = model.fit(X_train, y_train, validation_split = 0.1, \n",
    "                    epochs=20, batch_size=64, verbose=1)"
   ]
  },
  {
   "cell_type": "code",
   "execution_count": 32,
   "metadata": {
    "ExecuteTime": {
     "end_time": "2021-05-12T06:13:27.481183Z",
     "start_time": "2021-05-12T06:13:27.280930Z"
    }
   },
   "outputs": [
    {
     "data": {
      "image/png": "[encoded data removed]",
      "text/plain": [
       "<Figure size 432x288 with 1 Axes>"
      ]
     },
     "metadata": {
      "needs_background": "light"
     },
     "output_type": "display_data"
    }
   ],
   "source": [
    "import keras\n",
    "from matplotlib import pyplot as plt\n",
    "\n",
    "def plot_fit_history(history):\n",
    "    plt.plot(history.history['accuracy'])\n",
    "    plt.plot(history.history['val_accuracy'])\n",
    "    plt.title('model accuracy')\n",
    "    plt.ylabel('accuracy')\n",
    "    plt.xlabel('epoch')\n",
    "    plt.legend(['train', 'val'], loc='upper left')\n",
    "    plt.show()\n",
    "plot_fit_history(history)"
   ]
  },
  {
   "cell_type": "code",
   "execution_count": 33,
   "metadata": {
    "ExecuteTime": {
     "end_time": "2021-05-12T06:13:50.327085Z",
     "start_time": "2021-05-12T06:13:30.721640Z"
    },
    "code_folding": []
   },
   "outputs": [
    {
     "name": "stdout",
     "output_type": "stream",
     "text": [
      "576/576 [==============================] - 20s 34ms/step - loss: 0.8141 - accuracy: 0.8095\n",
      "Accuracy: 80.952901\n"
     ]
    }
   ],
   "source": [
    "# evaluate the model\n",
    "loss, accuracy = model.evaluate(X_test, y_test, verbose=1)\n",
    "print('Accuracy: %f' % (accuracy*100))"
   ]
  },
  {
   "cell_type": "code",
   "execution_count": null,
   "metadata": {},
   "outputs": [],
   "source": []
  },
  {
   "cell_type": "markdown",
   "metadata": {},
   "source": [
    "## LSTM"
   ]
  },
  {
   "cell_type": "markdown",
   "metadata": {},
   "source": [
    "### Glove Embeddings + LSTM (no pca)"
   ]
  },
  {
   "cell_type": "markdown",
   "metadata": {},
   "source": [
    "LSTM stands for long short term memory. They are extremely powerful time-series models. They can predict an arbitrary number of steps into the future. An LSTM module (or cell) has 5 essential components which allows it to model both long-term and short-term data. "
   ]
  },
  {
   "cell_type": "markdown",
   "metadata": {},
   "source": [
    "- Cell state (ct) - This represents the internal memory of the cell which stores both short term memory and long-term memories\n",
    "- Hidden state (ht) - This is output state information calculated w.r.t. current input, previous hidden state and current cell input which you eventually use to predict the future stock market prices. Additionally, the hidden state can decide to only retrive the short or - long-term or both types of memory stored in the cell state to make the next prediction.\n",
    "- Input gate (it) - Decides how much information from current input flows to the cell state\n",
    "- Forget gate (ft) - Decides how much information from the current input and the previous cell state flows into the current cell state\n",
    "- Output gate (ot) - Decides how much information from the current cell state flows into the hidden state, so that if needed LSTM can only pick the long-term memories or short-term memories and long-term memories"
   ]
  },
  {
   "cell_type": "markdown",
   "metadata": {
    "ExecuteTime": {
     "end_time": "2021-05-11T15:59:03.812609Z",
     "start_time": "2021-05-11T15:59:03.808927Z"
    }
   },
   "source": [
    "We tried to run LSTM with pretrained embeddings on lemmatized description corpus. The accuracy is around 89%. "
   ]
  },
  {
   "cell_type": "code",
   "execution_count": 34,
   "metadata": {
    "ExecuteTime": {
     "end_time": "2021-05-12T06:14:19.377644Z",
     "start_time": "2021-05-12T06:14:19.374582Z"
    }
   },
   "outputs": [],
   "source": [
    "import keras\n",
    "from keras.layers.recurrent import SimpleRNN, LSTM\n",
    "from keras.layers import Flatten, Masking"
   ]
  },
  {
   "cell_type": "code",
   "execution_count": 37,
   "metadata": {
    "ExecuteTime": {
     "end_time": "2021-05-12T06:14:41.581436Z",
     "start_time": "2021-05-12T06:14:41.576001Z"
    }
   },
   "outputs": [],
   "source": [
    "def make_lstm_classification_model(plot=False):\n",
    "    model =  keras.models.Sequential()\n",
    "    model.add(Embedding(vocab_size, 100, weights=[embedding_matrix], input_length=MAX_SEQUENCE_LENGTH, trainable=False))\n",
    "    model.add(Masking(mask_value=0.0)) # masking layer, masks any words that don't have an embedding as 0s.\n",
    "    model.add(LSTM(units=128, input_shape=(1, MAX_SEQUENCE_LENGTH)))\n",
    "    model.add(Dense(64))\n",
    "    model.add(Dense(31, activation='softmax'))\n",
    "    \n",
    "    # Compile the model\n",
    "    model.compile(\n",
    "    optimizer='adam', loss='categorical_crossentropy', metrics=['accuracy'])\n",
    "    # summarize the model\n",
    "    model.summary()\n",
    "    \n",
    "    if plot:\n",
    "        plot_model(model, to_file='model.png', show_shapes=True)\n",
    "    return model"
   ]
  },
  {
   "cell_type": "markdown",
   "metadata": {},
   "source": [
    "When fitting the model, we set the epochs to 10 and batch_size to 64 save some running time. But ideally if we more computing power, we can make 20 or more epochs. This may lead to better accuracy. "
   ]
  },
  {
   "cell_type": "code",
   "execution_count": null,
   "metadata": {
    "ExecuteTime": {
     "start_time": "2021-05-12T06:14:43.384Z"
    }
   },
   "outputs": [
    {
     "name": "stdout",
     "output_type": "stream",
     "text": [
      "Model: \"sequential_4\"\n",
      "_________________________________________________________________\n",
      "Layer (type)                 Output Shape              Param #   \n",
      "=================================================================\n",
      "embedding_1 (Embedding)      (None, 513, 100)          4554800   \n",
      "_________________________________________________________________\n",
      "masking_1 (Masking)          (None, 513, 100)          0         \n",
      "_________________________________________________________________\n",
      "lstm (LSTM)                  (None, 128)               117248    \n",
      "_________________________________________________________________\n",
      "dense_2 (Dense)              (None, 64)                8256      \n",
      "_________________________________________________________________\n",
      "dense_3 (Dense)              (None, 31)                2015      \n",
      "=================================================================\n",
      "Total params: 4,682,319\n",
      "Trainable params: 127,519\n",
      "Non-trainable params: 4,554,800\n",
      "_________________________________________________________________\n",
      "Epoch 1/10\n",
      "604/604 [==============================] - 274s 448ms/step - loss: 1.8088 - accuracy: 0.5343 - val_loss: 0.7888 - val_accuracy: 0.7872\n",
      "Epoch 2/10\n",
      "604/604 [==============================] - 273s 453ms/step - loss: 0.6725 - accuracy: 0.8180 - val_loss: 0.6248 - val_accuracy: 0.8289\n",
      "Epoch 3/10\n",
      "604/604 [==============================] - 280s 463ms/step - loss: 0.5308 - accuracy: 0.8604 - val_loss: 0.5564 - val_accuracy: 0.8533\n",
      "Epoch 4/10\n",
      "604/604 [==============================] - 278s 461ms/step - loss: 0.4427 - accuracy: 0.8810 - val_loss: 0.5295 - val_accuracy: 0.8584\n",
      "Epoch 5/10\n",
      "604/604 [==============================] - 281s 465ms/step - loss: 0.4016 - accuracy: 0.8919 - val_loss: 0.5075 - val_accuracy: 0.8687\n",
      "Epoch 6/10\n",
      "604/604 [==============================] - 279s 462ms/step - loss: 0.3672 - accuracy: 0.9039 - val_loss: 0.4867 - val_accuracy: 0.8736\n",
      "Epoch 7/10\n",
      "604/604 [==============================] - 279s 462ms/step - loss: 0.3318 - accuracy: 0.9116 - val_loss: 0.4810 - val_accuracy: 0.8785\n",
      "Epoch 8/10\n",
      "604/604 [==============================] - 275s 455ms/step - loss: 0.3267 - accuracy: 0.9143 - val_loss: 0.4944 - val_accuracy: 0.8738\n",
      "Epoch 9/10\n",
      " 44/604 [=>............................] - ETA: 3:57 - loss: 0.3283 - accuracy: 0.9093"
     ]
    }
   ],
   "source": [
    "## cimpile the model\n",
    "model = make_lstm_classification_model()\n",
    "# fit the model\n",
    "history = model.fit(X_train, y_train,validation_split = 0.1, epochs=10, batch_size=64,verbose=1)"
   ]
  },
  {
   "cell_type": "code",
   "execution_count": null,
   "metadata": {
    "ExecuteTime": {
     "end_time": "2021-05-11T13:53:59.552733Z",
     "start_time": "2021-05-11T13:53:42.701Z"
    }
   },
   "outputs": [],
   "source": [
    "plot_fit_history(history)"
   ]
  },
  {
   "cell_type": "code",
   "execution_count": null,
   "metadata": {
    "ExecuteTime": {
     "end_time": "2021-05-11T13:53:59.558478Z",
     "start_time": "2021-05-11T13:53:43.251Z"
    }
   },
   "outputs": [],
   "source": [
    "# evaluate the model\n",
    "loss, accuracy = model.evaluate(X_test, y_test, verbose=1)\n",
    "print('Accuracy: %f' % (accuracy*100))"
   ]
  },
  {
   "cell_type": "code",
   "execution_count": null,
   "metadata": {},
   "outputs": [],
   "source": []
  }
 ],
 "metadata": {
  "kernelspec": {
   "display_name": "Python 3",
   "language": "python",
   "name": "python3"
  },
  "language_info": {
   "codemirror_mode": {
    "name": "ipython",
    "version": 3
   },
   "file_extension": ".py",
   "mimetype": "text/x-python",
   "name": "python",
   "nbconvert_exporter": "python",
   "pygments_lexer": "ipython3",
   "version": "3.8.3"
  },
  "toc": {
   "base_numbering": 1,
   "nav_menu": {},
   "number_sections": true,
   "sideBar": true,
   "skip_h1_title": false,
   "title_cell": "Table of Contents",
   "title_sidebar": "Contents",
   "toc_cell": false,
   "toc_position": {
    "height": "calc(100% - 180px)",
    "left": "10px",
    "top": "150px",
    "width": "271.797px"
   },
   "toc_section_display": true,
   "toc_window_display": true
  },
  "varInspector": {
   "cols": {
    "lenName": 16,
    "lenType": 16,
    "lenVar": 40
   },
   "kernels_config": {
    "python": {
     "delete_cmd_postfix": "",
     "delete_cmd_prefix": "del ",
     "library": "var_list.py",
     "varRefreshCmd": "print(var_dic_list())"
    },
    "r": {
     "delete_cmd_postfix": ") ",
     "delete_cmd_prefix": "rm(",
     "library": "var_list.r",
     "varRefreshCmd": "cat(var_dic_list()) "
    }
   },
   "position": {
    "height": "552px",
    "left": "803px",
    "right": "20px",
    "top": "124px",
    "width": "487px"
   },
   "types_to_exclude": [
    "module",
    "function",
    "builtin_function_or_method",
    "instance",
    "_Feature"
   ],
   "window_display": false
  }
 },
 "nbformat": 4,
 "nbformat_minor": 5
}
