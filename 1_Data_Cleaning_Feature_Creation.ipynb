{
 "cells": [
  {
   "cell_type": "markdown",
   "metadata": {},
   "source": [
    "# Notebook 1\n",
    "\n",
    "The objective of this notebook is to clean the backend datasets, extract features and produce a file that can be used as an input to the modeling stage.\n",
    "\n",
    "_This notebook contains:_\n",
    "1. Data cleaning\n",
    "2. Feature Creation\n",
    "3. Feature extraction\n",
    "4. Lemmatizing / Stemming\n",
    "5. Brand Encoding"
   ]
  },
  {
   "cell_type": "markdown",
   "metadata": {},
   "source": [
    "# Import packages and data "
   ]
  },
  {
   "cell_type": "code",
   "execution_count": 7,
   "metadata": {
    "ExecuteTime": {
     "end_time": "2021-05-12T02:03:55.348253Z",
     "start_time": "2021-05-12T02:03:55.335992Z"
    }
   },
   "outputs": [],
   "source": [
    "import pandas as pd \n",
    "import numpy as np\n",
    "import re\n",
    "import regex as regex\n",
    "import time\n",
    "from tqdm import tqdm\n",
    "from collections import Counter\n",
    "from sklearn.linear_model import LogisticRegression\n",
    "from sklearn import preprocessing\n",
    "import nltk\n",
    "from nltk.collocations import BigramCollocationFinder, BigramAssocMeasures\n",
    "from nltk.stem import WordNetLemmatizer\n",
    "from nltk.stem import PorterStemmer\n",
    "from nltk import word_tokenize\n",
    "from nltk.corpus import wordnet\n",
    "lemmatizer = WordNetLemmatizer()\n",
    "from tqdm import tqdm\n"
   ]
  },
  {
   "cell_type": "code",
   "execution_count": 8,
   "metadata": {
    "ExecuteTime": {
     "end_time": "2021-05-12T02:04:56.097831Z",
     "start_time": "2021-05-12T02:03:55.539963Z"
    }
   },
   "outputs": [],
   "source": [
    "brands = pd.read_csv('behold_brands USC.csv')\n",
    "product = pd.read_excel('Behold+product+data+04262021.xlsx')"
   ]
  },
  {
   "cell_type": "markdown",
   "metadata": {},
   "source": [
    "**Quick peek into the data**"
   ]
  },
  {
   "cell_type": "code",
   "execution_count": 9,
   "metadata": {
    "ExecuteTime": {
     "end_time": "2021-05-12T02:04:56.312020Z",
     "start_time": "2021-05-12T02:04:56.271233Z"
    },
    "scrolled": true
   },
   "outputs": [
    {
     "data": {
      "text/html": [
       "<div>\n",
       "<style scoped>\n",
       "    .dataframe tbody tr th:only-of-type {\n",
       "        vertical-align: middle;\n",
       "    }\n",
       "\n",
       "    .dataframe tbody tr th {\n",
       "        vertical-align: top;\n",
       "    }\n",
       "\n",
       "    .dataframe thead th {\n",
       "        text-align: right;\n",
       "    }\n",
       "</style>\n",
       "<table border=\"1\" class=\"dataframe\">\n",
       "  <thead>\n",
       "    <tr style=\"text-align: right;\">\n",
       "      <th></th>\n",
       "      <th>brand_id</th>\n",
       "      <th>brand</th>\n",
       "      <th>brand_value</th>\n",
       "      <th>bio</th>\n",
       "      <th>quote</th>\n",
       "      <th>quote_attribute</th>\n",
       "      <th>intro</th>\n",
       "      <th>lifestyle_copy</th>\n",
       "      <th>short_bio</th>\n",
       "      <th>listing_bio</th>\n",
       "    </tr>\n",
       "  </thead>\n",
       "  <tbody>\n",
       "    <tr>\n",
       "      <th>0</th>\n",
       "      <td>01ESKR0CH2KYC7KBNTN0S38EQA</td>\n",
       "      <td>Mari Giudicelli</td>\n",
       "      <td>Handmade / Artisan Crafted</td>\n",
       "      <td>NaN</td>\n",
       "      <td>NaN</td>\n",
       "      <td>NaN</td>\n",
       "      <td>NaN</td>\n",
       "      <td>NaN</td>\n",
       "      <td>NaN</td>\n",
       "      <td>Behold Mari Giudicelli! This Brazilian shoe de...</td>\n",
       "    </tr>\n",
       "    <tr>\n",
       "      <th>1</th>\n",
       "      <td>01ESKR0CH2KYC7KBNTN0S38EQA</td>\n",
       "      <td>Mari Giudicelli</td>\n",
       "      <td>Sustainable</td>\n",
       "      <td>NaN</td>\n",
       "      <td>NaN</td>\n",
       "      <td>NaN</td>\n",
       "      <td>NaN</td>\n",
       "      <td>NaN</td>\n",
       "      <td>NaN</td>\n",
       "      <td>Behold Mari Giudicelli! This Brazilian shoe de...</td>\n",
       "    </tr>\n",
       "  </tbody>\n",
       "</table>\n",
       "</div>"
      ],
      "text/plain": [
       "                     brand_id            brand                 brand_value  \\\n",
       "0  01ESKR0CH2KYC7KBNTN0S38EQA  Mari Giudicelli  Handmade / Artisan Crafted   \n",
       "1  01ESKR0CH2KYC7KBNTN0S38EQA  Mari Giudicelli                 Sustainable   \n",
       "\n",
       "   bio quote quote_attribute intro lifestyle_copy short_bio  \\\n",
       "0  NaN   NaN             NaN   NaN            NaN       NaN   \n",
       "1  NaN   NaN             NaN   NaN            NaN       NaN   \n",
       "\n",
       "                                         listing_bio  \n",
       "0  Behold Mari Giudicelli! This Brazilian shoe de...  \n",
       "1  Behold Mari Giudicelli! This Brazilian shoe de...  "
      ]
     },
     "execution_count": 9,
     "metadata": {},
     "output_type": "execute_result"
    }
   ],
   "source": [
    "brands.head(2)"
   ]
  },
  {
   "cell_type": "code",
   "execution_count": 10,
   "metadata": {
    "ExecuteTime": {
     "end_time": "2021-05-12T02:04:56.870873Z",
     "start_time": "2021-05-12T02:04:56.392862Z"
    }
   },
   "outputs": [
    {
     "data": {
      "text/html": [
       "<div>\n",
       "<style scoped>\n",
       "    .dataframe tbody tr th:only-of-type {\n",
       "        vertical-align: middle;\n",
       "    }\n",
       "\n",
       "    .dataframe tbody tr th {\n",
       "        vertical-align: top;\n",
       "    }\n",
       "\n",
       "    .dataframe thead th {\n",
       "        text-align: right;\n",
       "    }\n",
       "</style>\n",
       "<table border=\"1\" class=\"dataframe\">\n",
       "  <thead>\n",
       "    <tr style=\"text-align: right;\">\n",
       "      <th></th>\n",
       "      <th>count</th>\n",
       "      <th>unique</th>\n",
       "      <th>top</th>\n",
       "      <th>freq</th>\n",
       "    </tr>\n",
       "  </thead>\n",
       "  <tbody>\n",
       "    <tr>\n",
       "      <th>brand_id</th>\n",
       "      <td>162</td>\n",
       "      <td>74</td>\n",
       "      <td>01EFJFZ29KVBK14BDJNFBDK1G7</td>\n",
       "      <td>5</td>\n",
       "    </tr>\n",
       "    <tr>\n",
       "      <th>brand</th>\n",
       "      <td>162</td>\n",
       "      <td>74</td>\n",
       "      <td>lemlem</td>\n",
       "      <td>5</td>\n",
       "    </tr>\n",
       "    <tr>\n",
       "      <th>brand_value</th>\n",
       "      <td>154</td>\n",
       "      <td>6</td>\n",
       "      <td>Women Owned</td>\n",
       "      <td>47</td>\n",
       "    </tr>\n",
       "    <tr>\n",
       "      <th>bio</th>\n",
       "      <td>157</td>\n",
       "      <td>71</td>\n",
       "      <td>lemlem is a women's resort wear brand made ent...</td>\n",
       "      <td>5</td>\n",
       "    </tr>\n",
       "    <tr>\n",
       "      <th>quote</th>\n",
       "      <td>157</td>\n",
       "      <td>71</td>\n",
       "      <td>We believe in the power of collaboration, it i...</td>\n",
       "      <td>5</td>\n",
       "    </tr>\n",
       "    <tr>\n",
       "      <th>quote_attribute</th>\n",
       "      <td>154</td>\n",
       "      <td>59</td>\n",
       "      <td>Vogue</td>\n",
       "      <td>13</td>\n",
       "    </tr>\n",
       "    <tr>\n",
       "      <th>intro</th>\n",
       "      <td>154</td>\n",
       "      <td>70</td>\n",
       "      <td>Founded in 2007 by Liya Kebede, lemlem is enti...</td>\n",
       "      <td>5</td>\n",
       "    </tr>\n",
       "    <tr>\n",
       "      <th>lifestyle_copy</th>\n",
       "      <td>156</td>\n",
       "      <td>66</td>\n",
       "      <td>...</td>\n",
       "      <td>8</td>\n",
       "    </tr>\n",
       "    <tr>\n",
       "      <th>short_bio</th>\n",
       "      <td>157</td>\n",
       "      <td>71</td>\n",
       "      <td>Á La Holiday</td>\n",
       "      <td>5</td>\n",
       "    </tr>\n",
       "    <tr>\n",
       "      <th>listing_bio</th>\n",
       "      <td>157</td>\n",
       "      <td>71</td>\n",
       "      <td>Behold LemLem! Founded by unstoppable supermod...</td>\n",
       "      <td>5</td>\n",
       "    </tr>\n",
       "  </tbody>\n",
       "</table>\n",
       "</div>"
      ],
      "text/plain": [
       "                count unique  \\\n",
       "brand_id          162     74   \n",
       "brand             162     74   \n",
       "brand_value       154      6   \n",
       "bio               157     71   \n",
       "quote             157     71   \n",
       "quote_attribute   154     59   \n",
       "intro             154     70   \n",
       "lifestyle_copy    156     66   \n",
       "short_bio         157     71   \n",
       "listing_bio       157     71   \n",
       "\n",
       "                                                               top freq  \n",
       "brand_id                                01EFJFZ29KVBK14BDJNFBDK1G7    5  \n",
       "brand                                                       lemlem    5  \n",
       "brand_value                                            Women Owned   47  \n",
       "bio              lemlem is a women's resort wear brand made ent...    5  \n",
       "quote            We believe in the power of collaboration, it i...    5  \n",
       "quote_attribute                                              Vogue   13  \n",
       "intro            Founded in 2007 by Liya Kebede, lemlem is enti...    5  \n",
       "lifestyle_copy                                                 ...    8  \n",
       "short_bio                                             Á La Holiday    5  \n",
       "listing_bio      Behold LemLem! Founded by unstoppable supermod...    5  "
      ]
     },
     "execution_count": 10,
     "metadata": {},
     "output_type": "execute_result"
    }
   ],
   "source": [
    "# Considering data stats\n",
    "brands.describe().T"
   ]
  },
  {
   "cell_type": "code",
   "execution_count": 11,
   "metadata": {
    "ExecuteTime": {
     "end_time": "2021-05-12T02:04:57.008588Z",
     "start_time": "2021-05-12T02:04:56.952922Z"
    }
   },
   "outputs": [
    {
     "data": {
      "text/plain": [
       "brand_id           0\n",
       "brand              0\n",
       "brand_value        8\n",
       "bio                5\n",
       "quote              5\n",
       "quote_attribute    8\n",
       "intro              8\n",
       "lifestyle_copy     6\n",
       "short_bio          5\n",
       "listing_bio        5\n",
       "dtype: int64"
      ]
     },
     "execution_count": 11,
     "metadata": {},
     "output_type": "execute_result"
    }
   ],
   "source": [
    "# Checking for null values\n",
    "brands.isna().sum()"
   ]
  },
  {
   "cell_type": "code",
   "execution_count": 12,
   "metadata": {
    "ExecuteTime": {
     "end_time": "2021-05-12T02:04:57.057445Z",
     "start_time": "2021-05-12T02:04:57.044872Z"
    }
   },
   "outputs": [
    {
     "name": "stdout",
     "output_type": "stream",
     "text": [
      " Number of Brands in the Brand file: 74\n"
     ]
    }
   ],
   "source": [
    "# Number of unique brands\n",
    "print(f' Number of Brands in the Brand file: {len(brands.brand.unique())}')"
   ]
  },
  {
   "cell_type": "code",
   "execution_count": 13,
   "metadata": {
    "ExecuteTime": {
     "end_time": "2021-05-12T02:04:57.125561Z",
     "start_time": "2021-05-12T02:04:57.070896Z"
    }
   },
   "outputs": [
    {
     "data": {
      "text/html": [
       "<div>\n",
       "<style scoped>\n",
       "    .dataframe tbody tr th:only-of-type {\n",
       "        vertical-align: middle;\n",
       "    }\n",
       "\n",
       "    .dataframe tbody tr th {\n",
       "        vertical-align: top;\n",
       "    }\n",
       "\n",
       "    .dataframe thead th {\n",
       "        text-align: right;\n",
       "    }\n",
       "</style>\n",
       "<table border=\"1\" class=\"dataframe\">\n",
       "  <thead>\n",
       "    <tr style=\"text-align: right;\">\n",
       "      <th></th>\n",
       "      <th>product_id</th>\n",
       "      <th>brand</th>\n",
       "      <th>brand_category</th>\n",
       "      <th>name</th>\n",
       "      <th>details</th>\n",
       "      <th>created_at</th>\n",
       "      <th>brand_canonical_url</th>\n",
       "      <th>description</th>\n",
       "      <th>brand_description</th>\n",
       "      <th>brand_name</th>\n",
       "      <th>product_active</th>\n",
       "    </tr>\n",
       "  </thead>\n",
       "  <tbody>\n",
       "    <tr>\n",
       "      <th>0</th>\n",
       "      <td>01EX0PN4J9WRNZH5F93YEX6QAF</td>\n",
       "      <td>Two</td>\n",
       "      <td>Unknown</td>\n",
       "      <td>Khadi Stripe Shirt-our signature shirt</td>\n",
       "      <td>NaN</td>\n",
       "      <td>2021-01-27 01:17:19.305 UTC</td>\n",
       "      <td>https://two-nyc.myshopify.com/products/white-k...</td>\n",
       "      <td>Our signature khadi shirt\\navailable in black ...</td>\n",
       "      <td>Our signature khadi shirt\\n\\navailable in blac...</td>\n",
       "      <td>Khadi Stripe Shirt-our signature shirt</td>\n",
       "      <td>True</td>\n",
       "    </tr>\n",
       "    <tr>\n",
       "      <th>1</th>\n",
       "      <td>01F0C4SKZV6YXS3265JMC39NXW</td>\n",
       "      <td>Collina Strada</td>\n",
       "      <td>Unknown</td>\n",
       "      <td>RUFFLE MARKET DRESS LOOPY PINK SISTINE TOMATO</td>\n",
       "      <td>NaN</td>\n",
       "      <td>2021-03-09 18:43:10.457 UTC</td>\n",
       "      <td>https://collina-strada-2.myshopify.com/product...</td>\n",
       "      <td>Mid-length dress with ruffles and adjustable s...</td>\n",
       "      <td>Mid-length dress with ruffles and adjustable s...</td>\n",
       "      <td>RUFFLE MARKET DRESS LOOPY PINK SISTINE TOMATO</td>\n",
       "      <td>True</td>\n",
       "    </tr>\n",
       "  </tbody>\n",
       "</table>\n",
       "</div>"
      ],
      "text/plain": [
       "                   product_id           brand brand_category  \\\n",
       "0  01EX0PN4J9WRNZH5F93YEX6QAF             Two        Unknown   \n",
       "1  01F0C4SKZV6YXS3265JMC39NXW  Collina Strada        Unknown   \n",
       "\n",
       "                                            name details  \\\n",
       "0         Khadi Stripe Shirt-our signature shirt     NaN   \n",
       "1  RUFFLE MARKET DRESS LOOPY PINK SISTINE TOMATO     NaN   \n",
       "\n",
       "                    created_at  \\\n",
       "0  2021-01-27 01:17:19.305 UTC   \n",
       "1  2021-03-09 18:43:10.457 UTC   \n",
       "\n",
       "                                 brand_canonical_url  \\\n",
       "0  https://two-nyc.myshopify.com/products/white-k...   \n",
       "1  https://collina-strada-2.myshopify.com/product...   \n",
       "\n",
       "                                         description  \\\n",
       "0  Our signature khadi shirt\\navailable in black ...   \n",
       "1  Mid-length dress with ruffles and adjustable s...   \n",
       "\n",
       "                                   brand_description  \\\n",
       "0  Our signature khadi shirt\\n\\navailable in blac...   \n",
       "1  Mid-length dress with ruffles and adjustable s...   \n",
       "\n",
       "                                      brand_name  product_active  \n",
       "0         Khadi Stripe Shirt-our signature shirt            True  \n",
       "1  RUFFLE MARKET DRESS LOOPY PINK SISTINE TOMATO            True  "
      ]
     },
     "execution_count": 13,
     "metadata": {},
     "output_type": "execute_result"
    }
   ],
   "source": [
    "product.head(2)"
   ]
  },
  {
   "cell_type": "code",
   "execution_count": 14,
   "metadata": {
    "ExecuteTime": {
     "end_time": "2021-05-12T02:04:59.946906Z",
     "start_time": "2021-05-12T02:04:57.134222Z"
    }
   },
   "outputs": [
    {
     "data": {
      "text/html": [
       "<div>\n",
       "<style scoped>\n",
       "    .dataframe tbody tr th:only-of-type {\n",
       "        vertical-align: middle;\n",
       "    }\n",
       "\n",
       "    .dataframe tbody tr th {\n",
       "        vertical-align: top;\n",
       "    }\n",
       "\n",
       "    .dataframe thead th {\n",
       "        text-align: right;\n",
       "    }\n",
       "</style>\n",
       "<table border=\"1\" class=\"dataframe\">\n",
       "  <thead>\n",
       "    <tr style=\"text-align: right;\">\n",
       "      <th></th>\n",
       "      <th>count</th>\n",
       "      <th>unique</th>\n",
       "      <th>top</th>\n",
       "      <th>freq</th>\n",
       "    </tr>\n",
       "  </thead>\n",
       "  <tbody>\n",
       "    <tr>\n",
       "      <th>product_id</th>\n",
       "      <td>61355</td>\n",
       "      <td>61355</td>\n",
       "      <td>01EQ9MQK5WPJFR5HD1812QTXW6</td>\n",
       "      <td>1</td>\n",
       "    </tr>\n",
       "    <tr>\n",
       "      <th>brand</th>\n",
       "      <td>61355</td>\n",
       "      <td>386</td>\n",
       "      <td>7 For All Mankind</td>\n",
       "      <td>9011</td>\n",
       "    </tr>\n",
       "    <tr>\n",
       "      <th>brand_category</th>\n",
       "      <td>60896</td>\n",
       "      <td>632</td>\n",
       "      <td>Unknown</td>\n",
       "      <td>53249</td>\n",
       "    </tr>\n",
       "    <tr>\n",
       "      <th>name</th>\n",
       "      <td>61354</td>\n",
       "      <td>42615</td>\n",
       "      <td>ANKLE SKINNY</td>\n",
       "      <td>247</td>\n",
       "    </tr>\n",
       "    <tr>\n",
       "      <th>details</th>\n",
       "      <td>9200</td>\n",
       "      <td>7034</td>\n",
       "      <td>True to size.</td>\n",
       "      <td>265</td>\n",
       "    </tr>\n",
       "    <tr>\n",
       "      <th>created_at</th>\n",
       "      <td>61355</td>\n",
       "      <td>61349</td>\n",
       "      <td>2020-08-28 21:40:42.81 UTC</td>\n",
       "      <td>2</td>\n",
       "    </tr>\n",
       "    <tr>\n",
       "      <th>brand_canonical_url</th>\n",
       "      <td>61355</td>\n",
       "      <td>58156</td>\n",
       "      <td>https://www.7forallmankind.com/airweft-denim-s...</td>\n",
       "      <td>13</td>\n",
       "    </tr>\n",
       "    <tr>\n",
       "      <th>description</th>\n",
       "      <td>51238</td>\n",
       "      <td>42210</td>\n",
       "      <td>product name by ancient greek sandals</td>\n",
       "      <td>127</td>\n",
       "    </tr>\n",
       "    <tr>\n",
       "      <th>brand_description</th>\n",
       "      <td>51234</td>\n",
       "      <td>42550</td>\n",
       "      <td>product name by ancient greek sandals</td>\n",
       "      <td>127</td>\n",
       "    </tr>\n",
       "    <tr>\n",
       "      <th>brand_name</th>\n",
       "      <td>61354</td>\n",
       "      <td>42602</td>\n",
       "      <td>ANKLE SKINNY</td>\n",
       "      <td>247</td>\n",
       "    </tr>\n",
       "    <tr>\n",
       "      <th>product_active</th>\n",
       "      <td>61355</td>\n",
       "      <td>2</td>\n",
       "      <td>False</td>\n",
       "      <td>52874</td>\n",
       "    </tr>\n",
       "  </tbody>\n",
       "</table>\n",
       "</div>"
      ],
      "text/plain": [
       "                     count unique  \\\n",
       "product_id           61355  61355   \n",
       "brand                61355    386   \n",
       "brand_category       60896    632   \n",
       "name                 61354  42615   \n",
       "details               9200   7034   \n",
       "created_at           61355  61349   \n",
       "brand_canonical_url  61355  58156   \n",
       "description          51238  42210   \n",
       "brand_description    51234  42550   \n",
       "brand_name           61354  42602   \n",
       "product_active       61355      2   \n",
       "\n",
       "                                                                   top   freq  \n",
       "product_id                                  01EQ9MQK5WPJFR5HD1812QTXW6      1  \n",
       "brand                                                7 For All Mankind   9011  \n",
       "brand_category                                                 Unknown  53249  \n",
       "name                                                      ANKLE SKINNY    247  \n",
       "details                                                  True to size.    265  \n",
       "created_at                                  2020-08-28 21:40:42.81 UTC      2  \n",
       "brand_canonical_url  https://www.7forallmankind.com/airweft-denim-s...     13  \n",
       "description                      product name by ancient greek sandals    127  \n",
       "brand_description                product name by ancient greek sandals    127  \n",
       "brand_name                                                ANKLE SKINNY    247  \n",
       "product_active                                                   False  52874  "
      ]
     },
     "execution_count": 14,
     "metadata": {},
     "output_type": "execute_result"
    }
   ],
   "source": [
    "product.describe().T"
   ]
  },
  {
   "cell_type": "code",
   "execution_count": 15,
   "metadata": {
    "ExecuteTime": {
     "end_time": "2021-05-12T02:05:00.200291Z",
     "start_time": "2021-05-12T02:04:59.957489Z"
    }
   },
   "outputs": [
    {
     "data": {
      "text/plain": [
       "product_id                 0\n",
       "brand                      0\n",
       "brand_category           459\n",
       "name                       1\n",
       "details                52155\n",
       "created_at                 0\n",
       "brand_canonical_url        0\n",
       "description            10117\n",
       "brand_description      10121\n",
       "brand_name                 1\n",
       "product_active             0\n",
       "dtype: int64"
      ]
     },
     "execution_count": 15,
     "metadata": {},
     "output_type": "execute_result"
    }
   ],
   "source": [
    "product.isna().sum()"
   ]
  },
  {
   "cell_type": "code",
   "execution_count": 16,
   "metadata": {
    "ExecuteTime": {
     "end_time": "2021-05-12T02:05:00.266381Z",
     "start_time": "2021-05-12T02:05:00.247391Z"
    },
    "scrolled": true
   },
   "outputs": [
    {
     "name": "stdout",
     "output_type": "stream",
     "text": [
      " Number of Brands in the Product file: 386\n"
     ]
    }
   ],
   "source": [
    "print(f' Number of Brands in the Product file: {len(product.brand.unique())}')"
   ]
  },
  {
   "cell_type": "code",
   "execution_count": 17,
   "metadata": {
    "ExecuteTime": {
     "end_time": "2021-05-12T02:05:00.296378Z",
     "start_time": "2021-05-12T02:05:00.278583Z"
    }
   },
   "outputs": [
    {
     "name": "stdout",
     "output_type": "stream",
     "text": [
      "Number of Brand Category: 633\n"
     ]
    }
   ],
   "source": [
    "print(f'Number of Brand Category: {len(product.brand_category.unique())}')"
   ]
  },
  {
   "cell_type": "markdown",
   "metadata": {},
   "source": [
    "# Cleaning"
   ]
  },
  {
   "cell_type": "markdown",
   "metadata": {},
   "source": [
    "In this stage, we get into the data cleaning. \n",
    "\n",
    "**Cleaning Tasks**:\n",
    "\n",
    "1. fill missing values\n",
    "2. remove \\n, html tags and other encoding characters\n",
    "3. remove punctuation\n",
    "4. change to lower case\n",
    "5. remove stopwords\n",
    "6. create named entities\n"
   ]
  },
  {
   "cell_type": "markdown",
   "metadata": {},
   "source": [
    "## Fill Missing Value"
   ]
  },
  {
   "cell_type": "code",
   "execution_count": 18,
   "metadata": {
    "ExecuteTime": {
     "end_time": "2021-05-12T02:05:03.324012Z",
     "start_time": "2021-05-12T02:05:03.267517Z"
    }
   },
   "outputs": [],
   "source": [
    "# create a copy of the original dataset\n",
    "product_copy = product.copy()"
   ]
  },
  {
   "cell_type": "code",
   "execution_count": 19,
   "metadata": {
    "ExecuteTime": {
     "end_time": "2021-05-12T02:05:03.472367Z",
     "start_time": "2021-05-12T02:05:03.330643Z"
    }
   },
   "outputs": [],
   "source": [
    "# fill missing values\n",
    "product_copy.fillna('None',inplace = True)"
   ]
  },
  {
   "cell_type": "markdown",
   "metadata": {},
   "source": [
    "## Remove \\n, tags and Punctuation"
   ]
  },
  {
   "cell_type": "code",
   "execution_count": 20,
   "metadata": {
    "ExecuteTime": {
     "end_time": "2021-05-12T02:05:09.257790Z",
     "start_time": "2021-05-12T02:05:04.062811Z"
    }
   },
   "outputs": [
    {
     "name": "stderr",
     "output_type": "stream",
     "text": [
      "<ipython-input-20-45d5a0e64202>:5: FutureWarning: The default value of regex will change from True to False in a future version.\n",
      "  product_copy.description = product_copy.description.str.replace(r'\\bs\\b','')\n",
      "<ipython-input-20-45d5a0e64202>:8: FutureWarning: The default value of regex will change from True to False in a future version.\n",
      "  product_copy.description = product_copy.description.str.replace(r'[^A-Za-z0-9 ]+','')\n"
     ]
    }
   ],
   "source": [
    "# remove unusefull elements\n",
    "product_copy.description = product_copy.description.str.replace('\\n',' ')\n",
    "product_copy.description = product_copy.description.str.replace('\\r',' ')\n",
    "product_copy.description = product_copy.description.str.replace(r'  ',' ')\n",
    "product_copy.description = product_copy.description.str.replace(r'\\bs\\b','')\n",
    "\n",
    "# remove punctuation\n",
    "product_copy.description = product_copy.description.str.replace(r'[^A-Za-z0-9 ]+','')\n",
    "\n"
   ]
  },
  {
   "cell_type": "markdown",
   "metadata": {},
   "source": [
    "## Change to Lower Case"
   ]
  },
  {
   "cell_type": "code",
   "execution_count": 21,
   "metadata": {
    "ExecuteTime": {
     "end_time": "2021-05-12T02:05:09.407353Z",
     "start_time": "2021-05-12T02:05:09.274026Z"
    }
   },
   "outputs": [],
   "source": [
    "# change all the words to lower case \n",
    "product_copy.description = product_copy.description.str.lower()"
   ]
  },
  {
   "cell_type": "code",
   "execution_count": 22,
   "metadata": {
    "ExecuteTime": {
     "end_time": "2021-05-12T02:05:09.440969Z",
     "start_time": "2021-05-12T02:05:09.413283Z"
    }
   },
   "outputs": [
    {
     "data": {
      "text/plain": [
       "'midlength dress with ruffles and adjustable straps bias cut side seam invisible zipper made in new york model wears size small 100 rose sylk rose sylk is an organic cellulose fiber made from the natural waste of rose bushes and stems'"
      ]
     },
     "execution_count": 22,
     "metadata": {},
     "output_type": "execute_result"
    }
   ],
   "source": [
    "# quick check\n",
    "product_copy.description[1]"
   ]
  },
  {
   "cell_type": "markdown",
   "metadata": {},
   "source": [
    "## Create Named Entities\n",
    "\n",
    "**Note:** We decided to remove stopwords after identifying entities and creating features. Given the nature of the product description and general phrasing, we wanted to preserve the semantic meaning as much as possible while creating features. We tried removing stopwords and then extracting features but found the former to identify features better."
   ]
  },
  {
   "cell_type": "code",
   "execution_count": 23,
   "metadata": {
    "ExecuteTime": {
     "end_time": "2021-05-12T02:05:10.527564Z",
     "start_time": "2021-05-12T02:05:09.470888Z"
    }
   },
   "outputs": [
    {
     "name": "stderr",
     "output_type": "stream",
     "text": [
      "<ipython-input-23-dc2b72f56d86>:2: FutureWarning: The default value of regex will change from True to False in a future version.\n",
      "  product_copy['description'] = product_copy['description'].str.\\\n"
     ]
    }
   ],
   "source": [
    "# Cleaning versions of New York City so that it can be captured in the features\n",
    "product_copy['description'] = product_copy['description'].str.\\\n",
    "                                replace(r'\\bnew\\b\\s\\byork\\b\\s(?:\\bcity\\b)?','new_york_city ')\n",
    "\n"
   ]
  },
  {
   "cell_type": "code",
   "execution_count": 24,
   "metadata": {
    "ExecuteTime": {
     "end_time": "2021-05-12T02:05:11.669861Z",
     "start_time": "2021-05-12T02:05:10.533087Z"
    }
   },
   "outputs": [
    {
     "data": {
      "text/plain": [
       "0"
      ]
     },
     "execution_count": 24,
     "metadata": {},
     "output_type": "execute_result"
    }
   ],
   "source": [
    "# check the result of replacement\n",
    "product_copy['description'].astype(str).apply(lambda x: re.search(r'\\bnew\\b\\s\\byork\\b\\s(?:\\bcity\\b)?',x)).sum()"
   ]
  },
  {
   "cell_type": "code",
   "execution_count": 25,
   "metadata": {
    "ExecuteTime": {
     "end_time": "2021-05-12T02:05:15.226921Z",
     "start_time": "2021-05-12T02:05:11.684028Z"
    }
   },
   "outputs": [
    {
     "name": "stderr",
     "output_type": "stream",
     "text": [
      "<ipython-input-25-cdc558123f02>:3: FutureWarning: The default value of regex will change from True to False in a future version.\n",
      "  product_copy['description'] = product_copy['description'].str.\\\n",
      "<ipython-input-25-cdc558123f02>:5: FutureWarning: The default value of regex will change from True to False in a future version.\n",
      "  product_copy['description'] = product_copy['description'].str.\\\n"
     ]
    }
   ],
   "source": [
    "# Cleaning versions of USA so that it can be captured in the features\n",
    "\n",
    "product_copy['description'] = product_copy['description'].str.\\\n",
    "                                replace(r'\\b(?:the\\s)?usa?\\b','USA')\n",
    "product_copy['description'] = product_copy['description'].str.\\\n",
    "                                replace(r'\\b(?:the\\s)?united\\sstates\\b','USA')"
   ]
  },
  {
   "cell_type": "code",
   "execution_count": 26,
   "metadata": {
    "ExecuteTime": {
     "end_time": "2021-05-12T02:05:16.960393Z",
     "start_time": "2021-05-12T02:05:15.229506Z"
    }
   },
   "outputs": [
    {
     "data": {
      "text/plain": [
       "0"
      ]
     },
     "execution_count": 26,
     "metadata": {},
     "output_type": "execute_result"
    }
   ],
   "source": [
    "## check the result \n",
    "product_copy['description'].astype(str).apply(lambda x: re.search(r'\\b(?:the\\s)?usa?\\b',x)).sum()"
   ]
  },
  {
   "cell_type": "markdown",
   "metadata": {},
   "source": [
    "# Create Features (Categorizing)"
   ]
  },
  {
   "cell_type": "markdown",
   "metadata": {},
   "source": [
    "To better capture the characteristics about the products, we decided to create some features manually using the regex extraction. Some common ways of categorizing products are:\n",
    "    \n",
    "    1. User type: women, men, or children\n",
    "    2. Color\n",
    "    3. Clothing Category: top, bottom, one piece...\n",
    "    4. Occasions: sports, casual,cozy, formal, swim, holiday, business... \n",
    "    5. Made in:  USA, China, Europe...\n",
    "    7. Wash Type: no machine wash,dry wash, hand wash, tumble dry, hang dry...\n",
    "    8. Fabric: ploy, chiffon, cotton ..."
   ]
  },
  {
   "cell_type": "markdown",
   "metadata": {},
   "source": [
    "## User Type"
   ]
  },
  {
   "cell_type": "markdown",
   "metadata": {},
   "source": [
    "Because a large proportion of clothing is for women, we suppose that if there are no keywords indicate it is for children or men, we treat this product as women's clothing. For the products that don't have a description are also treated as women's clothing."
   ]
  },
  {
   "cell_type": "code",
   "execution_count": 27,
   "metadata": {
    "ExecuteTime": {
     "end_time": "2021-05-12T02:05:18.001498Z",
     "start_time": "2021-05-12T02:05:17.988458Z"
    }
   },
   "outputs": [],
   "source": [
    "def isWomensClothing(txt):\n",
    "    \"\"\" Function to determine whether it is an article of women's clothing \"\"\"\n",
    "\n",
    "    txt = str(txt)\n",
    "    val = True\n",
    "    if re.search(r'\\b(Girl?|boy?|men|man|Gir?|baby|kid?)\\b', txt, re.IGNORECASE ):\n",
    "        val = False\n",
    "    return val\n"
   ]
  },
  {
   "cell_type": "code",
   "execution_count": 28,
   "metadata": {
    "ExecuteTime": {
     "end_time": "2021-05-12T02:05:27.710902Z",
     "start_time": "2021-05-12T02:05:18.140027Z"
    }
   },
   "outputs": [
    {
     "data": {
      "text/plain": [
       "True     59626\n",
       "False     1729\n",
       "Name: is_womens_clothing, dtype: int64"
      ]
     },
     "execution_count": 28,
     "metadata": {},
     "output_type": "execute_result"
    }
   ],
   "source": [
    "product_copy['is_womens_clothing'] = pd.DataFrame(\n",
    "                                                [product_copy.description.\\\n",
    "                                                  apply(isWomensClothing),\n",
    "                                                product_copy.name.apply(isWomensClothing),\n",
    "                                                product_copy.details.\\\n",
    "                                                 apply(isWomensClothing)]\n",
    "                                                 ).all()\n",
    "    \n",
    "# any return false is false women\n",
    "# all return True is True women\n",
    "\n",
    "product_copy['is_womens_clothing'].value_counts()"
   ]
  },
  {
   "cell_type": "markdown",
   "metadata": {},
   "source": [
    "> **There are 59,626 records labelled as `is_women_clothing`**"
   ]
  },
  {
   "cell_type": "code",
   "execution_count": 29,
   "metadata": {
    "ExecuteTime": {
     "end_time": "2021-05-12T02:05:27.915792Z",
     "start_time": "2021-05-12T02:05:27.904390Z"
    }
   },
   "outputs": [],
   "source": [
    "def isChildrenClothing(txt):\n",
    "    \"\"\" Function to determine whether it is an article of children's clothing \"\"\"\n",
    "\n",
    "    txt = str(txt)\n",
    "    val = False\n",
    "    if re.search(r'\\b(Girl?|boy?|Gir?|baby|kid?)\\b', txt, re.IGNORECASE ):\n",
    "        val = True\n",
    "    return val"
   ]
  },
  {
   "cell_type": "code",
   "execution_count": 30,
   "metadata": {
    "ExecuteTime": {
     "end_time": "2021-05-12T02:05:33.785775Z",
     "start_time": "2021-05-12T02:05:28.095371Z"
    }
   },
   "outputs": [
    {
     "data": {
      "text/plain": [
       "False    60455\n",
       "True       900\n",
       "Name: is_children_clothing, dtype: int64"
      ]
     },
     "execution_count": 30,
     "metadata": {},
     "output_type": "execute_result"
    }
   ],
   "source": [
    "product_copy['is_children_clothing'] = np.nan\n",
    "product_copy['is_children_clothing'] = pd.DataFrame(\n",
    "                                                  [product_copy.description.\\\n",
    "                                                  apply(isChildrenClothing),\n",
    "                                                product_copy.name.apply(isChildrenClothing),\n",
    "                                                product_copy.details.\\\n",
    "                                                 apply(isChildrenClothing)]\n",
    "                                                    ).any()\n",
    "\n",
    "product_copy['is_children_clothing'].value_counts()"
   ]
  },
  {
   "cell_type": "markdown",
   "metadata": {},
   "source": [
    "> **900 records are labeled as children's clothing.**"
   ]
  },
  {
   "cell_type": "code",
   "execution_count": 31,
   "metadata": {
    "ExecuteTime": {
     "end_time": "2021-05-12T02:05:33.928717Z",
     "start_time": "2021-05-12T02:05:33.919167Z"
    }
   },
   "outputs": [],
   "source": [
    "def isMenClothing(txt):\n",
    "    \"\"\" Function to determine whether it is an article of women's clothing \"\"\"\n",
    "\n",
    "    txt = str(txt)\n",
    "    val = False\n",
    "    if re.search(r'\\b(man|men|man\\'s|men\\'s)\\b', txt, re.IGNORECASE ):\n",
    "        val = True\n",
    "    return val"
   ]
  },
  {
   "cell_type": "code",
   "execution_count": 32,
   "metadata": {
    "ExecuteTime": {
     "end_time": "2021-05-12T02:05:38.518554Z",
     "start_time": "2021-05-12T02:05:34.059445Z"
    }
   },
   "outputs": [
    {
     "data": {
      "text/plain": [
       "False    60517\n",
       "True       838\n",
       "Name: is_men_clothing, dtype: int64"
      ]
     },
     "execution_count": 32,
     "metadata": {},
     "output_type": "execute_result"
    }
   ],
   "source": [
    "product_copy['is_men_clothing'] = pd.DataFrame(  [product_copy.description.\\\n",
    "                                                  apply(isMenClothing),\n",
    "                                                product_copy.name.apply(isMenClothing),\n",
    "                                                product_copy.details.\\\n",
    "                                                 apply(isMenClothing)]\n",
    "                                                    ).any()\n",
    "product_copy['is_men_clothing'].value_counts()"
   ]
  },
  {
   "cell_type": "markdown",
   "metadata": {},
   "source": [
    "> **838 records are labelled as men's clothing.**"
   ]
  },
  {
   "cell_type": "code",
   "execution_count": 33,
   "metadata": {
    "ExecuteTime": {
     "end_time": "2021-05-12T02:05:38.780163Z",
     "start_time": "2021-05-12T02:05:38.721591Z"
    }
   },
   "outputs": [
    {
     "data": {
      "text/plain": [
       "women       59626\n",
       "children      891\n",
       "men           838\n",
       "Name: user_type, dtype: int64"
      ]
     },
     "execution_count": 33,
     "metadata": {},
     "output_type": "execute_result"
    }
   ],
   "source": [
    "conditions = [(product_copy.is_womens_clothing == True),\n",
    "              (product_copy.is_men_clothing == True),\n",
    "              (product_copy.is_children_clothing == True)]\n",
    "              \n",
    "values = ['women','men','children']\n",
    "\n",
    "product_copy['user_type']= np.select(conditions, values)\n",
    "\n",
    "product_copy['user_type'].value_counts()"
   ]
  },
  {
   "cell_type": "markdown",
   "metadata": {},
   "source": [
    "## Clothing Category"
   ]
  },
  {
   "cell_type": "markdown",
   "metadata": {
    "ExecuteTime": {
     "end_time": "2021-05-05T15:47:59.380710Z",
     "start_time": "2021-05-05T15:47:56.562926Z"
    }
   },
   "source": [
    "We grouped the products into 9 categories:\n",
    "\n",
    "    1. bottom \n",
    "    2. one-piece \n",
    "    3. shoes\n",
    "    4. handbag\n",
    "    5. scarf\n",
    "    6. top \n",
    "    7. accessory\n",
    "    8. linen\n",
    "    9. lingerie. \n",
    "    \n",
    "  We used text in 'name','description','details' fields in the product dataframe to identify these categories. "
   ]
  },
  {
   "cell_type": "code",
   "execution_count": 34,
   "metadata": {
    "ExecuteTime": {
     "end_time": "2021-05-12T02:06:06.647036Z",
     "start_time": "2021-05-12T02:05:38.994625Z"
    }
   },
   "outputs": [
    {
     "name": "stderr",
     "output_type": "stream",
     "text": [
      "/Users/sneharaj/opt/anaconda3/lib/python3.8/site-packages/pandas/core/strings/accessor.py:101: UserWarning: This pattern has match groups. To actually get the groups, use str.extract.\n",
      "  return func(self, *args, **kwargs)\n"
     ]
    }
   ],
   "source": [
    "bottom_seq=r'\\b(capri?|leggings?|bottoms?|skirts?|sweatpants?|pants?|jeans?|midi|trousers?|shorts?|trunks?)\\b' #|knee|ankle\n",
    "one_piece_seq=r'\\b(kimono|jumpsuit|dress(?:es)?|gowns?|swimsuit?|onesies?|unitards?|bodysuits?|rompers?|one ?piece)\\b'\n",
    "shoe_seq=r'\\b(shoes?|sneakers?|flats|boot|heels?|sandals?|mules?|loafers?|pumps?)\\b' #(?:ies|s)?\n",
    "handbag_seq=r'\\b(bags?|handbags?|clutch(?:es)?|wallets?|purses?|duffels?)\\b'\n",
    "scarf=r'\\b(scar(?:f|ves)?|wraps?|stoles?|shawl)\\b' # row 412, 705, \n",
    "top=r'\\b(Tank|caftan|hoodies?|tshirts?|tees?|tops?|top|blouses?|jackets?|blazers?|shirts?|tops?|coats?|suits|sweaters?|sweatshirts?)\\b'\n",
    "acc=r'\\b(capes?|socks?|earrings?|belts?|gloves?|headbands?|ties?|hats?|caps?)\\b'\n",
    "linen=r'\\b(linens?)\\b'\n",
    "lingerie=r'\\b(bras?)\\b'\n",
    "\n",
    "# product category hierarchy\n",
    "dict_seq={'one_piece':one_piece_seq,\n",
    "          'shoe':shoe_seq,\n",
    "          'handbag':handbag_seq,\n",
    "          'scarf':scarf,\n",
    "          'top':top,'acc':acc,'linen':linen,\n",
    "          'bottom':bottom_seq,'lingerie':lingerie\n",
    "        }\n",
    "# occurence score calculation\n",
    "for d in dict_seq:\n",
    "    product_copy[f'{d}_check']=0\n",
    "    for col in ['name','description','details','brand_category']:\n",
    "        product_copy[f'{d}_check']=product_copy[f'{d}_check']+product_copy[col].str.contains(dict_seq[d],case=False)\n",
    "\n",
    "\n",
    " #calculating max occurence         \n",
    "product_copy['max_value_cat']=product_copy[[\"bottom_check\",\"shoe_check\",\"one_piece_check\",\"handbag_check\",\"scarf_check\",'acc_check','top_check','linen_check','lingerie_check']].max(axis=1)\n",
    "def max_presence(row):\n",
    "    for d in dict_seq.keys():\n",
    "        colname=f'{d}_check'\n",
    "        if (row['max_value_cat']==row[colname])&(row['max_value_cat']!=0):\n",
    "            return d\n",
    "        elif row['max_value_cat']==0:\n",
    "            return 'None'\n",
    "#searching for the category with max occurence    \n",
    "product_copy['final_category']=product_copy.apply(max_presence,axis=1)"
   ]
  },
  {
   "cell_type": "code",
   "execution_count": 35,
   "metadata": {
    "ExecuteTime": {
     "end_time": "2021-05-12T02:06:07.047726Z",
     "start_time": "2021-05-12T02:06:07.025531Z"
    }
   },
   "outputs": [
    {
     "data": {
      "text/plain": [
       "top          18373\n",
       "None         12943\n",
       "one_piece     9636\n",
       "bottom        8687\n",
       "shoe          4901\n",
       "acc           2741\n",
       "handbag       2495\n",
       "scarf          837\n",
       "lingerie       440\n",
       "linen          296\n",
       "Name: final_category, dtype: int64"
      ]
     },
     "execution_count": 35,
     "metadata": {},
     "output_type": "execute_result"
    }
   ],
   "source": [
    "product_copy['final_category'].value_counts()"
   ]
  },
  {
   "cell_type": "markdown",
   "metadata": {},
   "source": [
    "## Color"
   ]
  },
  {
   "cell_type": "code",
   "execution_count": 36,
   "metadata": {
    "ExecuteTime": {
     "end_time": "2021-05-12T02:06:07.395984Z",
     "start_time": "2021-05-12T02:06:07.390263Z"
    }
   },
   "outputs": [],
   "source": [
    "def findColors(txt):\n",
    "    \"\"\" Function to determine the color of item \"\"\"\n",
    "   \n",
    "    colors_re = r'\\b(beige|light brown|black|blue ?green|blue|brown|umber|burgundy|gold(?:en)?|gray|grey|green|navy|neutral|orange|aurantia|pink|purple|violet|red|scarlet|silver|teal|white|yellow|(?:multi(?:ple)?|several|different|many|more than one) ?colou?rs?)\\b'\n",
    "\n",
    "    val = []\n",
    "    txt = str(txt)\n",
    "    if re.findall(colors_re, txt, re.IGNORECASE ):\n",
    "        val = re.findall(colors_re, txt, re.IGNORECASE )\n",
    "    return val"
   ]
  },
  {
   "cell_type": "code",
   "execution_count": 37,
   "metadata": {
    "ExecuteTime": {
     "end_time": "2021-05-12T02:06:16.054809Z",
     "start_time": "2021-05-12T02:06:07.751922Z"
    }
   },
   "outputs": [],
   "source": [
    "# find all colors in item descriptions and product name \n",
    "product_copy['color_list'] = product_copy['description'].apply(findColors) +product_copy['name'].apply(findColors)              \n"
   ]
  },
  {
   "cell_type": "code",
   "execution_count": 38,
   "metadata": {
    "ExecuteTime": {
     "end_time": "2021-05-12T02:06:16.715385Z",
     "start_time": "2021-05-12T02:06:16.423560Z"
    }
   },
   "outputs": [],
   "source": [
    "# extract the set of colors\n",
    "product_copy['colors'] = product_copy['color_list'].apply(lambda x: set(y.lower() for y in x))\n"
   ]
  },
  {
   "cell_type": "code",
   "execution_count": 39,
   "metadata": {
    "ExecuteTime": {
     "end_time": "2021-05-12T02:06:17.224525Z",
     "start_time": "2021-05-12T02:06:17.081312Z"
    }
   },
   "outputs": [
    {
     "data": {
      "text/html": [
       "<div>\n",
       "<style scoped>\n",
       "    .dataframe tbody tr th:only-of-type {\n",
       "        vertical-align: middle;\n",
       "    }\n",
       "\n",
       "    .dataframe tbody tr th {\n",
       "        vertical-align: top;\n",
       "    }\n",
       "\n",
       "    .dataframe thead th {\n",
       "        text-align: right;\n",
       "    }\n",
       "</style>\n",
       "<table border=\"1\" class=\"dataframe\">\n",
       "  <thead>\n",
       "    <tr style=\"text-align: right;\">\n",
       "      <th></th>\n",
       "      <th>product_id</th>\n",
       "      <th>brand</th>\n",
       "      <th>brand_category</th>\n",
       "      <th>name</th>\n",
       "      <th>details</th>\n",
       "      <th>created_at</th>\n",
       "      <th>brand_canonical_url</th>\n",
       "      <th>description</th>\n",
       "      <th>brand_description</th>\n",
       "      <th>brand_name</th>\n",
       "      <th>...</th>\n",
       "      <th>scarf_check</th>\n",
       "      <th>top_check</th>\n",
       "      <th>acc_check</th>\n",
       "      <th>linen_check</th>\n",
       "      <th>bottom_check</th>\n",
       "      <th>lingerie_check</th>\n",
       "      <th>max_value_cat</th>\n",
       "      <th>final_category</th>\n",
       "      <th>color_list</th>\n",
       "      <th>colors</th>\n",
       "    </tr>\n",
       "  </thead>\n",
       "  <tbody>\n",
       "    <tr>\n",
       "      <th>32371</th>\n",
       "      <td>01EPABXZX4KR0ZQHS92AP5VQ9Y</td>\n",
       "      <td>Holden</td>\n",
       "      <td>Unknown</td>\n",
       "      <td>Womens Oversized Wool Crew</td>\n",
       "      <td>None</td>\n",
       "      <td>2020-11-04 19:32:26.66 UTC</td>\n",
       "      <td>https://holdenouterwear.myshopify.com/products...</td>\n",
       "      <td>the sweater modernized with deep drop tail and...</td>\n",
       "      <td>The sweater modernized with deep drop tail and...</td>\n",
       "      <td>Womens Oversized Wool Crew</td>\n",
       "      <td>...</td>\n",
       "      <td>0</td>\n",
       "      <td>1</td>\n",
       "      <td>0</td>\n",
       "      <td>0</td>\n",
       "      <td>0</td>\n",
       "      <td>0</td>\n",
       "      <td>1.0</td>\n",
       "      <td>top</td>\n",
       "      <td>[]</td>\n",
       "      <td>{}</td>\n",
       "    </tr>\n",
       "    <tr>\n",
       "      <th>47268</th>\n",
       "      <td>01EC8PMCC0HKGT4AD2Z97G3APC</td>\n",
       "      <td>Sea</td>\n",
       "      <td>Unknown</td>\n",
       "      <td>O'Keefe Blouse</td>\n",
       "      <td>None</td>\n",
       "      <td>2020-07-02 21:23:58.968 UTC</td>\n",
       "      <td>https://seanyc.myshopify.com/products/okeefe-b...</td>\n",
       "      <td>the okeefe long sleeve blouse features a peasa...</td>\n",
       "      <td>The O'Keefe long sleeve blouse features a peas...</td>\n",
       "      <td>O'Keefe Blouse</td>\n",
       "      <td>...</td>\n",
       "      <td>0</td>\n",
       "      <td>2</td>\n",
       "      <td>0</td>\n",
       "      <td>0</td>\n",
       "      <td>0</td>\n",
       "      <td>0</td>\n",
       "      <td>2.0</td>\n",
       "      <td>top</td>\n",
       "      <td>[]</td>\n",
       "      <td>{}</td>\n",
       "    </tr>\n",
       "  </tbody>\n",
       "</table>\n",
       "<p>2 rows × 28 columns</p>\n",
       "</div>"
      ],
      "text/plain": [
       "                       product_id   brand brand_category  \\\n",
       "32371  01EPABXZX4KR0ZQHS92AP5VQ9Y  Holden        Unknown   \n",
       "47268  01EC8PMCC0HKGT4AD2Z97G3APC     Sea        Unknown   \n",
       "\n",
       "                             name details                   created_at  \\\n",
       "32371  Womens Oversized Wool Crew    None   2020-11-04 19:32:26.66 UTC   \n",
       "47268              O'Keefe Blouse    None  2020-07-02 21:23:58.968 UTC   \n",
       "\n",
       "                                     brand_canonical_url  \\\n",
       "32371  https://holdenouterwear.myshopify.com/products...   \n",
       "47268  https://seanyc.myshopify.com/products/okeefe-b...   \n",
       "\n",
       "                                             description  \\\n",
       "32371  the sweater modernized with deep drop tail and...   \n",
       "47268  the okeefe long sleeve blouse features a peasa...   \n",
       "\n",
       "                                       brand_description  \\\n",
       "32371  The sweater modernized with deep drop tail and...   \n",
       "47268  The O'Keefe long sleeve blouse features a peas...   \n",
       "\n",
       "                       brand_name  ...  scarf_check  top_check  acc_check  \\\n",
       "32371  Womens Oversized Wool Crew  ...            0          1          0   \n",
       "47268              O'Keefe Blouse  ...            0          2          0   \n",
       "\n",
       "       linen_check bottom_check lingerie_check max_value_cat final_category  \\\n",
       "32371            0            0              0           1.0            top   \n",
       "47268            0            0              0           2.0            top   \n",
       "\n",
       "      color_list colors  \n",
       "32371         []     {}  \n",
       "47268         []     {}  \n",
       "\n",
       "[2 rows x 28 columns]"
      ]
     },
     "execution_count": 39,
     "metadata": {},
     "output_type": "execute_result"
    }
   ],
   "source": [
    "product_copy.sample(2)"
   ]
  },
  {
   "cell_type": "code",
   "execution_count": 40,
   "metadata": {
    "ExecuteTime": {
     "end_time": "2021-05-12T02:06:17.614107Z",
     "start_time": "2021-05-12T02:06:17.566545Z"
    }
   },
   "outputs": [
    {
     "data": {
      "text/html": [
       "<div>\n",
       "<style scoped>\n",
       "    .dataframe tbody tr th:only-of-type {\n",
       "        vertical-align: middle;\n",
       "    }\n",
       "\n",
       "    .dataframe tbody tr th {\n",
       "        vertical-align: top;\n",
       "    }\n",
       "\n",
       "    .dataframe thead th {\n",
       "        text-align: right;\n",
       "    }\n",
       "</style>\n",
       "<table border=\"1\" class=\"dataframe\">\n",
       "  <thead>\n",
       "    <tr style=\"text-align: right;\">\n",
       "      <th></th>\n",
       "      <th>colors</th>\n",
       "      <th>n_colors</th>\n",
       "    </tr>\n",
       "  </thead>\n",
       "  <tbody>\n",
       "    <tr>\n",
       "      <th>0</th>\n",
       "      <td>{white, black}</td>\n",
       "      <td>2</td>\n",
       "    </tr>\n",
       "    <tr>\n",
       "      <th>1</th>\n",
       "      <td>{pink}</td>\n",
       "      <td>1</td>\n",
       "    </tr>\n",
       "    <tr>\n",
       "      <th>2</th>\n",
       "      <td>{red}</td>\n",
       "      <td>1</td>\n",
       "    </tr>\n",
       "    <tr>\n",
       "      <th>3</th>\n",
       "      <td>{black}</td>\n",
       "      <td>1</td>\n",
       "    </tr>\n",
       "    <tr>\n",
       "      <th>4</th>\n",
       "      <td>{black}</td>\n",
       "      <td>1</td>\n",
       "    </tr>\n",
       "  </tbody>\n",
       "</table>\n",
       "</div>"
      ],
      "text/plain": [
       "           colors  n_colors\n",
       "0  {white, black}         2\n",
       "1          {pink}         1\n",
       "2           {red}         1\n",
       "3         {black}         1\n",
       "4         {black}         1"
      ]
     },
     "execution_count": 40,
     "metadata": {},
     "output_type": "execute_result"
    }
   ],
   "source": [
    "# count the number of colors\n",
    "product_copy['n_colors'] = product_copy['colors'].apply(len)\n",
    "product_copy[['colors','n_colors']].head(5)\n"
   ]
  },
  {
   "cell_type": "code",
   "execution_count": 41,
   "metadata": {
    "ExecuteTime": {
     "end_time": "2021-05-12T02:06:18.321764Z",
     "start_time": "2021-05-12T02:06:18.187700Z"
    }
   },
   "outputs": [],
   "source": [
    "# tag color labels\n",
    "product_copy['final_color'] = np.nan\n",
    "\n",
    "# label items with more than one color as \"Multi\"\n",
    "product_copy.loc[product_copy['n_colors']>1,'final_color'] = 'multi'\n",
    "\n",
    "# label items with one color\n",
    "product_copy.loc[product_copy['n_colors']==1,'final_color'] = product_copy.loc[product_copy['n_colors']==1,'colors'].\\\n",
    "                                                                        apply(lambda x:list(x)[0])"
   ]
  },
  {
   "cell_type": "code",
   "execution_count": 42,
   "metadata": {
    "ExecuteTime": {
     "end_time": "2021-05-12T02:06:18.827127Z",
     "start_time": "2021-05-12T02:06:18.808375Z"
    }
   },
   "outputs": [
    {
     "data": {
      "text/plain": [
       "multi                   5176\n",
       "black                   4312\n",
       "white                   1948\n",
       "blue                    1902\n",
       "gold                     915\n",
       "navy                     771\n",
       "pink                     737\n",
       "green                    717\n",
       "grey                     600\n",
       "red                      534\n",
       "silver                   392\n",
       "yellow                   384\n",
       "brown                    305\n",
       "orange                   264\n",
       "neutral                  219\n",
       "beige                    149\n",
       "multicolor               147\n",
       "golden                   140\n",
       "purple                   131\n",
       "gray                     104\n",
       "violet                   102\n",
       "burgundy                  90\n",
       "teal                      56\n",
       "multi color               30\n",
       "different colors           9\n",
       "blue green                 9\n",
       "scarlet                    8\n",
       "different colours          7\n",
       "multicolour                6\n",
       "light brown                6\n",
       "multiple colors            6\n",
       "more than one colour       5\n",
       "different color            4\n",
       "several colours            2\n",
       "multiple color             1\n",
       "many colors                1\n",
       "multi colors               1\n",
       "many colours               1\n",
       "umber                      1\n",
       "different colour           1\n",
       "Name: final_color, dtype: int64"
      ]
     },
     "execution_count": 42,
     "metadata": {},
     "output_type": "execute_result"
    }
   ],
   "source": [
    "product_copy['final_color'].value_counts()"
   ]
  },
  {
   "cell_type": "markdown",
   "metadata": {},
   "source": [
    "**There are many ways to say 'multicolors', we grouped them into one value 'multi'**"
   ]
  },
  {
   "cell_type": "code",
   "execution_count": 43,
   "metadata": {
    "ExecuteTime": {
     "end_time": "2021-05-12T02:06:22.193763Z",
     "start_time": "2021-05-12T02:06:19.242430Z"
    }
   },
   "outputs": [
    {
     "name": "stderr",
     "output_type": "stream",
     "text": [
      "100%|██████████| 61355/61355 [00:02<00:00, 21293.25it/s]\n"
     ]
    }
   ],
   "source": [
    "multi_pattern = r'\\b(?:multi(?:ple)?|several|different|many|more than one\\b)\\s? ?colou?rs?'\n",
    "for i in tqdm(range(len(product_copy))):\n",
    "    match = re.search(multi_pattern,\n",
    "                       str(product_copy.loc[i,'final_color']))\n",
    "    if match:\n",
    "        product_copy.loc[i,'final_color'] = 'multi'\n",
    "                       \n",
    "    "
   ]
  },
  {
   "cell_type": "code",
   "execution_count": 44,
   "metadata": {
    "ExecuteTime": {
     "end_time": "2021-05-12T02:06:22.880349Z",
     "start_time": "2021-05-12T02:06:22.823757Z"
    }
   },
   "outputs": [
    {
     "data": {
      "text/plain": [
       "multi          5397\n",
       "black          4312\n",
       "white          1948\n",
       "blue           1902\n",
       "gold            915\n",
       "navy            771\n",
       "pink            737\n",
       "green           717\n",
       "grey            600\n",
       "red             534\n",
       "silver          392\n",
       "yellow          384\n",
       "brown           305\n",
       "orange          264\n",
       "neutral         219\n",
       "beige           149\n",
       "golden          140\n",
       "purple          131\n",
       "gray            104\n",
       "violet          102\n",
       "burgundy         90\n",
       "teal             56\n",
       "blue green        9\n",
       "scarlet           8\n",
       "light brown       6\n",
       "umber             1\n",
       "Name: final_color, dtype: int64"
      ]
     },
     "execution_count": 44,
     "metadata": {},
     "output_type": "execute_result"
    }
   ],
   "source": [
    "product_copy['final_color'].value_counts()"
   ]
  },
  {
   "cell_type": "markdown",
   "metadata": {
    "ExecuteTime": {
     "end_time": "2021-05-05T15:48:03.227010Z",
     "start_time": "2021-05-05T15:48:03.224691Z"
    }
   },
   "source": [
    "## Wash Type"
   ]
  },
  {
   "cell_type": "markdown",
   "metadata": {
    "ExecuteTime": {
     "end_time": "2021-05-12T00:05:42.670137Z",
     "start_time": "2021-05-12T00:05:42.643264Z"
    }
   },
   "source": [
    "This is further sub-categorized into:\n",
    "\n",
    "    Machine wash cold\n",
    "    Tumble dry low\n",
    "    Wash Cold\n",
    "    Hang Dry\n",
    "    No Bleach\n",
    "    Dry clean\n",
    "    Hand wash\n",
    "    Tumble dry"
   ]
  },
  {
   "cell_type": "code",
   "execution_count": 45,
   "metadata": {
    "ExecuteTime": {
     "end_time": "2021-05-12T02:06:23.451580Z",
     "start_time": "2021-05-12T02:06:23.415032Z"
    }
   },
   "outputs": [],
   "source": [
    "def findCare(txt):\n",
    "    \"\"\" Function to determine the care method of item \"\"\"\n",
    "    txt = str(txt)\n",
    "    val = []\n",
    "    care_re = r'\\b(dry clean|hand wash|not? bleach|tumble dry|hang dry\\\n",
    "                |machine wash cold|machine wash|(?:[don\\'t|not?]) machine wash)\\b'\n",
    "    if re.findall(care_re, txt, re.IGNORECASE ):\n",
    "        val = re.findall(care_re, txt, re.IGNORECASE)\n",
    "    return val"
   ]
  },
  {
   "cell_type": "code",
   "execution_count": 46,
   "metadata": {
    "ExecuteTime": {
     "end_time": "2021-05-12T02:06:28.581216Z",
     "start_time": "2021-05-12T02:06:24.503797Z"
    }
   },
   "outputs": [],
   "source": [
    "product_copy['care_list'] = product_copy['description'].apply(findCare)              \n",
    "product_copy['wash_type'] = product_copy['care_list'].apply(lambda x: set(y.lower() for y in x))\n"
   ]
  },
  {
   "cell_type": "code",
   "execution_count": 47,
   "metadata": {
    "ExecuteTime": {
     "end_time": "2021-05-12T02:06:30.089624Z",
     "start_time": "2021-05-12T02:06:29.215750Z"
    }
   },
   "outputs": [
    {
     "data": {
      "text/plain": [
       "0    53596\n",
       "1     7759\n",
       "Name: is_dry_clean, dtype: int64"
      ]
     },
     "execution_count": 47,
     "metadata": {},
     "output_type": "execute_result"
    }
   ],
   "source": [
    "def is_dry_clean(txt):\n",
    "    txt = str(txt)\n",
    "    val = 0\n",
    "    if re.search(r'\\b(dry clean)\\b', txt, re.IGNORECASE ):\n",
    "        val = 1\n",
    "   \n",
    "    return val\n",
    "\n",
    "product_copy['is_dry_clean'] = pd.DataFrame(product_copy.description.apply(is_dry_clean))\n",
    "product_copy['is_dry_clean'].value_counts()"
   ]
  },
  {
   "cell_type": "code",
   "execution_count": 48,
   "metadata": {
    "ExecuteTime": {
     "end_time": "2021-05-12T02:06:31.933148Z",
     "start_time": "2021-05-12T02:06:30.097745Z"
    }
   },
   "outputs": [
    {
     "data": {
      "text/plain": [
       "0    61268\n",
       "1       87\n",
       "Name: is_hand_wash, dtype: int64"
      ]
     },
     "execution_count": 48,
     "metadata": {},
     "output_type": "execute_result"
    }
   ],
   "source": [
    "def is_hand_wash(txt):\n",
    "    txt = str(txt)\n",
    "    val = 0\n",
    "    if re.search(r'\\b(handwash)\\b', txt, re.IGNORECASE ):\n",
    "        val = 1\n",
    "   \n",
    "    return val\n",
    "\n",
    "product_copy['is_hand_wash'] = pd.DataFrame(product_copy.description.apply(is_hand_wash))\n",
    "product_copy['is_hand_wash'].value_counts()"
   ]
  },
  {
   "cell_type": "code",
   "execution_count": 49,
   "metadata": {
    "ExecuteTime": {
     "end_time": "2021-05-12T02:06:34.419979Z",
     "start_time": "2021-05-12T02:06:31.976277Z"
    }
   },
   "outputs": [
    {
     "data": {
      "text/plain": [
       "0    58564\n",
       "1     2791\n",
       "Name: is_machine_wash_cold, dtype: int64"
      ]
     },
     "execution_count": 49,
     "metadata": {},
     "output_type": "execute_result"
    }
   ],
   "source": [
    "def is_machine_wash_cold(txt):\n",
    "    txt = str(txt)\n",
    "    val = 0\n",
    "    if re.search(r'\\b(machine wash cold)\\b', txt, re.IGNORECASE ):\n",
    "        val = 1\n",
    "   \n",
    "    return val\n",
    "\n",
    "product_copy['is_machine_wash_cold'] = pd.DataFrame(product_copy.description.apply(is_machine_wash_cold))\n",
    "product_copy['is_machine_wash_cold'].value_counts()"
   ]
  },
  {
   "cell_type": "code",
   "execution_count": 50,
   "metadata": {
    "ExecuteTime": {
     "end_time": "2021-05-12T02:06:35.711461Z",
     "start_time": "2021-05-12T02:06:34.436293Z"
    }
   },
   "outputs": [
    {
     "data": {
      "text/plain": [
       "0    58026\n",
       "1     3329\n",
       "Name: is_machine_wash, dtype: int64"
      ]
     },
     "execution_count": 50,
     "metadata": {},
     "output_type": "execute_result"
    }
   ],
   "source": [
    "def is_machine_wash(txt):\n",
    "    txt = str(txt)\n",
    "    val = 0\n",
    "    if re.search(r'\\b(machine wash)\\b', txt, re.IGNORECASE ):\n",
    "        val =1\n",
    "   \n",
    "    return val\n",
    "\n",
    "product_copy['is_machine_wash'] = pd.DataFrame(product_copy.description.apply(is_machine_wash))\n",
    "product_copy['is_machine_wash'].value_counts()"
   ]
  },
  {
   "cell_type": "code",
   "execution_count": 51,
   "metadata": {
    "ExecuteTime": {
     "end_time": "2021-05-12T02:06:38.951192Z",
     "start_time": "2021-05-12T02:06:35.746742Z"
    }
   },
   "outputs": [
    {
     "data": {
      "text/plain": [
       "0    58834\n",
       "1     2521\n",
       "Name: is_tumble_dry, dtype: int64"
      ]
     },
     "execution_count": 51,
     "metadata": {},
     "output_type": "execute_result"
    }
   ],
   "source": [
    "def is_tumble_dry(txt):\n",
    "    txt = str(txt)\n",
    "    val = 0\n",
    "    if re.search(r'\\b(tumble dry)\\b', txt, re.IGNORECASE ):\n",
    "        val = 1\n",
    "   \n",
    "    return val\n",
    "\n",
    "product_copy['is_tumble_dry'] = pd.DataFrame(product_copy.description.apply(is_tumble_dry))\n",
    "product_copy['is_tumble_dry'].value_counts()"
   ]
  },
  {
   "cell_type": "code",
   "execution_count": 52,
   "metadata": {
    "ExecuteTime": {
     "end_time": "2021-05-12T02:06:40.641010Z",
     "start_time": "2021-05-12T02:06:38.993559Z"
    },
    "scrolled": true
   },
   "outputs": [
    {
     "data": {
      "text/plain": [
       "0    59351\n",
       "1     2004\n",
       "Name: is_not_bleach, dtype: int64"
      ]
     },
     "execution_count": 52,
     "metadata": {},
     "output_type": "execute_result"
    }
   ],
   "source": [
    "def is_not_bleach(txt):\n",
    "    txt = str(txt)\n",
    "    val = 0\n",
    "    if re.search(r'\\b((not|no) bleach)\\b', txt, re.IGNORECASE ):\n",
    "        val = 1\n",
    "   \n",
    "    return val\n",
    "\n",
    "product_copy['is_not_bleach'] = pd.DataFrame(product_copy.description.apply(is_not_bleach))\n",
    "product_copy['is_not_bleach'].value_counts()"
   ]
  },
  {
   "cell_type": "code",
   "execution_count": 53,
   "metadata": {
    "ExecuteTime": {
     "end_time": "2021-05-12T02:06:41.006455Z",
     "start_time": "2021-05-12T02:06:40.646461Z"
    }
   },
   "outputs": [
    {
     "data": {
      "text/plain": [
       "60       details  super cozy lightweight jersey warm iv...\n",
       "943      the classic army jacket add tomboy toughness t...\n",
       "2660     details  lightweight long sleeve vintage terry...\n",
       "2699     details  cashmere blend long sleeve crewneck h...\n",
       "2965     details  luxe cotton long sleeve crisp white b...\n",
       "                               ...                        \n",
       "56547    high waisted wide leg pull on pant in our cust...\n",
       "56651    one shouldered dress in our custom simon mille...\n",
       "58836    the nejvi top is the intersection of three of ...\n",
       "58837    these wideleg beauties feature an understated ...\n",
       "59161    this machinewashable top has the makings of a ...\n",
       "Name: description, Length: 2004, dtype: object"
      ]
     },
     "execution_count": 53,
     "metadata": {},
     "output_type": "execute_result"
    }
   ],
   "source": [
    "product_copy[product_copy['is_not_bleach']==1]['description']"
   ]
  },
  {
   "cell_type": "code",
   "execution_count": 54,
   "metadata": {
    "ExecuteTime": {
     "end_time": "2021-05-12T02:06:41.076039Z",
     "start_time": "2021-05-12T02:06:41.011953Z"
    }
   },
   "outputs": [
    {
     "data": {
      "text/plain": [
       "product_id                                     01F029NZMTHZ5V3RED5RS07D1W\n",
       "brand                                                               Rails\n",
       "brand_category                                                    Unknown\n",
       "name                                              NESSA - BOTANICAL PALMS\n",
       "details                                                              None\n",
       "created_at                                    2021-03-05 22:56:09.878 UTC\n",
       "brand_canonical_url     https://rails-25.myshopify.com/products/nessa-...\n",
       "description             details  super cozy lightweight jersey warm iv...\n",
       "brand_description       DETAILS |\\nSuper cozy, lightweight jersey, war...\n",
       "brand_name                                        NESSA - BOTANICAL PALMS\n",
       "product_active                                                      False\n",
       "is_womens_clothing                                                   True\n",
       "is_children_clothing                                                False\n",
       "is_men_clothing                                                     False\n",
       "user_type                                                           women\n",
       "one_piece_check                                                         0\n",
       "shoe_check                                                              0\n",
       "handbag_check                                                           0\n",
       "scarf_check                                                             0\n",
       "top_check                                                               1\n",
       "acc_check                                                               0\n",
       "linen_check                                                             0\n",
       "bottom_check                                                            1\n",
       "lingerie_check                                                          0\n",
       "max_value_cat                                                         1.0\n",
       "final_category                                                        top\n",
       "color_list                                                 [green, white]\n",
       "colors                                                     {white, green}\n",
       "n_colors                                                                2\n",
       "final_color                                                         multi\n",
       "care_list                                          [hand wash, no bleach]\n",
       "wash_type                                          {hand wash, no bleach}\n",
       "is_dry_clean                                                            0\n",
       "is_hand_wash                                                            0\n",
       "is_machine_wash_cold                                                    0\n",
       "is_machine_wash                                                         0\n",
       "is_tumble_dry                                                           0\n",
       "is_not_bleach                                                           1\n",
       "Name: 60, dtype: object"
      ]
     },
     "execution_count": 54,
     "metadata": {},
     "output_type": "execute_result"
    }
   ],
   "source": [
    "product_copy.iloc[60]"
   ]
  },
  {
   "cell_type": "markdown",
   "metadata": {},
   "source": [
    "## Fabric\n",
    "\n",
    "We try to find the fabric of the product."
   ]
  },
  {
   "cell_type": "code",
   "execution_count": 55,
   "metadata": {
    "ExecuteTime": {
     "end_time": "2021-05-12T02:06:41.106236Z",
     "start_time": "2021-05-12T02:06:41.082675Z"
    }
   },
   "outputs": [],
   "source": [
    "fabric_list = ['broadcloth','brocade','calico','cashmere','chambray','chiffon',\n",
    "               'corduroy','cotton','eyelet','faille','foulard','furbelow',\n",
    "               'fustian','gingham','grosgrain','jacquard','knit','linen','lisle',\n",
    "              'madras','merino','paisley','sateen','satin','seersucker','shetland',\n",
    "              'silk','taffeta','tulle','velvet','polyester']"
   ]
  },
  {
   "cell_type": "code",
   "execution_count": 56,
   "metadata": {
    "ExecuteTime": {
     "end_time": "2021-05-12T02:06:46.428176Z",
     "start_time": "2021-05-12T02:06:46.416293Z"
    }
   },
   "outputs": [],
   "source": [
    "\n",
    "def findFabric(txt):\n",
    "    \"\"\" Function to determine the fabric of item \"\"\"\n",
    "    fabric_re = r'\\b(broadcloth|brocade|calico|cashmere|chambray|chiffon|corduroy|cotton|eyelet|faille|foulard|furbelow|fustian|gingham|grosgrain|jacquard|knit\\\n",
    "                    |linen|lisle|madras|merino|paisley|sateen|satin|\\\n",
    "                    seersucker|shetland|silk|taffeta|tulle|velvet|polyester|rayon)\\b'\n",
    "    val = []\n",
    "    txt = str(txt)\n",
    "    if re.findall(fabric_re, txt, re.IGNORECASE ):\n",
    "        val = re.findall(fabric_re, txt, re.IGNORECASE )\n",
    "    return val"
   ]
  },
  {
   "cell_type": "code",
   "execution_count": 57,
   "metadata": {
    "ExecuteTime": {
     "end_time": "2021-05-12T02:06:56.272686Z",
     "start_time": "2021-05-12T02:06:47.034345Z"
    }
   },
   "outputs": [],
   "source": [
    "product_copy['fabric_list'] = product_copy['description'].apply(findFabric) +product_copy['name'].apply(findFabric)              \n",
    "\n",
    "product_copy['fabrics'] = product_copy['fabric_list'].apply(lambda x: set(y.lower() for y in x))\n"
   ]
  },
  {
   "cell_type": "code",
   "execution_count": 58,
   "metadata": {
    "ExecuteTime": {
     "end_time": "2021-05-12T02:06:56.311015Z",
     "start_time": "2021-05-12T02:06:56.275664Z"
    }
   },
   "outputs": [],
   "source": [
    "product_copy['n_fabric'] = product_copy['fabrics'].apply(len)"
   ]
  },
  {
   "cell_type": "code",
   "execution_count": 59,
   "metadata": {
    "ExecuteTime": {
     "end_time": "2021-05-12T02:06:56.374666Z",
     "start_time": "2021-05-12T02:06:56.314354Z"
    }
   },
   "outputs": [],
   "source": [
    "\n",
    "# tag color labels\n",
    "product_copy['final_fabric'] = np.nan\n",
    "# label items with more than one color as \"Multi\"\n",
    "product_copy.loc[product_copy['n_fabric']>1,'final_fabric'] = 'multi'\n",
    "# label items with one color\n",
    "product_copy.loc[product_copy['n_fabric']==1,'final_fabric'] = \\\n",
    "       product_copy.loc[product_copy['n_fabric']==1,'fabrics'].apply(lambda x:list(x)[0])\n",
    "  "
   ]
  },
  {
   "cell_type": "code",
   "execution_count": 60,
   "metadata": {
    "ExecuteTime": {
     "end_time": "2021-05-12T02:06:56.409850Z",
     "start_time": "2021-05-12T02:06:56.377930Z"
    }
   },
   "outputs": [
    {
     "data": {
      "text/plain": [
       "cotton       10752\n",
       "multi         5085\n",
       "polyester     1922\n",
       "silk          1643\n",
       "linen          881\n",
       "cashmere       871\n",
       "chiffon        739\n",
       "rayon          634\n",
       "satin          379\n",
       "merino         287\n",
       "velvet         274\n",
       "chambray       256\n",
       "jacquard       206\n",
       "grosgrain      129\n",
       "eyelet         102\n",
       "corduroy        98\n",
       "gingham         67\n",
       "sateen          49\n",
       "tulle           30\n",
       "paisley         29\n",
       "taffeta         21\n",
       "foulard          9\n",
       "madras           3\n",
       "brocade          3\n",
       "calico           2\n",
       "faille           1\n",
       "lisle            1\n",
       "Name: final_fabric, dtype: int64"
      ]
     },
     "execution_count": 60,
     "metadata": {},
     "output_type": "execute_result"
    }
   ],
   "source": [
    "product_copy['final_fabric'].value_counts()"
   ]
  },
  {
   "cell_type": "code",
   "execution_count": 61,
   "metadata": {
    "ExecuteTime": {
     "end_time": "2021-05-12T02:06:56.440230Z",
     "start_time": "2021-05-12T02:06:56.413791Z"
    }
   },
   "outputs": [
    {
     "data": {
      "text/plain": [
       "Index(['product_id', 'brand', 'brand_category', 'name', 'details',\n",
       "       'created_at', 'brand_canonical_url', 'description', 'brand_description',\n",
       "       'brand_name', 'product_active', 'is_womens_clothing',\n",
       "       'is_children_clothing', 'is_men_clothing', 'user_type',\n",
       "       'one_piece_check', 'shoe_check', 'handbag_check', 'scarf_check',\n",
       "       'top_check', 'acc_check', 'linen_check', 'bottom_check',\n",
       "       'lingerie_check', 'max_value_cat', 'final_category', 'color_list',\n",
       "       'colors', 'n_colors', 'final_color', 'care_list', 'wash_type',\n",
       "       'is_dry_clean', 'is_hand_wash', 'is_machine_wash_cold',\n",
       "       'is_machine_wash', 'is_tumble_dry', 'is_not_bleach', 'fabric_list',\n",
       "       'fabrics', 'n_fabric', 'final_fabric'],\n",
       "      dtype='object')"
      ]
     },
     "execution_count": 61,
     "metadata": {},
     "output_type": "execute_result"
    }
   ],
   "source": [
    "product_copy.columns"
   ]
  },
  {
   "cell_type": "markdown",
   "metadata": {},
   "source": [
    "## Made In\n",
    "\n",
    "In this section, we try to identify the location the product is madufactured in."
   ]
  },
  {
   "cell_type": "markdown",
   "metadata": {},
   "source": [
    "Created a feature that includes the city/country the item is made in. Countries such as Italy, Ghana, India, and Spain were included because we saw a few items that had associations with those countries."
   ]
  },
  {
   "cell_type": "code",
   "execution_count": 62,
   "metadata": {
    "ExecuteTime": {
     "end_time": "2021-05-12T02:07:17.989206Z",
     "start_time": "2021-05-12T02:06:57.955742Z"
    }
   },
   "outputs": [],
   "source": [
    "location_list_clean = []\n",
    "for rows in range(0,len(product_copy)):\n",
    "    #check if content in description column, if not (aka null), there's usually content in details column\n",
    "    if pd.isnull(product_copy.loc[rows,'description']):\n",
    "        if pd.isnull(product_copy.loc[rows,'details']):\n",
    "            location_list_clean.append('None')\n",
    "            continue\n",
    "        else:\n",
    "            #append entity to list and operate on the details column, will be used to slap it onto main dataframe later\n",
    "            if len(re.findall(r'\\b(USA|United States)\\b',str(product_copy.loc[rows,'details']),flags=re.IGNORECASE)) >= 1:\n",
    "                location_list_clean.append('USA')\n",
    "            elif len(re.findall(r'\\b(Italy)\\b',str(product_copy.loc[rows,'details']),flags=re.IGNORECASE)) >= 1:\n",
    "                location_list_clean.append('Italy')\n",
    "            elif len(re.findall(r'\\b(New York|NewYork|new_york_city|NewYorkCity|NY|NYC|N\\.Y\\.)\\b',str(product_copy.loc[rows,'details']),flags=re.IGNORECASE)) >= 1:\n",
    "                location_list_clean.append('New York')\n",
    "            elif len(re.findall(r'\\b(Los Angeles|LA|LosAngeles|L\\.A\\.)\\b',str(product_copy.loc[rows,'details']),flags=re.IGNORECASE)) >= 1:\n",
    "                location_list_clean.append('LA')\n",
    "            elif len(re.findall(r'\\b(Ghana)\\b',str(product_copy.loc[rows,'details']),flags=re.IGNORECASE)) >= 1:\n",
    "                location_list_clean.append('Ghana')\n",
    "            elif len(re.findall(r'\\b(China)\\b',str(product_copy.loc[rows,'details']),flags=re.IGNORECASE)) >= 1:\n",
    "                location_list_clean.append('China')\n",
    "            elif len(re.findall(r'\\b(India)\\b',str(product_copy.loc[rows,'details']),flags=re.IGNORECASE)) >= 1:\n",
    "                location_list_clean.append('India')\n",
    "            elif len(re.findall(r'\\b(Spain)\\b',str(product_copy.loc[rows,'details']),flags=re.IGNORECASE)) >= 1:\n",
    "                location_list_clean.append('Spain')\n",
    "            elif len(re.findall(r'\\b(France)\\b',str(product_copy.loc[rows,'details']),flags=re.IGNORECASE)) >= 1:\n",
    "                location_list_clean.append('France')\n",
    "            elif len(re.findall(r'\\b(London|UK|U\\.K\\.)\\b',str(product_copy.loc[rows,'details']),flags=re.IGNORECASE)) >= 1:\n",
    "                location_list_clean.append('London/UK')\n",
    "            elif len(re.findall(r'\\b(Japan|Tokyo)\\b',str(product_copy.loc[rows,'details']),flags=re.IGNORECASE)) >= 1:\n",
    "                location_list_clean.append('Japan')\n",
    "            else:\n",
    "                location_list_clean.append('None')\n",
    "    else:\n",
    "        #do the same thing as above if content is in description column\n",
    "            if len(re.findall(r'\\b(USA|United States)\\b',str(product_copy.loc[rows,'description']),flags=re.IGNORECASE)) >= 1:\n",
    "                location_list_clean.append('USA')\n",
    "            elif len(re.findall(r'\\b(Italy)\\b',str(product_copy.loc[rows,'description']),flags=re.IGNORECASE)) >= 1:\n",
    "                location_list_clean.append('Italy')\n",
    "            elif len(re.findall(r'\\b(New York|NewYork|new_york_city|NewYorkCity|NY|NYC|N\\.Y\\.)\\b',str(product.loc[rows,'description']),flags=re.IGNORECASE)) >= 1:\n",
    "                location_list_clean.append('New York')\n",
    "            elif len(re.findall(r'\\b(Los Angeles|LA|LosAngeles|L\\.A\\.)\\b',str(product_copy.loc[rows,'description']),flags=re.IGNORECASE)) >= 1:\n",
    "                location_list_clean.append('LA')\n",
    "            elif len(re.findall(r'\\b(Ghana)\\b',str(product_copy.loc[rows,'description']),flags=re.IGNORECASE)) >= 1:\n",
    "                location_list_clean.append('Ghana')\n",
    "            elif len(re.findall(r'\\b(China)\\b',str(product_copy.loc[rows,'description']),flags=re.IGNORECASE)) >= 1:\n",
    "                location_list_clean.append('China')\n",
    "            elif len(re.findall(r'\\b(India)\\b',str(product_copy.loc[rows,'description']),flags=re.IGNORECASE)) >= 1:\n",
    "                location_list_clean.append('India')\n",
    "            elif len(re.findall(r'\\b(Spain)\\b',str(product_copy.loc[rows,'description']),flags=re.IGNORECASE)) >= 1:\n",
    "                location_list_clean.append('Spain')\n",
    "            elif len(re.findall(r'\\b(France)\\b',str(product_copy.loc[rows,'description']),flags=re.IGNORECASE)) >= 1:\n",
    "                location_list_clean.append('France')\n",
    "            elif len(re.findall(r'\\b(London|UK|U\\.K\\.)\\b',str(product_copy.loc[rows,'description']),flags=re.IGNORECASE)) >= 1:\n",
    "                location_list_clean.append('London/UK')\n",
    "            elif len(re.findall(r'\\b(Japan|Tokyo)\\b',str(product_copy.loc[rows,'description']),flags=re.IGNORECASE)) >= 1:\n",
    "                location_list_clean.append('Japan')\n",
    "            else:\n",
    "                location_list_clean.append('None')"
   ]
  },
  {
   "cell_type": "markdown",
   "metadata": {},
   "source": [
    "## Occasions"
   ]
  },
  {
   "cell_type": "markdown",
   "metadata": {},
   "source": [
    "Occasions could be an interesting feature, since brands might have specialties and/or some brands are very occasion specific (ex. yoga attire only, swimwear only, etc). We wanted to capture all four seasons, while further segmenting Work, Beach, Swimwear, Sports, and Yoga."
   ]
  },
  {
   "cell_type": "code",
   "execution_count": 63,
   "metadata": {
    "ExecuteTime": {
     "end_time": "2021-05-12T02:07:45.454126Z",
     "start_time": "2021-05-12T02:07:17.993550Z"
    }
   },
   "outputs": [],
   "source": [
    "occasion_list_cleaned = []\n",
    "for rows in range(0,len(product_copy)):\n",
    "    #check if content in description column, if not (aka null), there's usually content in details column\n",
    "    if pd.isnull(product_copy.loc[rows,'description']):\n",
    "        if pd.isnull(product_copy.loc[rows,'details']):\n",
    "            occasion_list_cleaned.append('None')\n",
    "            continue\n",
    "        else:\n",
    "            #append entity to list and operate on the details column, will be used to slap it onto main dataframe later\n",
    "            if len(re.findall(r'\\b(summer|summertime|sun|sunny|heat|June|July|August)\\b',str(product_copy.loc[rows,'details']),flags=re.IGNORECASE)) >= 1:\n",
    "                occasion_list_cleaned.append('Summer_Season')\n",
    "            elif len(re.findall(r'\\b(work)\\b',str(product_copy.loc[rows,'details']),flags=re.IGNORECASE)) >= 1:\n",
    "                occasion_list_cleaned.append('Work')\n",
    "            elif len(re.findall(r'\\b(beach|beachy|sand|sandy)\\b',str(product_copy.loc[rows,'details']),flags=re.IGNORECASE)) >= 1:\n",
    "                occasion_list_cleaned.append('Beach')\n",
    "            elif len(re.findall(r'\\b(fall|autumn|thanksgiving|halloween|September|October|November)\\b',str(product_copy.loc[rows,'details']),flags=re.IGNORECASE)) >= 1:\n",
    "                occasion_list_cleaned.append('Fall_Season')\n",
    "            elif len(re.findall(r'\\b(spring|March|April|Easter)\\b',str(product_copy.loc[rows,'details']),flags=re.IGNORECASE)) >= 1:\n",
    "                occasion_list_cleaned.append('Spring_Season')\n",
    "            elif len(re.findall(r'\\b(winter|cold|New Year|Christmas|snow|December|January|February)\\b',str(product_copy.loc[rows,'details']),flags=re.IGNORECASE)) >= 1:\n",
    "                occasion_list_cleaned.append('Winter_Season')                \n",
    "            elif len(re.findall(r'\\b(swim|water|wet|pool|swimwear)\\b',str(product_copy.loc[rows,'details']),flags=re.IGNORECASE)) >= 1:\n",
    "                occasion_list_cleaned.append('Swimwear')    \n",
    "            elif len(re.findall(r'\\b(sports|golf|tennis|marathon|basketball|soccer|cycling|hiking|climbing|running|sport|sportswear|hike|climb|run|workout)\\b',str(product_copy.loc[rows,'details']),flags=re.IGNORECASE)) >= 1:\n",
    "                occasion_list_cleaned.append('Sports') \n",
    "            elif len(re.findall(r'\\b(yoga|studio|yogi|poses)\\b',str(product_copy.loc[rows,'details']),flags=re.IGNORECASE)) >= 1:\n",
    "                occasion_list_cleaned.append('Yoga')\n",
    "            else:\n",
    "                occasion_list_cleaned.append('None')\n",
    "    else:\n",
    "        #do the same thing as above if content is in description column\n",
    "            if len(re.findall(r'\\b(summer|summertime|sun|sunny|heat|June|July|August)\\b',str(product_copy.loc[rows,'description']),flags=re.IGNORECASE)) >= 1:\n",
    "                occasion_list_cleaned.append('Summer_Season')\n",
    "            elif len(re.findall(r'\\b(work)\\b',str(product_copy.loc[rows,'description']),flags=re.IGNORECASE)) >= 1:\n",
    "                occasion_list_cleaned.append('Work')\n",
    "            elif len(re.findall(r'\\b(beach|beachy|sand|sandy)\\b',str(product_copy.loc[rows,'description']),flags=re.IGNORECASE)) >= 1:\n",
    "                occasion_list_cleaned.append('Beach')\n",
    "            elif len(re.findall(r'\\b(fall|autumn|thanksgiving|halloween|September|October|November)\\b',str(product_copy.loc[rows,'description']),flags=re.IGNORECASE)) >= 1:\n",
    "                occasion_list_cleaned.append('Fall_Season')\n",
    "            elif len(re.findall(r'\\b(spring|March|April|Easter)\\b',str(product_copy.loc[rows,'description']),flags=re.IGNORECASE)) >= 1:\n",
    "                occasion_list_cleaned.append('Spring_Season')\n",
    "            elif len(re.findall(r'\\b(winter|cold|New Year|Christmas|snow|December|January|February)\\b',str(product_copy.loc[rows,'description']),flags=re.IGNORECASE)) >= 1:\n",
    "                occasion_list_cleaned.append('Winter_Season')                \n",
    "            elif len(re.findall(r'\\b(swim|water|wet|pool|swimwear)\\b',str(product_copy.loc[rows,'description']),flags=re.IGNORECASE)) >= 1:\n",
    "                occasion_list_cleaned.append('Swimwear')    \n",
    "            elif len(re.findall(r'\\b(sports|golf|tennis|marathon|basketball|soccer|cycling|hiking|climbing|running|sport|sportswear|hike|climb|run|workout)\\b',str(product_copy.loc[rows,'description']),flags=re.IGNORECASE)) >= 1:\n",
    "                occasion_list_cleaned.append('Sports') \n",
    "            elif len(re.findall(r'\\b(yoga|studio|yogi|poses)\\b',str(product_copy.loc[rows,'description']),flags=re.IGNORECASE)) >= 1:\n",
    "                occasion_list_cleaned.append('Yoga')\n",
    "            else:\n",
    "                occasion_list_cleaned.append('None')"
   ]
  },
  {
   "cell_type": "markdown",
   "metadata": {},
   "source": [
    "## Deadstock"
   ]
  },
  {
   "cell_type": "markdown",
   "metadata": {},
   "source": [
    "We noticed some brands used deadstock fabrics/materials to create items, so we wanted to see if this could help predict the brand better."
   ]
  },
  {
   "cell_type": "code",
   "execution_count": 64,
   "metadata": {
    "ExecuteTime": {
     "end_time": "2021-05-12T02:07:50.146011Z",
     "start_time": "2021-05-12T02:07:46.329943Z"
    }
   },
   "outputs": [],
   "source": [
    "deadstock_list = []\n",
    "for rows in range(0,len(product_copy)):\n",
    "    #check if content in description column, if not (aka null), there's usually content in details column\n",
    "    if pd.isnull(product_copy.loc[rows,'description']):\n",
    "        if pd.isnull(product_copy.loc[rows,'details']):\n",
    "            deadstock_list.append(0)\n",
    "            continue\n",
    "        else:\n",
    "            #append entity to list and operate on the details column, will be used to slap it onto main dataframe later\n",
    "            if len(re.findall(r'\\b(deadstock)\\b',str(product_copy.loc[rows,'details']),flags=re.IGNORECASE)) >=1:\n",
    "                deadstock_list.append(1)\n",
    "            else:\n",
    "                deadstock_list.append(0)\n",
    "\n",
    "    else:\n",
    "        #do the same thing as above if content is in description column\n",
    "            if len(re.findall(r'\\b(deadstock)\\b',str(product_copy.loc[rows,'description']),flags=re.IGNORECASE)) >=1:\n",
    "                deadstock_list.append(1)\n",
    "            else:\n",
    "                deadstock_list.append(0)"
   ]
  },
  {
   "cell_type": "markdown",
   "metadata": {},
   "source": [
    "## Handcrafted"
   ]
  },
  {
   "cell_type": "markdown",
   "metadata": {},
   "source": [
    "Similar to the logic of trying the deadstock feature, we noticed some brands handcrafted their items, so we wanted to see if this could help predict the brand better."
   ]
  },
  {
   "cell_type": "code",
   "execution_count": 65,
   "metadata": {
    "ExecuteTime": {
     "end_time": "2021-05-12T02:07:54.011931Z",
     "start_time": "2021-05-12T02:07:50.610120Z"
    }
   },
   "outputs": [],
   "source": [
    "handcrafted_list = []\n",
    "for rows in range(0,len(product_copy)):\n",
    "    #check if content in description column, if not (aka null), there's usually content in details column\n",
    "    if pd.isnull(product_copy.loc[rows,'description']):\n",
    "        if pd.isnull(product_copy.loc[rows,'details']):\n",
    "            handcrafted_list.append(0)\n",
    "            continue\n",
    "        else:\n",
    "            #append entity to list and operate on the details column, will be used to slap it onto main dataframe later\n",
    "            if len(re.findall(r'\\b(handcrafted|hand-crafted)\\b',str(product_copy.loc[rows,'details']),flags=re.IGNORECASE)) >=1:\n",
    "                handcrafted_list.append(1)\n",
    "            else:\n",
    "                handcrafted_list.append(0)\n",
    "\n",
    "    else:\n",
    "        #do the same thing as above if content is in description column\n",
    "            if len(re.findall(r'\\b(handcrafted|hand-crafted)\\b',str(product_copy.loc[rows,'description']),flags=re.IGNORECASE)) >=1:\n",
    "                handcrafted_list.append(1)\n",
    "            else:\n",
    "                handcrafted_list.append(0)"
   ]
  },
  {
   "cell_type": "markdown",
   "metadata": {},
   "source": [
    "## True to size"
   ]
  },
  {
   "cell_type": "markdown",
   "metadata": {},
   "source": [
    "Some brands had many items that fit true to size, so we wanted to create a feature from this as well."
   ]
  },
  {
   "cell_type": "code",
   "execution_count": 66,
   "metadata": {
    "ExecuteTime": {
     "end_time": "2021-05-12T02:07:58.278851Z",
     "start_time": "2021-05-12T02:07:54.556865Z"
    }
   },
   "outputs": [],
   "source": [
    "truetosize_list = []\n",
    "for rows in range(0,len(product_copy)):\n",
    "    #check if content in description column, if not (aka null), there's usually content in details column\n",
    "    if pd.isnull(product_copy.loc[rows,'description']):\n",
    "        if pd.isnull(product_copy.loc[rows,'details']):\n",
    "            truetosize_list.append(0)\n",
    "            continue\n",
    "        else:\n",
    "            #append entity to list and operate on the details column, will be used to slap it onto main dataframe later\n",
    "            if len(re.findall(r'\\b(true to size)\\b',str(product_copy.loc[rows,'details']),flags=re.IGNORECASE)) >=1:\n",
    "                truetosize_list.append(1)\n",
    "            else:\n",
    "                truetosize_list.append(0)\n",
    "\n",
    "    else:\n",
    "        #do the same thing as above if content is in description column\n",
    "            if len(re.findall(r'\\b(true to size)\\b',str(product_copy.loc[rows,'description']),flags=re.IGNORECASE)) >=1:\n",
    "                truetosize_list.append(1)\n",
    "            else:\n",
    "                truetosize_list.append(0)"
   ]
  },
  {
   "cell_type": "code",
   "execution_count": 67,
   "metadata": {
    "ExecuteTime": {
     "end_time": "2021-05-12T02:07:58.944017Z",
     "start_time": "2021-05-12T02:07:58.834293Z"
    }
   },
   "outputs": [],
   "source": [
    "product_copy['Made_In'] = location_list_clean\n",
    "product_copy['Occasion'] = occasion_list_cleaned\n",
    "product_copy['Deadstock'] = deadstock_list\n",
    "product_copy['Handcrafted'] = handcrafted_list\n",
    "product_copy['True_To_Size'] = truetosize_list"
   ]
  },
  {
   "cell_type": "code",
   "execution_count": 68,
   "metadata": {
    "ExecuteTime": {
     "end_time": "2021-05-12T02:07:59.524852Z",
     "start_time": "2021-05-12T02:07:59.490985Z"
    }
   },
   "outputs": [
    {
     "data": {
      "text/plain": [
       "0    55433\n",
       "1     5922\n",
       "Name: True_To_Size, dtype: int64"
      ]
     },
     "execution_count": 68,
     "metadata": {},
     "output_type": "execute_result"
    }
   ],
   "source": [
    "product_copy['True_To_Size'].value_counts()"
   ]
  },
  {
   "cell_type": "markdown",
   "metadata": {},
   "source": [
    "# Stopwords\n",
    "\n",
    "At this stage, we remove stopwords before lemmatization."
   ]
  },
  {
   "cell_type": "code",
   "execution_count": 69,
   "metadata": {
    "ExecuteTime": {
     "end_time": "2021-05-12T02:08:02.366243Z",
     "start_time": "2021-05-12T02:08:00.051414Z"
    }
   },
   "outputs": [
    {
     "name": "stdout",
     "output_type": "stream",
     "text": [
      "frozenset({'least', 'last', 'between', 'our', 'empty', 'her', 'of', 'de', 'former', 'get', 'whoever', 'per', 'cry', 'myself', 'therein', 'quite', 'namely', 'found', 'less', 'as', 'it', 'anyhow', 'do', 'beyond', 'have', 'enough', 'below', 'out', 'really', 'anything', 'onto', 'indeed', 'whatever', 'none', 'an', 'together', 'front', 'thru', 'we', 'five', 'has', 'hereby', 'made', 'co', 'to', 'you', 'be', 'throughout', 'well', 'here', 'sixty', 'most', 'or', 'what', 'perhaps', 'each', 'nine', 'sincere', 'sometime', 'thus', 'thereby', 'wherein', 'wherever', 'four', 'us', 'his', 'while', 'must', 'seems', 'couldnt', 'eight', 'there', 'every', 'third', 'among', 'ltd', 'does', 'him', 'any', 'fire', 'now', 'over', 'someone', 'computer', 'serious', 'toward', 'anywhere', 'before', 'sometimes', 'are', 'everything', 'becomes', 'were', 'few', 'how', 'from', 'where', 'full', 'he', 'thereupon', 'their', 'hasnt', 'all', 'should', 'keep', 'into', 'due', 'which', 'and', 'whether', 'whereafter', 'thick', 'both', 'themselves', 'itself', 'neither', 'these', 'within', 'during', 'this', 'move', 'your', 'except', 'doing', 'call', 'whenever', 'herein', 'who', 'forty', 'else', 'until', 'cant', 'herself', 'ie', 'side', 'around', 'thereafter', 'back', 'further', 'anyone', 'using', 'kg', 'but', 'nowhere', 'whence', 'others', 'with', 'take', 'otherwise', 'amongst', 'ten', 'under', 'me', 'at', 'became', 'moreover', 'once', 'across', 'nobody', 'beforehand', 'latter', 'please', 'even', 'always', 'than', 'being', 'hence', 'system', 'although', 'when', 'still', 'those', 'them', 'seem', 'already', 'some', 'inc', 'i', 'hers', 'rather', 'for', 'thin', 'ever', 'towards', 'they', 'ourselves', 'whereas', 'therefore', 'detail', 'whereupon', 'twenty', 'give', 'hundred', 'fifty', 'no', 'himself', 'along', 'see', 'show', 'a', 'through', 'why', 'she', 'much', 'bottom', 'own', 'above', 'hereupon', 'then', 'alone', 'becoming', 'about', 'doesn', 'noone', 'mill', 'describe', 'did', 'anyway', 'two', 'via', 'nothing', 'would', 'various', 'same', 'yours', 'thence', 'whose', 'didn', 'km', 'was', 'other', 'top', 'not', 'up', 'in', 'whither', 'nevertheless', 'such', 'latterly', 'next', 'cannot', 'since', 'eg', 'been', 'etc', 'elsewhere', 'say', 'everyone', 'so', 'somewhere', 'only', 'by', 'used', 'seemed', 'though', 'nor', 'never', 'off', 'after', 'fifteen', 'something', 'can', 'often', 'meanwhile', 'become', 'regarding', 'that', 'done', 'yourselves', 'upon', 'several', 'my', 'against', 'also', 'yet', 'if', 'will', 'more', 'the', 'name', 'everywhere', 're', 'mostly', 'down', 'whom', 'its', 'put', 'could', 'am', 'part', 'go', 'unless', 'another', 'however', 'one', 'whereby', 'is', 'very', 'first', 'seeming', 'don', 'ours', 'hereafter', 'either', 'on', 'mine', 'interest', 'beside', 'twelve', 'whole', 'con', 'too', 'might', 'many', 'may', 'almost', 'afterwards', 'amount', 'somehow', 'besides', 'un', 'had', 'without', 'three', 'six', 'amoungst', 'just', 'make', 'yourself', 'fill', 'behind', 'bill', 'formerly', 'again', 'eleven', 'because', 'find'})\n"
     ]
    },
    {
     "name": "stderr",
     "output_type": "stream",
     "text": [
      "/Users/sneharaj/opt/anaconda3/lib/python3.8/site-packages/gensim/similarities/__init__.py:15: UserWarning: The gensim.similarities.levenshtein submodule is disabled, because the optional Levenshtein package <https://pypi.org/project/python-Levenshtein/> is unavailable. Install Levenhstein (e.g. `pip install python-Levenshtein`) to suppress this warning.\n",
      "  warnings.warn(msg)\n"
     ]
    }
   ],
   "source": [
    "import gensim\n",
    "from gensim.parsing.preprocessing import remove_stopwords\n",
    "stopwords = gensim.parsing.preprocessing.STOPWORDS\n",
    "print(stopwords)"
   ]
  },
  {
   "cell_type": "code",
   "execution_count": 70,
   "metadata": {
    "ExecuteTime": {
     "end_time": "2021-05-12T02:08:02.947267Z",
     "start_time": "2021-05-12T02:08:02.922866Z"
    }
   },
   "outputs": [],
   "source": [
    "stopwords_mod = ['moreover', 'only', 'eight', 'otherwise', 'unless', 'done', 'as', 'somehow',\n",
    " 'off', 'three', 'do', 'become', 'nothing', 'a', 'top', 'describe', 'not',\n",
    " 'although', 'co', 'if', 'mostly', 'such', 'third', 'myself', 'sometime',\n",
    " 'because', 'yours', 'within', 'noone', 'former', 'through', 'seeming',\n",
    " 'further', 'fifteen', 'had', 'inc', 'into', 'is', 'who', 'amount', 'during', 'per', 'doing',\n",
    " 'for', 'neither', 'an', 'yourself', 'under', 'still', 'doesn', 'this', 'name', 'rather', 'it',\n",
    " 'whence', 'toward', 'various', 'somewhere', 'the', 'hasnt', 'few', 'thereupon', 'alone', 'all', 'own', 'yet',\n",
    " 'well', 'ourselves', 'anywhere', 'with', 'many', 'themselves', 'until',\n",
    " 'side', 'move', 'from', 'its', 'her', 'upon', 'here', 'don', 'above',\n",
    " 'wherein', 'their', 'becomes', 'thus', 'up', 'either', 'another', 'can', 'beforehand', 'twelve', 'ours', 'call',\n",
    " 'hereafter', 'me', 'part', 'less', 'between', 'other', 'de', 'kg', 'nowhere', 'at', 'without', 'among', 'thin', 'anyway', 'towards', 'using',\n",
    " 'see', 'what', 'serious', 'whether', 'perhaps', 'thereafter', 'or', 'put', 'thick', 'sixty', 'five', 'i', 'how', 'even', 'one', 'didn', 'below', 'which', 'first', 'them', 'hundred', 'hereupon', 'mill', 'been', 'besides', 'to', 'amongst', 'make', 'however', 'just', 'must', 'both', 'each', 'any', 'again', 'are', 'everyone', 'herein', 'bill', 'then', 'get', 'fifty',\n",
    " 'anyone', 'whereby', 'so', 'un', 'became', 'nor', 'were', 'used', 'whereupon',\n",
    " 'show', 'give', 'seems', 'but', 'always', 'against', 'him', 'wherever', 'made',\n",
    " 'some', 'last', 'along', 'computer', 'anyhow', 'cry', 'about', 'that', 'on', 'due',\n",
    " 'meanwhile', 'his', 'our', 'when', 'these', 'and', 'several', 'formerly', 'since',\n",
    " 'whole', 'am', 'eleven', 'once', 'whoever', 'eg', 'please', 'amoungst', 'least',\n",
    " 'hence', 'us', 'ie', 'go', 'ever', 'every', 'none', 'others', 'of', 'fire', 'whenever', 'too', 'indeed',\n",
    " 'already', 'by', 'becoming', 'whose', 'something', 'yourselves', 're', 'around', 'nine', 'via', 'where', 'forty', 'hereby', 'everything', 'sometimes', 'system', 'might', 'no', 'across', 'could', 'very', 'more', 'behind', 'afterwards', 'whereas', 'twenty', 'while', 'out', 'ten', 'latterly', 'namely', 'be', 'should', 'thereby', 'mine', 'whom', 'fill', 'two', 'beyond', 'take', 'my', 'else', 'throughout', 'would', 'thence', 'say', 'will', 'down', 'does', 'together', 'though', 'next', 'also', 'we', 'back', 'cannot', 'sincere', 'most', 'seemed', 'therein', 'she', 'being',\n",
    " 'latter', 'they', 'seem', 'did', 'detail', 'whatever', 'someone', 'himself', 'regarding', 'nobody', 'six', 'bottom', 'elsewhere', 'find', 'etc', 'couldnt', 'your', 'interest', 'has', 'ltd', 'therefore', 'thru', 'four', 'km', 'anything', 'quite', 'now', 'everywhere', 'those', 'con', 'much', 'you', 'than', 'same', 'keep', 'full', 'cant', 'beside', 'herself', 'except', 'itself', 'after', 'may', 'before', 'often', 'in', 'almost', 'nevertheless', 'why', 'have', 'front', 'enough', 'whereafter', 'there', 'whither', 'he', 'found', 'really', 'hers', 'no','in',\n",
    " 'empty', 'never', 'was', 'onto', 'over']"
   ]
  },
  {
   "cell_type": "markdown",
   "metadata": {},
   "source": [
    "We added some customised stopwords. Almost all the products contains information about size.\n",
    "\n",
    "    For instance: 'waist:60, bust:80, hip:90, size:S'. \n",
    "\n",
    "This is not useful to differenciate brands. \n",
    "\n",
    "Thus, we need to remove them. Apart from this, we used the English stopwords from gensim. "
   ]
  },
  {
   "cell_type": "code",
   "execution_count": 71,
   "metadata": {
    "ExecuteTime": {
     "end_time": "2021-05-12T02:08:03.490672Z",
     "start_time": "2021-05-12T02:08:03.485138Z"
    }
   },
   "outputs": [],
   "source": [
    "custom_sw = ['size', 'fit','height', 'wide',\n",
    "             'waist','bust' 'hip','measurement',\n",
    "             'model','wear','small','medium','large',\n",
    "            'sizing','high','small','long','cm','easy']\n",
    "stopwords_list = stopwords_mod + custom_sw\n"
   ]
  },
  {
   "cell_type": "code",
   "execution_count": 72,
   "metadata": {
    "ExecuteTime": {
     "end_time": "2021-05-12T02:08:03.999471Z",
     "start_time": "2021-05-12T02:08:03.994021Z"
    }
   },
   "outputs": [],
   "source": [
    "# define a function to remove stopwords\n",
    "def remove_sw(text):\n",
    "    text = str(text)\n",
    "    # split sentence into words\n",
    "    words = word_tokenize(text)\n",
    "    \n",
    "    new_words = []\n",
    "    # remove stopwords\n",
    "    for w in words:\n",
    "        if w in stopwords_list:\n",
    "            continue\n",
    "        new_words.append(w)\n",
    "    \n",
    "    return ' '.join(new_words)"
   ]
  },
  {
   "cell_type": "code",
   "execution_count": 73,
   "metadata": {
    "ExecuteTime": {
     "end_time": "2021-05-12T02:09:11.741872Z",
     "start_time": "2021-05-12T02:08:04.530309Z"
    }
   },
   "outputs": [
    {
     "name": "stdout",
     "output_type": "stream",
     "text": [
      "CPU times: user 57.3 s, sys: 1.32 s, total: 58.6 s\n",
      "Wall time: 1min 7s\n"
     ]
    }
   ],
   "source": [
    "%%time\n",
    "\n",
    "product_copy['description'] = pd.DataFrame(product_copy['description'].apply(remove_sw))"
   ]
  },
  {
   "cell_type": "code",
   "execution_count": 68,
   "metadata": {
    "ExecuteTime": {
     "end_time": "2021-05-12T00:49:06.716737Z",
     "start_time": "2021-05-12T00:49:03.514925Z"
    }
   },
   "outputs": [
    {
     "name": "stderr",
     "output_type": "stream",
     "text": [
      "<ipython-input-68-5ff3174b2f83>:3: FutureWarning: The default value of regex will change from True to False in a future version.\n",
      "  product_copy.description=product_copy.description.str.replace(pattern,'')\n"
     ]
    }
   ],
   "source": [
    "# remove other stopwords pattern\n",
    "pattern=r'\\b(mm|(x)?(x)?s|wear(s|ing)?|measurements?|x|new(est)?|detail(s|ed)?|)\\b'\n",
    "product_copy.description=product_copy.description.str.replace(pattern,'')\n"
   ]
  },
  {
   "cell_type": "code",
   "execution_count": 69,
   "metadata": {
    "ExecuteTime": {
     "end_time": "2021-05-12T00:49:06.775155Z",
     "start_time": "2021-05-12T00:49:06.757732Z"
    }
   },
   "outputs": [
    {
     "data": {
      "text/plain": [
       "'signature khadi shirt available black white beach city promise goto warm weather item perfect blazer hand loomed woven stripe khadi cotton slightly sheer gets softer wash ships week april color white black length 27 width 265 fits grid khadi cotton'"
      ]
     },
     "execution_count": 69,
     "metadata": {},
     "output_type": "execute_result"
    }
   ],
   "source": [
    "## check the result\n",
    "product_copy.description[0]"
   ]
  },
  {
   "cell_type": "code",
   "execution_count": 74,
   "metadata": {
    "ExecuteTime": {
     "end_time": "2021-05-12T02:10:48.753839Z",
     "start_time": "2021-05-12T02:10:48.732404Z"
    }
   },
   "outputs": [
    {
     "data": {
      "text/plain": [
       "nan"
      ]
     },
     "execution_count": 74,
     "metadata": {},
     "output_type": "execute_result"
    }
   ],
   "source": [
    "product.loc[4,'description']"
   ]
  },
  {
   "cell_type": "code",
   "execution_count": 76,
   "metadata": {
    "ExecuteTime": {
     "end_time": "2021-05-12T02:12:55.638350Z",
     "start_time": "2021-05-12T02:12:55.577829Z"
    }
   },
   "outputs": [
    {
     "data": {
      "text/plain": [
       "'Blank'"
      ]
     },
     "execution_count": 76,
     "metadata": {},
     "output_type": "execute_result"
    }
   ],
   "source": [
    "product.loc[4,'description']='Blank'\n",
    "product.loc[4,'description']"
   ]
  },
  {
   "cell_type": "markdown",
   "metadata": {},
   "source": [
    "# Lemma & Stemming\n"
   ]
  },
  {
   "cell_type": "markdown",
   "metadata": {},
   "source": [
    "## Stemming"
   ]
  },
  {
   "cell_type": "markdown",
   "metadata": {
    "ExecuteTime": {
     "end_time": "2021-05-11T14:07:56.887390Z",
     "start_time": "2021-05-11T14:07:56.883524Z"
    }
   },
   "source": [
    "We considered stemming the description field but we got better results from the lemmatizer. The stemming code is available below for reference.\n",
    "\n",
    "\n",
    "```python\n",
    "stemmer = PorterStemmer()\n",
    "def stemming_sentence(sentence):\n",
    "    sentence = str(sentence)\n",
    "    #tokenize the sentence and find the POS tag for each token\n",
    "    nltk_tagged = nltk.pos_tag(nltk.word_tokenize(sentence))  \n",
    "    #tuple of (token, wordnet_tag)\n",
    "    stemming_sentence = []\n",
    "    for word, tag in nltk_tagged:\n",
    "        if tag is None:\n",
    "            #if there is no available tag, append the token as is\n",
    "            stemming_sentence.append(word)\n",
    "        else:        \n",
    "            #else use the tag to lemmatize the token\n",
    "            stemming_sentence.append(stemmer.stem(word))\n",
    "    return stemming_sentence\n",
    "\n",
    "%%time\n",
    "stemmed_descriptions  = []\n",
    "for des in product_copy.description:\n",
    "    stemmed_description = stemming_sentence(des)\n",
    "    stemmed_descriptions.append(stemmed_description)\n",
    "    \n",
    "stemmed_descriptions_join = []\n",
    "for doc in tqdm(stemmed_descriptions):\n",
    "    new_doc = ' '.join(doc)\n",
    "    stemmed_descriptions_join.append(new_doc)\n",
    "    \n",
    "product_copy['stemmed_description'] = stemmed_descriptions_join \n",
    "```"
   ]
  },
  {
   "cell_type": "markdown",
   "metadata": {},
   "source": [
    "## Lemmatization with wordnet tag"
   ]
  },
  {
   "cell_type": "code",
   "execution_count": 70,
   "metadata": {
    "ExecuteTime": {
     "end_time": "2021-05-12T00:49:06.797081Z",
     "start_time": "2021-05-12T00:49:06.781110Z"
    }
   },
   "outputs": [],
   "source": [
    "# https://gaurav5430.medium.com/using-nltk-for-lemmatizing-sentences-c1bfff963258\n",
    "def lemmatize_sentence(sentence):\n",
    "    sentence = str(sentence)\n",
    "    #tokenize the sentence and find the POS tag for each token\n",
    "    nltk_tagged = nltk.pos_tag(nltk.word_tokenize(sentence))  \n",
    "    #tuple of (token, wordnet_tag)\n",
    "    wordnet_tagged = map(lambda x: (x[0], nltk_tag_to_wordnet_tag(x[1])), nltk_tagged)\n",
    "    lemmatized_sentence = []\n",
    "    for word, tag in wordnet_tagged:\n",
    "        if tag is None:\n",
    "            #if there is no available tag, append the token as is\n",
    "            lemmatized_sentence.append(word)\n",
    "        else:        \n",
    "            #else use the tag to lemmatize the token\n",
    "            lemmatized_sentence.append(lemmatizer.lemmatize(word, tag))\n",
    "    return lemmatized_sentence\n",
    "\n",
    "# function to convert nltk tag to wordnet tag\n",
    "def nltk_tag_to_wordnet_tag(nltk_tag):\n",
    "    if nltk_tag.startswith('J'):\n",
    "        return wordnet.ADJ\n",
    "    elif nltk_tag.startswith('V'):\n",
    "        return wordnet.VERB\n",
    "    elif nltk_tag.startswith('N'):\n",
    "        return wordnet.NOUN\n",
    "    elif nltk_tag.startswith('R'):\n",
    "        return wordnet.ADV\n",
    "    else:          \n",
    "        return None"
   ]
  },
  {
   "cell_type": "code",
   "execution_count": 71,
   "metadata": {
    "ExecuteTime": {
     "end_time": "2021-05-12T00:54:22.044462Z",
     "start_time": "2021-05-12T00:49:06.801956Z"
    }
   },
   "outputs": [],
   "source": [
    "## don't use list comprehension, save memory \n",
    "lemmatized_descriptions = []\n",
    "for des in product_copy.description:\n",
    "    lemmatized_description =  lemmatize_sentence(des)\n",
    "    lemmatized_descriptions.append(lemmatized_description)\n",
    "    \n",
    "\n"
   ]
  },
  {
   "cell_type": "code",
   "execution_count": 72,
   "metadata": {
    "ExecuteTime": {
     "end_time": "2021-05-12T00:54:22.413877Z",
     "start_time": "2021-05-12T00:54:22.051346Z"
    }
   },
   "outputs": [
    {
     "name": "stderr",
     "output_type": "stream",
     "text": [
      "100%|██████████| 61355/61355 [00:00<00:00, 190429.39it/s]\n"
     ]
    }
   ],
   "source": [
    "# the lemmatized_description is a list of list with all the words separated \n",
    "# so we need to join them together as a complete sentence\n",
    "lemmatized_description_join = []\n",
    "for doc in tqdm(lemmatized_descriptions):\n",
    "    new_doc = ' '.join(doc)\n",
    "    lemmatized_description_join.append(new_doc)"
   ]
  },
  {
   "cell_type": "code",
   "execution_count": 73,
   "metadata": {
    "ExecuteTime": {
     "end_time": "2021-05-12T00:54:22.491982Z",
     "start_time": "2021-05-12T00:54:22.454318Z"
    }
   },
   "outputs": [],
   "source": [
    "product_copy['lemmatized_description'] = lemmatized_description_join"
   ]
  },
  {
   "cell_type": "code",
   "execution_count": 74,
   "metadata": {
    "ExecuteTime": {
     "end_time": "2021-05-12T00:54:22.565352Z",
     "start_time": "2021-05-12T00:54:22.497792Z"
    }
   },
   "outputs": [
    {
     "data": {
      "text/html": [
       "<div>\n",
       "<style scoped>\n",
       "    .dataframe tbody tr th:only-of-type {\n",
       "        vertical-align: middle;\n",
       "    }\n",
       "\n",
       "    .dataframe tbody tr th {\n",
       "        vertical-align: top;\n",
       "    }\n",
       "\n",
       "    .dataframe thead th {\n",
       "        text-align: right;\n",
       "    }\n",
       "</style>\n",
       "<table border=\"1\" class=\"dataframe\">\n",
       "  <thead>\n",
       "    <tr style=\"text-align: right;\">\n",
       "      <th></th>\n",
       "      <th>product_id</th>\n",
       "      <th>brand</th>\n",
       "      <th>brand_category</th>\n",
       "      <th>name</th>\n",
       "      <th>details</th>\n",
       "      <th>created_at</th>\n",
       "      <th>brand_canonical_url</th>\n",
       "      <th>description</th>\n",
       "      <th>brand_description</th>\n",
       "      <th>brand_name</th>\n",
       "      <th>...</th>\n",
       "      <th>fabric_list</th>\n",
       "      <th>fabrics</th>\n",
       "      <th>n_fabric</th>\n",
       "      <th>final_fabric</th>\n",
       "      <th>Made_In</th>\n",
       "      <th>Occasion</th>\n",
       "      <th>Deadstock</th>\n",
       "      <th>Handcrafted</th>\n",
       "      <th>True_To_Size</th>\n",
       "      <th>lemmatized_description</th>\n",
       "    </tr>\n",
       "  </thead>\n",
       "  <tbody>\n",
       "    <tr>\n",
       "      <th>0</th>\n",
       "      <td>01EX0PN4J9WRNZH5F93YEX6QAF</td>\n",
       "      <td>Two</td>\n",
       "      <td>Unknown</td>\n",
       "      <td>Khadi Stripe Shirt-our signature shirt</td>\n",
       "      <td>None</td>\n",
       "      <td>2021-01-27 01:17:19.305 UTC</td>\n",
       "      <td>https://two-nyc.myshopify.com/products/white-k...</td>\n",
       "      <td>signature khadi shirt available black white be...</td>\n",
       "      <td>Our signature khadi shirt\\n\\navailable in blac...</td>\n",
       "      <td>Khadi Stripe Shirt-our signature shirt</td>\n",
       "      <td>...</td>\n",
       "      <td>[cotton, cotton]</td>\n",
       "      <td>{cotton}</td>\n",
       "      <td>1</td>\n",
       "      <td>cotton</td>\n",
       "      <td>None</td>\n",
       "      <td>Beach</td>\n",
       "      <td>0</td>\n",
       "      <td>0</td>\n",
       "      <td>0</td>\n",
       "      <td>signature khadi shirt available black white be...</td>\n",
       "    </tr>\n",
       "    <tr>\n",
       "      <th>1</th>\n",
       "      <td>01F0C4SKZV6YXS3265JMC39NXW</td>\n",
       "      <td>Collina Strada</td>\n",
       "      <td>Unknown</td>\n",
       "      <td>RUFFLE MARKET DRESS LOOPY PINK SISTINE TOMATO</td>\n",
       "      <td>None</td>\n",
       "      <td>2021-03-09 18:43:10.457 UTC</td>\n",
       "      <td>https://collina-strada-2.myshopify.com/product...</td>\n",
       "      <td>midlength dress ruffles adjustable straps bias...</td>\n",
       "      <td>Mid-length dress with ruffles and adjustable s...</td>\n",
       "      <td>RUFFLE MARKET DRESS LOOPY PINK SISTINE TOMATO</td>\n",
       "      <td>...</td>\n",
       "      <td>[]</td>\n",
       "      <td>{}</td>\n",
       "      <td>0</td>\n",
       "      <td>NaN</td>\n",
       "      <td>New York</td>\n",
       "      <td>None</td>\n",
       "      <td>0</td>\n",
       "      <td>0</td>\n",
       "      <td>0</td>\n",
       "      <td>midlength dress ruffle adjustable strap bias c...</td>\n",
       "    </tr>\n",
       "  </tbody>\n",
       "</table>\n",
       "<p>2 rows × 48 columns</p>\n",
       "</div>"
      ],
      "text/plain": [
       "                   product_id           brand brand_category  \\\n",
       "0  01EX0PN4J9WRNZH5F93YEX6QAF             Two        Unknown   \n",
       "1  01F0C4SKZV6YXS3265JMC39NXW  Collina Strada        Unknown   \n",
       "\n",
       "                                            name details  \\\n",
       "0         Khadi Stripe Shirt-our signature shirt    None   \n",
       "1  RUFFLE MARKET DRESS LOOPY PINK SISTINE TOMATO    None   \n",
       "\n",
       "                    created_at  \\\n",
       "0  2021-01-27 01:17:19.305 UTC   \n",
       "1  2021-03-09 18:43:10.457 UTC   \n",
       "\n",
       "                                 brand_canonical_url  \\\n",
       "0  https://two-nyc.myshopify.com/products/white-k...   \n",
       "1  https://collina-strada-2.myshopify.com/product...   \n",
       "\n",
       "                                         description  \\\n",
       "0  signature khadi shirt available black white be...   \n",
       "1  midlength dress ruffles adjustable straps bias...   \n",
       "\n",
       "                                   brand_description  \\\n",
       "0  Our signature khadi shirt\\n\\navailable in blac...   \n",
       "1  Mid-length dress with ruffles and adjustable s...   \n",
       "\n",
       "                                      brand_name  ...       fabric_list  \\\n",
       "0         Khadi Stripe Shirt-our signature shirt  ...  [cotton, cotton]   \n",
       "1  RUFFLE MARKET DRESS LOOPY PINK SISTINE TOMATO  ...                []   \n",
       "\n",
       "    fabrics  n_fabric  final_fabric   Made_In Occasion Deadstock Handcrafted  \\\n",
       "0  {cotton}         1        cotton      None    Beach         0           0   \n",
       "1        {}         0           NaN  New York     None         0           0   \n",
       "\n",
       "  True_To_Size                             lemmatized_description  \n",
       "0            0  signature khadi shirt available black white be...  \n",
       "1            0  midlength dress ruffle adjustable strap bias c...  \n",
       "\n",
       "[2 rows x 48 columns]"
      ]
     },
     "execution_count": 74,
     "metadata": {},
     "output_type": "execute_result"
    }
   ],
   "source": [
    "product_copy.head(2)"
   ]
  },
  {
   "cell_type": "code",
   "execution_count": 75,
   "metadata": {
    "ExecuteTime": {
     "end_time": "2021-05-12T00:54:22.701918Z",
     "start_time": "2021-05-12T00:54:22.570072Z"
    }
   },
   "outputs": [],
   "source": [
    "#Filling in the fields in the final dataframe\n",
    "product_copy['Made_In'] = location_list_clean\n",
    "product_copy['Occasion'] = occasion_list_cleaned\n",
    "product_copy['Deadstock'] = deadstock_list\n",
    "product_copy['Handcrafted'] = handcrafted_list\n",
    "product_copy['True_To_Size'] = truetosize_list"
   ]
  },
  {
   "cell_type": "markdown",
   "metadata": {},
   "source": [
    "# Brand Encoding - the top brands\n",
    "\n",
    "Identifying the top 30 brands for classification."
   ]
  },
  {
   "cell_type": "code",
   "execution_count": 76,
   "metadata": {
    "ExecuteTime": {
     "end_time": "2021-05-12T00:54:22.734450Z",
     "start_time": "2021-05-12T00:54:22.707006Z"
    }
   },
   "outputs": [],
   "source": [
    "brand_analysis=pd.DataFrame(product_copy['brand'].astype(str).value_counts())\n",
    "Brand_to_classify=list(brand_analysis.head(30).index)"
   ]
  },
  {
   "cell_type": "code",
   "execution_count": 77,
   "metadata": {
    "ExecuteTime": {
     "end_time": "2021-05-12T00:54:22.854391Z",
     "start_time": "2021-05-12T00:54:22.740357Z"
    }
   },
   "outputs": [
    {
     "data": {
      "text/plain": [
       "['7 For All Mankind',\n",
       " 'Rails',\n",
       " 'Intentionally Blank',\n",
       " 'A.L.C.',\n",
       " 'Rachel Comey',\n",
       " 'Misa',\n",
       " 'Studio 189',\n",
       " 'ASTR the Label',\n",
       " 'lemlem',\n",
       " 'Simon Miller',\n",
       " 'Cynthia Rowley',\n",
       " 'Outerknown',\n",
       " 'Chufy',\n",
       " 'Faherty',\n",
       " 'M.M.LaFleur',\n",
       " 'Janessa Leone',\n",
       " 'Araks',\n",
       " 'Sea',\n",
       " 'BROCHU WALKER',\n",
       " 'Tanya Taylor',\n",
       " 'Clare V.',\n",
       " 'Nili Lotan',\n",
       " 'Les Girls Les Boys',\n",
       " 'Prism',\n",
       " 'Sandy Liang',\n",
       " '6397',\n",
       " 'Ancient Greek Sandals',\n",
       " 'Alo Yoga',\n",
       " 'Collina Strada',\n",
       " 'Whit']"
      ]
     },
     "execution_count": 77,
     "metadata": {},
     "output_type": "execute_result"
    }
   ],
   "source": [
    "Brand_to_classify"
   ]
  },
  {
   "cell_type": "code",
   "execution_count": 78,
   "metadata": {
    "ExecuteTime": {
     "end_time": "2021-05-12T00:54:23.036849Z",
     "start_time": "2021-05-12T00:54:22.860801Z"
    }
   },
   "outputs": [
    {
     "data": {
      "text/plain": [
       "Other                    15589\n",
       "7 For All Mankind         9011\n",
       "Rails                     2864\n",
       "Intentionally Blank       2534\n",
       "A.L.C.                    2092\n",
       "Rachel Comey              2081\n",
       "Misa                      2030\n",
       "Studio 189                1956\n",
       "ASTR the Label            1942\n",
       "lemlem                    1821\n",
       "Simon Miller              1451\n",
       "Cynthia Rowley            1347\n",
       "Outerknown                1338\n",
       "Chufy                     1209\n",
       "Faherty                   1204\n",
       "M.M.LaFleur               1192\n",
       "Janessa Leone             1119\n",
       "Araks                     1081\n",
       "Sea                       1053\n",
       "BROCHU WALKER             1001\n",
       "Tanya Taylor               991\n",
       "Clare V.                   922\n",
       "Nili Lotan                 717\n",
       "Les Girls Les Boys         695\n",
       "Prism                      667\n",
       "Sandy Liang                663\n",
       "6397                       652\n",
       "Ancient Greek Sandals      618\n",
       "Alo Yoga                   525\n",
       "Collina Strada             501\n",
       "Whit                       489\n",
       "Name: label, dtype: int64"
      ]
     },
     "execution_count": 78,
     "metadata": {},
     "output_type": "execute_result"
    }
   ],
   "source": [
    "def brand_exclusion(row):\n",
    "    if str(row) in Brand_to_classify:\n",
    "        return str(row)\n",
    "    else:\n",
    "        return 'Other'\n",
    "product_copy['label']=product_copy['brand'].apply(brand_exclusion)\n",
    "product_copy['label'].astype(str).value_counts()"
   ]
  },
  {
   "cell_type": "code",
   "execution_count": 79,
   "metadata": {
    "ExecuteTime": {
     "end_time": "2021-05-12T00:54:24.340155Z",
     "start_time": "2021-05-12T00:54:23.057558Z"
    }
   },
   "outputs": [],
   "source": [
    "# save data in pickle files\n",
    "import pickle\n",
    "# final_cleaned_data.pkl is the cleaned raw data with manully created features and brand lables\n",
    "with open('final_cleaned_data.pkl', 'wb') as f:\n",
    "    pickle.dump(product_copy, f)"
   ]
  },
  {
   "cell_type": "code",
   "execution_count": 80,
   "metadata": {
    "ExecuteTime": {
     "end_time": "2021-05-12T00:54:31.175629Z",
     "start_time": "2021-05-12T00:54:24.346366Z"
    }
   },
   "outputs": [],
   "source": [
    "# Creating a csv file of the cleaned data\n",
    "product_copy.to_csv('final_cleaned_data.csv')"
   ]
  },
  {
   "cell_type": "markdown",
   "metadata": {},
   "source": [
    "This cleaned file will be accessed in the 2_Prepare_Training_data notebook."
   ]
  },
  {
   "cell_type": "code",
   "execution_count": 6,
   "metadata": {
    "ExecuteTime": {
     "end_time": "2021-05-12T02:02:07.392865Z",
     "start_time": "2021-05-12T02:02:05.675999Z"
    }
   },
   "outputs": [
    {
     "ename": "NameError",
     "evalue": "name 'product_copy' is not defined",
     "output_type": "error",
     "traceback": [
      "\u001b[0;31m---------------------------------------------------------------------------\u001b[0m",
      "\u001b[0;31mNameError\u001b[0m                                 Traceback (most recent call last)",
      "\u001b[0;32m<ipython-input-6-f5cde229b95a>\u001b[0m in \u001b[0;36m<module>\u001b[0;34m\u001b[0m\n\u001b[0;32m----> 1\u001b[0;31m product_copy[['is_dry_clean', 'is_hand_wash', 'is_machine_wash_cold',\n\u001b[0m\u001b[1;32m      2\u001b[0m            'is_machine_wash', 'is_tumble_dry', 'is_not_bleach','Made_In','final_fabric','Handcrafted','True_To_Size']].astype(str).describe()\n",
      "\u001b[0;31mNameError\u001b[0m: name 'product_copy' is not defined"
     ]
    }
   ],
   "source": [
    "product_copy[['is_dry_clean', 'is_hand_wash', 'is_machine_wash_cold',\n",
    "           'is_machine_wash', 'is_tumble_dry', 'is_not_bleach','Made_In','final_fabric','Handcrafted','True_To_Size']].astype(str).describe()"
   ]
  },
  {
   "cell_type": "code",
   "execution_count": null,
   "metadata": {},
   "outputs": [],
   "source": []
  }
 ],
 "metadata": {
  "kernelspec": {
   "display_name": "Python 3",
   "language": "python",
   "name": "python3"
  },
  "language_info": {
   "codemirror_mode": {
    "name": "ipython",
    "version": 3
   },
   "file_extension": ".py",
   "mimetype": "text/x-python",
   "name": "python",
   "nbconvert_exporter": "python",
   "pygments_lexer": "ipython3",
   "version": "3.8.8"
  },
  "toc": {
   "base_numbering": 1,
   "nav_menu": {},
   "number_sections": true,
   "sideBar": true,
   "skip_h1_title": false,
   "title_cell": "Table of Contents",
   "title_sidebar": "Contents",
   "toc_cell": false,
   "toc_position": {
    "height": "calc(100% - 180px)",
    "left": "10px",
    "top": "150px",
    "width": "269px"
   },
   "toc_section_display": true,
   "toc_window_display": true
  },
  "varInspector": {
   "cols": {
    "lenName": 16,
    "lenType": 16,
    "lenVar": 40
   },
   "kernels_config": {
    "python": {
     "delete_cmd_postfix": "",
     "delete_cmd_prefix": "del ",
     "library": "var_list.py",
     "varRefreshCmd": "print(var_dic_list())"
    },
    "r": {
     "delete_cmd_postfix": ") ",
     "delete_cmd_prefix": "rm(",
     "library": "var_list.r",
     "varRefreshCmd": "cat(var_dic_list()) "
    }
   },
   "types_to_exclude": [
    "module",
    "function",
    "builtin_function_or_method",
    "instance",
    "_Feature"
   ],
   "window_display": false
  }
 },
 "nbformat": 4,
 "nbformat_minor": 4
}
