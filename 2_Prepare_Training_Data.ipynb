{
 "cells": [
  {
   "cell_type": "markdown",
   "metadata": {},
   "source": [
    "# 2_Prepare_Training_Data notebook"
   ]
  },
  {
   "cell_type": "markdown",
   "metadata": {},
   "source": [
    "# Summary"
   ]
  },
  {
   "cell_type": "markdown",
   "metadata": {},
   "source": [
    "The purpose of this notebook is primarily for exploring different techniques to use to process data before it can be fed to the final model. The technique that provides the best result is then used to process the training data before it can be fed to our final model in the `4_Final_Model_Training_Prediction.ipynb`\n",
    "\n",
    "This notebook is for preparing the training data for future model exploration. \n",
    "The previous notebook has created a cleaned data file with lemmatized description. \n",
    "We will attempt to use different vectorization and encoding method to prepare various set of input variables for our machine learning models.\n",
    "\n",
    "The embeddings created here will be used as an input to the notebook `3_Model Exploration.ipynb`.\n",
    "\n"
   ]
  },
  {
   "cell_type": "markdown",
   "metadata": {
    "ExecuteTime": {
     "end_time": "2021-05-11T16:03:30.462091Z",
     "start_time": "2021-05-11T16:03:30.460336Z"
    }
   },
   "source": [
    "# Libraries"
   ]
  },
  {
   "cell_type": "code",
   "execution_count": 39,
   "metadata": {
    "ExecuteTime": {
     "end_time": "2021-05-12T03:09:10.142328Z",
     "start_time": "2021-05-12T03:09:10.124688Z"
    }
   },
   "outputs": [
    {
     "name": "stderr",
     "output_type": "stream",
     "text": [
      "[nltk_data] Downloading package averaged_perceptron_tagger to\n",
      "[nltk_data]     /Users/sneharaj/nltk_data...\n",
      "[nltk_data]   Package averaged_perceptron_tagger is already up-to-\n",
      "[nltk_data]       date!\n",
      "[nltk_data] Downloading package wordnet to\n",
      "[nltk_data]     /Users/sneharaj/nltk_data...\n",
      "[nltk_data]   Package wordnet is already up-to-date!\n"
     ]
    }
   ],
   "source": [
    "import pandas as pd\n",
    "import nltk\n",
    "from nltk.stem.porter import PorterStemmer\n",
    "import pandas as pd\n",
    "import sys\n",
    "import re\n",
    "import matplotlib.pyplot as plt\n",
    "from collections import Counter\n",
    "import numpy as np\n",
    "import string\n",
    "from nltk.corpus import stopwords\n",
    "import seaborn as sns\n",
    "from nltk.stem import WordNetLemmatizer\n",
    "from sklearn.feature_extraction.text import CountVectorizer\n",
    "from nltk.tokenize import sent_tokenize\n",
    "from nltk.corpus import wordnet\n",
    "from sklearn.feature_extraction.text import TfidfVectorizer\n",
    "import gensim\n",
    "import seaborn as sns\n",
    "from gensim.parsing.preprocessing import remove_stopwords\n",
    "nltk.download('averaged_perceptron_tagger')\n",
    "nltk.download('wordnet')\n",
    "from sklearn.model_selection import train_test_split\n",
    "from sklearn.decomposition import TruncatedSVD"
   ]
  },
  {
   "cell_type": "code",
   "execution_count": 2,
   "metadata": {
    "ExecuteTime": {
     "end_time": "2021-05-12T02:51:47.092045Z",
     "start_time": "2021-05-12T02:51:47.063710Z"
    }
   },
   "outputs": [],
   "source": [
    "from collections import Counter\n",
    "from sklearn.linear_model import LogisticRegression\n",
    "from sklearn import preprocessing\n",
    "import nltk\n",
    "from nltk.collocations import BigramCollocationFinder, BigramAssocMeasures\n",
    "from nltk.stem import WordNetLemmatizer\n",
    "from nltk.stem import PorterStemmer\n",
    "from nltk import word_tokenize\n",
    "from nltk.corpus import wordnet\n",
    "lemmatizer = WordNetLemmatizer()\n",
    "from tqdm import tqdm"
   ]
  },
  {
   "cell_type": "code",
   "execution_count": 3,
   "metadata": {
    "ExecuteTime": {
     "end_time": "2021-05-12T02:51:47.146293Z",
     "start_time": "2021-05-12T02:51:47.096618Z"
    }
   },
   "outputs": [],
   "source": [
    "from sklearn.feature_extraction.text import CountVectorizer\n",
    "from sklearn.feature_extraction.text import TfidfVectorizer\n",
    "from sklearn.decomposition import TruncatedSVD\n",
    "import matplotlib.pyplot as plt\n",
    "import numpy as np\n",
    "from sklearn.model_selection import train_test_split"
   ]
  },
  {
   "cell_type": "code",
   "execution_count": 4,
   "metadata": {
    "ExecuteTime": {
     "end_time": "2021-05-12T02:51:55.579820Z",
     "start_time": "2021-05-12T02:51:47.149915Z"
    }
   },
   "outputs": [],
   "source": [
    "from keras.preprocessing.text import one_hot\n",
    "from keras.preprocessing.sequence import pad_sequences\n",
    "from numpy import asarray\n",
    "from numpy import zeros\n",
    "from keras.preprocessing.text import Tokenizer\n",
    "from keras.models import Sequential\n",
    "from keras.layers import Dense\n",
    "from keras.layers import Flatten\n",
    "from keras.layers import Embedding\n",
    "from keras.preprocessing.text import Tokenizer"
   ]
  },
  {
   "cell_type": "code",
   "execution_count": 5,
   "metadata": {
    "ExecuteTime": {
     "end_time": "2021-05-12T02:51:55.614607Z",
     "start_time": "2021-05-12T02:51:55.582984Z"
    }
   },
   "outputs": [],
   "source": [
    "from typing import List\n",
    "from keras.preprocessing.text import text_to_word_sequence"
   ]
  },
  {
   "cell_type": "code",
   "execution_count": 6,
   "metadata": {
    "ExecuteTime": {
     "end_time": "2021-05-12T02:51:55.638998Z",
     "start_time": "2021-05-12T02:51:55.630862Z"
    }
   },
   "outputs": [],
   "source": [
    "from keras.utils import to_categorical\n",
    "from sklearn.preprocessing import LabelEncoder\n",
    "from sklearn.preprocessing import OneHotEncoder\n",
    "from sklearn.decomposition import PCA"
   ]
  },
  {
   "cell_type": "code",
   "execution_count": 7,
   "metadata": {
    "ExecuteTime": {
     "end_time": "2021-05-12T02:51:55.677610Z",
     "start_time": "2021-05-12T02:51:55.657298Z"
    }
   },
   "outputs": [],
   "source": [
    "from keras.models import Sequential\n",
    "from keras.layers import Dense\n",
    "from keras.models import model_from_json\n",
    "import numpy\n",
    "import os\n",
    "import warnings\n",
    "warnings.filterwarnings(\"ignore\")"
   ]
  },
  {
   "cell_type": "markdown",
   "metadata": {},
   "source": [
    "# Load the Data\n",
    "\n",
    "The `final_cleaned_data.csv` is the file produced by the notebook: `1_Data_Cleaning_Feature_Creation.ipynb`"
   ]
  },
  {
   "cell_type": "code",
   "execution_count": 8,
   "metadata": {
    "ExecuteTime": {
     "end_time": "2021-05-12T02:51:55.711136Z",
     "start_time": "2021-05-12T02:51:55.688222Z"
    }
   },
   "outputs": [],
   "source": [
    "# Option to upload the file with pickle files\n",
    "# import pickle\n",
    "# with open('final_cleaned_data.pkl', 'rb') as f:\n",
    "#     behold_prod = pickle.load(f)\n",
    "\n",
    "   "
   ]
  },
  {
   "cell_type": "code",
   "execution_count": 9,
   "metadata": {
    "ExecuteTime": {
     "end_time": "2021-05-12T02:51:58.403918Z",
     "start_time": "2021-05-12T02:51:55.726896Z"
    }
   },
   "outputs": [],
   "source": [
    "behold_prod = pd.read_csv('final_cleaned_data.csv')"
   ]
  },
  {
   "cell_type": "markdown",
   "metadata": {},
   "source": [
    "# Choice of Lemma VS Stemming"
   ]
  },
  {
   "cell_type": "markdown",
   "metadata": {},
   "source": [
    "We choose to use the lemmatized description as our corpus to prepare the training data. \n",
    "\n",
    "Although it is not necessary to understand the sentiment in the product description, the part of speech information can help us differentiate the way of phrasing or naming things used by a certain brands. In the product description, especially clothing description, there are similar words or expression used frequently by one brand, but may be not used by other brands. \n",
    "\n",
    "The lemmatized description can help us find and understand those patterns. Therefore, we chose to go ahead with the lemmatized description. \n"
   ]
  },
  {
   "cell_type": "markdown",
   "metadata": {},
   "source": [
    "# Count Vectorisation"
   ]
  },
  {
   "cell_type": "code",
   "execution_count": 10,
   "metadata": {
    "ExecuteTime": {
     "end_time": "2021-05-12T02:51:58.440582Z",
     "start_time": "2021-05-12T02:51:58.408610Z"
    }
   },
   "outputs": [],
   "source": [
    "behold_prod['lemmatized_description'].fillna('Blank',inplace=True)"
   ]
  },
  {
   "cell_type": "code",
   "execution_count": 38,
   "metadata": {
    "ExecuteTime": {
     "end_time": "2021-05-12T03:05:51.878872Z",
     "start_time": "2021-05-12T03:05:48.267263Z"
    }
   },
   "outputs": [],
   "source": [
    "countvectorizer = CountVectorizer(stop_words=\"english\", binary=True, min_df=0.001)\n",
    "\n",
    "X_cv = countvectorizer.fit_transform(behold_prod['lemmatized_description'].astype(str))\n",
    "\n"
   ]
  },
  {
   "cell_type": "code",
   "execution_count": 12,
   "metadata": {
    "ExecuteTime": {
     "end_time": "2021-05-12T02:52:01.629518Z",
     "start_time": "2021-05-12T02:52:01.600000Z"
    },
    "scrolled": true
   },
   "outputs": [
    {
     "data": {
      "text/plain": [
       "(61355, 2724)"
      ]
     },
     "execution_count": 12,
     "metadata": {},
     "output_type": "execute_result"
    }
   ],
   "source": [
    "X_cv.shape"
   ]
  },
  {
   "cell_type": "markdown",
   "metadata": {},
   "source": [
    "# PCA on Count Vectoriser"
   ]
  },
  {
   "cell_type": "markdown",
   "metadata": {},
   "source": [
    "As you can see the vectorized DataFrame has 2754 columns, this high dimensionality is not good for future modeling. Therefore we applied SVD on the `X_cv` dataset.\n",
    "\n",
    "> **(Singular Value Decomposition) SVD** performs linear dimensionality reduction by means of truncated singular value decomposition (SVD). Contrary to PCA, it can work with sparse matrices efficiently."
   ]
  },
  {
   "cell_type": "code",
   "execution_count": 13,
   "metadata": {
    "ExecuteTime": {
     "end_time": "2021-05-12T02:53:07.060130Z",
     "start_time": "2021-05-12T02:52:01.645947Z"
    }
   },
   "outputs": [
    {
     "data": {
      "text/plain": [
       "Text(0, 0.5, 'Cumulative Explained variance')"
      ]
     },
     "execution_count": 13,
     "metadata": {},
     "output_type": "execute_result"
    },
    {
     "data": {
      "image/png": "[encoded data removed]",
      "text/plain": [
       "<Figure size 432x288 with 1 Axes>"
      ]
     },
     "metadata": {
      "needs_background": "light"
     },
     "output_type": "display_data"
    }
   ],
   "source": [
    "svd_cv = TruncatedSVD(n_components=800, n_iter=7, random_state=42)\n",
    "svd_cv.fit(X_cv)\n",
    "import matplotlib.pyplot as plt\n",
    "import numpy as np\n",
    "plt.plot(np.cumsum((svd_cv.explained_variance_ratio_)))\n",
    "plt.xlabel(\"Number of Componenets\")\n",
    "plt.ylabel(\"Cumulative Explained variance\")"
   ]
  },
  {
   "cell_type": "code",
   "execution_count": 14,
   "metadata": {
    "ExecuteTime": {
     "end_time": "2021-05-12T02:53:38.147302Z",
     "start_time": "2021-05-12T02:53:07.068318Z"
    }
   },
   "outputs": [],
   "source": [
    "\n",
    "svd_cv=TruncatedSVD(n_components=500)\n",
    "princ_comps_cv=svd_cv.fit_transform(X_cv)"
   ]
  },
  {
   "cell_type": "markdown",
   "metadata": {},
   "source": [
    "# Feature Encoding"
   ]
  },
  {
   "cell_type": "markdown",
   "metadata": {},
   "source": [
    "Although we have created many features, we don't use all of them in the modeling. \n",
    "We only use those which can differetiate brands. \n",
    "For instance, `fabric`, `made_in` and `wash_type` are kept identical for one brand. However, features such as `color`, `category` are not so useful to identify brands. "
   ]
  },
  {
   "cell_type": "markdown",
   "metadata": {},
   "source": [
    "We conduct **one-hot** encoding on our selected features. \n",
    "Previously we also tried to use target encoding to encode the features. However, it creates too many columns and brings high dimensionality to the dataset. Therefore we decided to use onehot encoding rather than target encoding."
   ]
  },
  {
   "cell_type": "code",
   "execution_count": 15,
   "metadata": {
    "ExecuteTime": {
     "end_time": "2021-05-12T02:53:39.105771Z",
     "start_time": "2021-05-12T02:53:38.152666Z"
    }
   },
   "outputs": [],
   "source": [
    "# Filling in the null values\n",
    "behold_prod.fillna('Blank',inplace=True)"
   ]
  },
  {
   "cell_type": "code",
   "execution_count": 16,
   "metadata": {
    "ExecuteTime": {
     "end_time": "2021-05-12T02:53:39.490236Z",
     "start_time": "2021-05-12T02:53:39.109121Z"
    }
   },
   "outputs": [],
   "source": [
    "# One-hot encoding\n",
    "enc=OneHotEncoder(handle_unknown='ignore')\n",
    "\n",
    "for c in ['Made_In','final_fabric','Handcrafted','True_To_Size']:\n",
    "    enc.fit(behold_prod[c].values.reshape(-1,1))\n",
    "    FeatureInput=enc.transform(behold_prod[[c]]).toarray()\n",
    "    if c=='Made_In':\n",
    "        cat_feat_array=FeatureInput\n",
    "    else:\n",
    "        cat_feat_array=np.concatenate([FeatureInput,cat_feat_array],axis=1)"
   ]
  },
  {
   "cell_type": "code",
   "execution_count": 17,
   "metadata": {
    "ExecuteTime": {
     "end_time": "2021-05-12T02:53:39.504724Z",
     "start_time": "2021-05-12T02:53:39.493656Z"
    }
   },
   "outputs": [
    {
     "data": {
      "text/plain": [
       "(61355, 44)"
      ]
     },
     "execution_count": 17,
     "metadata": {},
     "output_type": "execute_result"
    }
   ],
   "source": [
    "# Checking shape of the encodings\n",
    "cat_feat_array.shape"
   ]
  },
  {
   "cell_type": "code",
   "execution_count": 18,
   "metadata": {
    "ExecuteTime": {
     "end_time": "2021-05-12T02:53:39.527409Z",
     "start_time": "2021-05-12T02:53:39.517582Z"
    }
   },
   "outputs": [
    {
     "data": {
      "text/plain": [
       "Index(['Unnamed: 0', 'product_id', 'brand', 'brand_category', 'name',\n",
       "       'details', 'created_at', 'brand_canonical_url', 'description',\n",
       "       'brand_description', 'brand_name', 'product_active',\n",
       "       'is_womens_clothing', 'is_children_clothing', 'is_men_clothing',\n",
       "       'user_type', 'one_piece_check', 'shoe_check', 'handbag_check',\n",
       "       'scarf_check', 'top_check', 'acc_check', 'linen_check', 'bottom_check',\n",
       "       'lingerie_check', 'max_value_cat', 'final_category', 'color_list',\n",
       "       'colors', 'n_colors', 'final_color', 'care_list', 'wash_type',\n",
       "       'is_dry_clean', 'is_hand_wash', 'is_machine_wash_cold',\n",
       "       'is_machine_wash', 'is_tumble_dry', 'is_not_bleach', 'fabric_list',\n",
       "       'fabrics', 'n_fabric', 'final_fabric', 'Made_In', 'Occasion',\n",
       "       'Deadstock', 'Handcrafted', 'True_To_Size', 'lemmatized_description',\n",
       "       'label'],\n",
       "      dtype='object')"
      ]
     },
     "execution_count": 18,
     "metadata": {},
     "output_type": "execute_result"
    }
   ],
   "source": [
    "behold_prod.columns"
   ]
  },
  {
   "cell_type": "markdown",
   "metadata": {},
   "source": [
    "> The feature Washtype has more than one value for each record, therefore we need to encode it separately using the relevent boolean variables. "
   ]
  },
  {
   "cell_type": "code",
   "execution_count": 19,
   "metadata": {
    "ExecuteTime": {
     "end_time": "2021-05-12T02:53:39.549182Z",
     "start_time": "2021-05-12T02:53:39.534931Z"
    }
   },
   "outputs": [],
   "source": [
    "washtype_df = behold_prod[['is_dry_clean', 'is_hand_wash', 'is_machine_wash_cold',\n",
    "       'is_machine_wash', 'is_tumble_dry', 'is_not_bleach']]\n",
    "washtype_array = washtype_df.to_numpy()"
   ]
  },
  {
   "cell_type": "code",
   "execution_count": 20,
   "metadata": {
    "ExecuteTime": {
     "end_time": "2021-05-12T02:53:39.563339Z",
     "start_time": "2021-05-12T02:53:39.553770Z"
    }
   },
   "outputs": [
    {
     "data": {
      "text/plain": [
       "(61355, 6)"
      ]
     },
     "execution_count": 20,
     "metadata": {},
     "output_type": "execute_result"
    }
   ],
   "source": [
    "washtype_array.shape"
   ]
  },
  {
   "cell_type": "code",
   "execution_count": 21,
   "metadata": {
    "ExecuteTime": {
     "end_time": "2021-05-12T02:53:39.605793Z",
     "start_time": "2021-05-12T02:53:39.569834Z"
    }
   },
   "outputs": [],
   "source": [
    "cat_feat_array=np.concatenate([washtype_array,cat_feat_array],axis=1)"
   ]
  },
  {
   "cell_type": "code",
   "execution_count": 22,
   "metadata": {
    "ExecuteTime": {
     "end_time": "2021-05-12T02:53:39.619409Z",
     "start_time": "2021-05-12T02:53:39.609280Z"
    }
   },
   "outputs": [
    {
     "data": {
      "text/plain": [
       "(61355, 50)"
      ]
     },
     "execution_count": 22,
     "metadata": {},
     "output_type": "execute_result"
    }
   ],
   "source": [
    "cat_feat_array.shape"
   ]
  },
  {
   "cell_type": "markdown",
   "metadata": {},
   "source": [
    "# PCA on Encoded Features\n",
    "\n",
    "Principal component analysis on the feature array allows us to see how much variance is captured by the top 'n' features."
   ]
  },
  {
   "cell_type": "code",
   "execution_count": 23,
   "metadata": {
    "ExecuteTime": {
     "end_time": "2021-05-12T02:53:40.465761Z",
     "start_time": "2021-05-12T02:53:39.624736Z"
    }
   },
   "outputs": [
    {
     "data": {
      "text/plain": [
       "Text(0, 0.5, 'Cumulative Explained variance')"
      ]
     },
     "execution_count": 23,
     "metadata": {},
     "output_type": "execute_result"
    },
    {
     "data": {
      "image/png": "[encoded data removed]",
      "text/plain": [
       "<Figure size 432x288 with 1 Axes>"
      ]
     },
     "metadata": {
      "needs_background": "light"
     },
     "output_type": "display_data"
    }
   ],
   "source": [
    "pca=PCA(n_components=0.99,svd_solver=\"full\")\n",
    "pca.fit(cat_feat_array)\n",
    "\n",
    "plt.plot(np.cumsum((pca.explained_variance_ratio_)))\n",
    "plt.xlabel(\"Number of Componenets\")\n",
    "plt.ylabel(\"Cumulative Explained variance\")"
   ]
  },
  {
   "cell_type": "code",
   "execution_count": 24,
   "metadata": {
    "ExecuteTime": {
     "end_time": "2021-05-12T02:53:41.786067Z",
     "start_time": "2021-05-12T02:53:40.469350Z"
    }
   },
   "outputs": [],
   "source": [
    "pca=PCA(n_components=20) #  around 90% captured by 20 features\n",
    "features_princ_comps=pca.fit_transform(cat_feat_array)"
   ]
  },
  {
   "cell_type": "markdown",
   "metadata": {},
   "source": [
    "# TF-IDF\n",
    "\n",
    "TF-IDF on the lemmatized description and we visualize the top scoring n-grams"
   ]
  },
  {
   "cell_type": "code",
   "execution_count": 25,
   "metadata": {
    "ExecuteTime": {
     "end_time": "2021-05-12T02:53:52.383666Z",
     "start_time": "2021-05-12T02:53:41.805073Z"
    }
   },
   "outputs": [
    {
     "data": {
      "text/plain": [
       "<AxesSubplot:>"
      ]
     },
     "execution_count": 25,
     "metadata": {},
     "output_type": "execute_result"
    },
    {
     "data": {
      "image/png": "[encoded data removed]",
      "text/plain": [
       "<Figure size 432x288 with 1 Axes>"
      ]
     },
     "metadata": {
      "needs_background": "light"
     },
     "output_type": "display_data"
    }
   ],
   "source": [
    "corpus = list(behold_prod['lemmatized_description'].astype(str).values)\n",
    "\n",
    "i = 2\n",
    "\n",
    "vectorizer = TfidfVectorizer(ngram_range=(i,i),token_pattern=r'\\b[a-z]{3,}\\b',\n",
    "                            max_df=0.3,min_df=.001)\n",
    "corpus =  corpus\n",
    "\n",
    "X_tfidf = vectorizer.fit_transform(corpus)\n",
    "terms = vectorizer.get_feature_names()\n",
    "tf_idf = pd.DataFrame(X_tfidf.toarray().transpose(), index=terms)\n",
    "\n",
    "tf_idf = tf_idf.sum(axis=1)\n",
    "score = pd.DataFrame(tf_idf, columns=[\"score\"])\n",
    "score.sort_values(by=\"score\", ascending=False, inplace=True)\n",
    "score.head(10).plot(kind='bar')"
   ]
  },
  {
   "cell_type": "markdown",
   "metadata": {},
   "source": [
    "# PCA on TF-IDF\n",
    "\n",
    "We visualize the cumulative variance explained by the top 800 elements for each row. We see that the top 800 capture around 80% of the variance."
   ]
  },
  {
   "cell_type": "code",
   "execution_count": 26,
   "metadata": {
    "ExecuteTime": {
     "end_time": "2021-05-12T02:55:03.011209Z",
     "start_time": "2021-05-12T02:53:52.391064Z"
    }
   },
   "outputs": [
    {
     "data": {
      "text/plain": [
       "TruncatedSVD(n_components=800, n_iter=7, random_state=42)"
      ]
     },
     "execution_count": 26,
     "metadata": {},
     "output_type": "execute_result"
    }
   ],
   "source": [
    "svd = TruncatedSVD(n_components=800, n_iter=7, random_state=42)\n",
    "svd.fit(X_tfidf)\n"
   ]
  },
  {
   "cell_type": "code",
   "execution_count": 27,
   "metadata": {
    "ExecuteTime": {
     "end_time": "2021-05-12T02:55:03.702215Z",
     "start_time": "2021-05-12T02:55:03.016245Z"
    }
   },
   "outputs": [
    {
     "data": {
      "text/plain": [
       "Text(0, 0.5, 'Cumulative Explained variance')"
      ]
     },
     "execution_count": 27,
     "metadata": {},
     "output_type": "execute_result"
    },
    {
     "data": {
      "image/png": "[encoded data removed]",
      "text/plain": [
       "<Figure size 432x288 with 1 Axes>"
      ]
     },
     "metadata": {
      "needs_background": "light"
     },
     "output_type": "display_data"
    }
   ],
   "source": [
    "import matplotlib.pyplot as plt\n",
    "import numpy as np\n",
    "plt.plot(np.cumsum((svd.explained_variance_ratio_)))\n",
    "plt.xlabel(\"Number of Components\")\n",
    "plt.ylabel(\"Cumulative Explained variance\")"
   ]
  },
  {
   "cell_type": "code",
   "execution_count": 28,
   "metadata": {
    "ExecuteTime": {
     "end_time": "2021-05-12T02:55:54.477456Z",
     "start_time": "2021-05-12T02:55:03.710282Z"
    }
   },
   "outputs": [],
   "source": [
    "\n",
    "svd=TruncatedSVD(n_components=800)\n",
    "princ_comps_tfidf=svd.fit_transform(X_tfidf)"
   ]
  },
  {
   "cell_type": "markdown",
   "metadata": {},
   "source": [
    "# Word Tokenization"
   ]
  },
  {
   "cell_type": "markdown",
   "metadata": {},
   "source": [
    "Word Tokenization is a preparation step to help our deep learning alorithms.  "
   ]
  },
  {
   "cell_type": "code",
   "execution_count": 29,
   "metadata": {
    "ExecuteTime": {
     "end_time": "2021-05-12T02:55:57.525292Z",
     "start_time": "2021-05-12T02:55:54.481458Z"
    }
   },
   "outputs": [],
   "source": [
    "tokenizer = Tokenizer(num_words=10000,oov_token='UNKNOWN_TOKEN')\n",
    "tokenizer.fit_on_texts(behold_prod['lemmatized_description'].astype(str))\n"
   ]
  },
  {
   "cell_type": "code",
   "execution_count": 30,
   "metadata": {
    "ExecuteTime": {
     "end_time": "2021-05-12T02:55:57.551321Z",
     "start_time": "2021-05-12T02:55:57.529586Z"
    }
   },
   "outputs": [
    {
     "name": "stdout",
     "output_type": "stream",
     "text": [
      "Vocab size is 45279 unique tokens.\n"
     ]
    }
   ],
   "source": [
    "vocab_size = int(len(tokenizer.word_index) * 1.3)\n",
    "print(f\"Vocab size is {vocab_size} unique tokens.\")"
   ]
  },
  {
   "cell_type": "code",
   "execution_count": 31,
   "metadata": {
    "ExecuteTime": {
     "end_time": "2021-05-12T02:55:57.613304Z",
     "start_time": "2021-05-12T02:55:57.557500Z"
    }
   },
   "outputs": [
    {
     "data": {
      "text/plain": [
       "{'UNKNOWN_TOKEN': 1,\n",
       " 'cotton': 2,\n",
       " '100': 3,\n",
       " 'dry': 4,\n",
       " 'style': 5,\n",
       " 'feature': 6,\n",
       " 'leather': 7,\n",
       " 'wash': 8,\n",
       " 'fabric': 9,\n",
       " 'sleeve': 10,\n",
       " 'blank': 11,\n",
       " 'clean': 12,\n",
       " 'length': 13,\n",
       " 'dress': 14,\n",
       " 'hand': 15,\n",
       " 'pocket': 16,\n",
       " 'design': 17,\n",
       " 'print': 18,\n",
       " 'usa': 19,\n",
       " 'soft': 20,\n",
       " 'line': 21,\n",
       " 'hem': 22,\n",
       " 'look': 23,\n",
       " 'perfect': 24,\n",
       " 'classic': 25,\n",
       " 'care': 26,\n",
       " 'true': 27,\n",
       " 'shoulder': 28,\n",
       " 'button': 29,\n",
       " 'piece': 30,\n",
       " 'closure': 31,\n",
       " 'silhouette': 32,\n",
       " 'body': 33,\n",
       " 'strap': 34,\n",
       " 'black': 35,\n",
       " 'cold': 36,\n",
       " 'fit': 37,\n",
       " 'hip': 38,\n",
       " 'pair': 39,\n",
       " 'bust': 40,\n",
       " 'skirt': 41,\n",
       " 'color': 42,\n",
       " 'material': 43,\n",
       " 'stretch': 44,\n",
       " 'tie': 45,\n",
       " 'pant': 46,\n",
       " 'cut': 47,\n",
       " 'import': 48,\n",
       " 'neckline': 49,\n",
       " 'short': 50,\n",
       " 'low': 51,\n",
       " 'ruffle': 52,\n",
       " '510': 53,\n",
       " 'polyester': 54,\n",
       " 'heel': 55,\n",
       " '12': 56,\n",
       " 'day': 57,\n",
       " 'machine': 58,\n",
       " 'neck': 59,\n",
       " 'wool': 60,\n",
       " 'silk': 61,\n",
       " '4': 62,\n",
       " '34': 63,\n",
       " 'denim': 64,\n",
       " 'lightweight': 65,\n",
       " 'italy': 66,\n",
       " 'finish': 67,\n",
       " 'add': 68,\n",
       " 'shape': 69,\n",
       " 'shirt': 70,\n",
       " 'knit': 71,\n",
       " 'feel': 72,\n",
       " 'recommend': 73,\n",
       " '59': 74,\n",
       " 'signature': 75,\n",
       " 'zipper': 76,\n",
       " 'layer': 77,\n",
       " 'chest': 78,\n",
       " 'cuff': 79,\n",
       " 'adjustable': 80,\n",
       " 'rib': 81,\n",
       " 'white': 82,\n",
       " '2': 83,\n",
       " 'leg': 84,\n",
       " 'create': 85,\n",
       " 'bag': 86,\n",
       " 'trim': 87,\n",
       " 'comfort': 88,\n",
       " 'sweater': 89,\n",
       " 'like': 90,\n",
       " 'jean': 91,\n",
       " 'viscose': 92,\n",
       " 'elastic': 93,\n",
       " 'garment': 94,\n",
       " 'natural': 95,\n",
       " '1': 96,\n",
       " 'crop': 97,\n",
       " 'order': 98,\n",
       " 'dye': 99,\n",
       " 'favorite': 100,\n",
       " 'belt': 101,\n",
       " 'collection': 102,\n",
       " 'organic': 103,\n",
       " 'craft': 104,\n",
       " '5': 105,\n",
       " '24': 106,\n",
       " 'linen': 107,\n",
       " 'elastane': 108,\n",
       " 'tumble': 109,\n",
       " 'love': 110,\n",
       " '32': 111,\n",
       " '35': 112,\n",
       " 'blue': 113,\n",
       " 'measure': 114,\n",
       " 'upper': 115,\n",
       " 'slim': 116,\n",
       " 'sandal': 117,\n",
       " 'relaxed': 118,\n",
       " 'available': 119,\n",
       " 'product': 120,\n",
       " 'hang': 121,\n",
       " 'relax': 122,\n",
       " 'sole': 123,\n",
       " 'handmade': 124,\n",
       " 'collar': 125,\n",
       " 'bleach': 126,\n",
       " 'open': 127,\n",
       " 'blend': 128,\n",
       " 'comfortable': 129,\n",
       " 'zip': 130,\n",
       " 'chic': 131,\n",
       " 'work': 132,\n",
       " 'tee': 133,\n",
       " 'vintage': 134,\n",
       " 'approximately': 135,\n",
       " 'floral': 136,\n",
       " 'inspire': 137,\n",
       " 'artisan': 138,\n",
       " 'flat': 139,\n",
       " 'content': 140,\n",
       " 'straw': 141,\n",
       " 'flatter': 142,\n",
       " 'fall': 143,\n",
       " 'ankle': 144,\n",
       " 'note': 145,\n",
       " 'use': 146,\n",
       " 'make': 147,\n",
       " 'polyamide': 148,\n",
       " 'stripe': 149,\n",
       " 'prism': 150,\n",
       " 'rise': 151,\n",
       " 'need': 152,\n",
       " 'seam': 153,\n",
       " 'italian': 154,\n",
       " 'super': 155,\n",
       " 'nylon': 156,\n",
       " 'inch': 157,\n",
       " 'cool': 158,\n",
       " 'take': 159,\n",
       " 'waistband': 160,\n",
       " 'pattern': 161,\n",
       " 'slightly': 162,\n",
       " '30': 163,\n",
       " 'feminine': 164,\n",
       " 'oversized': 165,\n",
       " 'provide': 166,\n",
       " 'light': 167,\n",
       " 'drop': 168,\n",
       " 'modern': 169,\n",
       " 'hat': 170,\n",
       " 'jacket': 171,\n",
       " 'gold': 172,\n",
       " 'mini': 173,\n",
       " 'cashmere': 174,\n",
       " 'rayon': 175,\n",
       " 'worn': 176,\n",
       " 'run': 177,\n",
       " 'support': 178,\n",
       " 'recycle': 179,\n",
       " 'suede': 180,\n",
       " 'summer': 181,\n",
       " 'size': 182,\n",
       " 'straight': 183,\n",
       " 'mask': 184,\n",
       " 'toe': 185,\n",
       " '23': 186,\n",
       " '8': 187,\n",
       " 'item': 188,\n",
       " 'inseam': 189,\n",
       " 'iron': 190,\n",
       " 'origin': 191,\n",
       " 'wrap': 192,\n",
       " '10': 193,\n",
       " '25': 194,\n",
       " 'unique': 195,\n",
       " 'contrast': 196,\n",
       " 'time': 197,\n",
       " '50': 198,\n",
       " 'city': 199,\n",
       " '3': 200,\n",
       " '20': 201,\n",
       " 'sleeves': 202,\n",
       " 'fully': 203,\n",
       " 'logo': 204,\n",
       " 'offer': 205,\n",
       " 'center': 206,\n",
       " 'season': 207,\n",
       " 'blouse': 208,\n",
       " 'set': 209,\n",
       " 'water': 210,\n",
       " 'weave': 211,\n",
       " 'match': 212,\n",
       " 'versatile': 213,\n",
       " 'come': 214,\n",
       " 'handwoven': 215,\n",
       " 'interior': 216,\n",
       " 'weight': 217,\n",
       " 'v': 218,\n",
       " 'detail': 219,\n",
       " 'lace': 220,\n",
       " 'best': 221,\n",
       " 'tall': 222,\n",
       " 'base': 223,\n",
       " 'handle': 224,\n",
       " 'include': 225,\n",
       " 'deep': 226,\n",
       " 'loose': 227,\n",
       " 'delicate': 228,\n",
       " '58': 229,\n",
       " 'great': 230,\n",
       " 'puff': 231,\n",
       " 'effortless': 232,\n",
       " 'return': 233,\n",
       " '14': 234,\n",
       " 'ghana': 235,\n",
       " 'band': 236,\n",
       " 'shoe': 237,\n",
       " 'wardrobe': 238,\n",
       " 'subtle': 239,\n",
       " 'los': 240,\n",
       " 'slip': 241,\n",
       " 'angeles': 242,\n",
       " '511': 243,\n",
       " 'brim': 244,\n",
       " 'frame': 245,\n",
       " 'vneck': 246,\n",
       " 'cloth': 247,\n",
       " '31': 248,\n",
       " 'york': 249,\n",
       " 'drawstring': 250,\n",
       " 'double': 251,\n",
       " 'extra': 252,\n",
       " 'stitch': 253,\n",
       " 'suit': 254,\n",
       " '55': 255,\n",
       " 'dimension': 256,\n",
       " 'm': 257,\n",
       " 'spandex': 258,\n",
       " 'smock': 259,\n",
       " 'metallic': 260,\n",
       " 'slit': 261,\n",
       " 'skinny': 262,\n",
       " 'edge': 263,\n",
       " 'essential': 264,\n",
       " 'new': 265,\n",
       " 'casual': 266,\n",
       " '6': 267,\n",
       " 'midi': 268,\n",
       " 'everyday': 269,\n",
       " 'swimwear': 270,\n",
       " '22': 271,\n",
       " 'elegant': 272,\n",
       " 'pleat': 273,\n",
       " 'touch': 274,\n",
       " 'removable': 275,\n",
       " 'complete': 276,\n",
       " 'way': 277,\n",
       " 'woven': 278,\n",
       " 'cozy': 279,\n",
       " 'elevate': 280,\n",
       " '95': 281,\n",
       " 'chiffon': 282,\n",
       " 'warm': 283,\n",
       " 'bikini': 284,\n",
       " 'right': 285,\n",
       " 'plastic': 286,\n",
       " 'pink': 287,\n",
       " 'staple': 288,\n",
       " '15': 289,\n",
       " 'buttondown': 290,\n",
       " 'beautiful': 291,\n",
       " 'single': 292,\n",
       " 'polish': 293,\n",
       " 'description': 294,\n",
       " '45': 295,\n",
       " 'good': 296,\n",
       " 'process': 297,\n",
       " 'beach': 298,\n",
       " 'bodice': 299,\n",
       " 'meet': 300,\n",
       " 'crew': 301,\n",
       " 'ethiopia': 302,\n",
       " '27': 303,\n",
       " 'patch': 304,\n",
       " 'structure': 305,\n",
       " 'leave': 306,\n",
       " 'sweatshirt': 307,\n",
       " 'green': 308,\n",
       " 'swimsuit': 309,\n",
       " 'width': 310,\n",
       " 'help': 311,\n",
       " 'update': 312,\n",
       " 'indigo': 313,\n",
       " 'night': 314,\n",
       " 'acrylic': 315,\n",
       " '40': 316,\n",
       " 'navy': 317,\n",
       " 'tank': 318,\n",
       " 'square': 319,\n",
       " 'fringe': 320,\n",
       " 'instruction': 321,\n",
       " 'show': 322,\n",
       " 'jersey': 323,\n",
       " 'avoid': 324,\n",
       " 'smooth': 325,\n",
       " 'luxe': 326,\n",
       " '78': 327,\n",
       " 'timeless': 328,\n",
       " 'hardware': 329,\n",
       " 'tailor': 330,\n",
       " '26': 331,\n",
       " 'sneaker': 332,\n",
       " '57': 333,\n",
       " 'statement': 334,\n",
       " 'pullover': 335,\n",
       " 'yarn': 336,\n",
       " 'composition': 337,\n",
       " 'luxurious': 338,\n",
       " 'boot': 339,\n",
       " 'accent': 340,\n",
       " 'uk': 341,\n",
       " 'rubber': 342,\n",
       " 'bold': 343,\n",
       " 'slight': 344,\n",
       " 'texture': 345,\n",
       " 'block': 346,\n",
       " 'crown': 347,\n",
       " 'la': 348,\n",
       " 'place': 349,\n",
       " 'nature': 350,\n",
       " 'coat': 351,\n",
       " 'woman': 352,\n",
       " 'store': 353,\n",
       " 'pad': 354,\n",
       " 'sell': 355,\n",
       " 'face': 356,\n",
       " 'travel': 357,\n",
       " 'fiber': 358,\n",
       " 'l': 359,\n",
       " 'protection': 360,\n",
       " 'crewneck': 361,\n",
       " 'give': 362,\n",
       " 'silver': 363,\n",
       " '28': 364,\n",
       " 'tshirt': 365,\n",
       " 'round': 366,\n",
       " 'tiered': 367,\n",
       " 'fine': 368,\n",
       " 'rich': 369,\n",
       " 'peru': 370,\n",
       " 'bra': 371,\n",
       " 'remove': 372,\n",
       " 'snap': 373,\n",
       " 'little': 374,\n",
       " 'placket': 375,\n",
       " 'pull': 376,\n",
       " 'roll': 377,\n",
       " 'w': 378,\n",
       " 'traditional': 379,\n",
       " 'studio': 380,\n",
       " 'sleek': 381,\n",
       " 'metal': 382,\n",
       " 'minimal': 383,\n",
       " 'perfectly': 384,\n",
       " 'swim': 385,\n",
       " 'impact': 386,\n",
       " 'simple': 387,\n",
       " 'panel': 388,\n",
       " 'seamless': 389,\n",
       " 'sleeveless': 390,\n",
       " 'custom': 391,\n",
       " 'china': 392,\n",
       " 'want': 393,\n",
       " 'playful': 394,\n",
       " 'sustainable': 395,\n",
       " 'foot': 396,\n",
       " 'crepe': 397,\n",
       " 'lay': 398,\n",
       " 'allow': 399,\n",
       " 'drape': 400,\n",
       " 'art': 401,\n",
       " 'cover': 402,\n",
       " 'free': 403,\n",
       " 'produce': 404,\n",
       " 'hit': 405,\n",
       " 'coverage': 406,\n",
       " 'lead': 407,\n",
       " 'special': 408,\n",
       " 'life': 409,\n",
       " 'canvas': 410,\n",
       " 'year': 411,\n",
       " 'insole': 412,\n",
       " '70': 413,\n",
       " 'sheer': 414,\n",
       " 'gently': 415,\n",
       " 'go': 416,\n",
       " 'twist': 417,\n",
       " 'french': 418,\n",
       " 'strip': 419,\n",
       " 'embroider': 420,\n",
       " 'breathable': 421,\n",
       " 'unlined': 422,\n",
       " 'nappa': 423,\n",
       " 'hood': 424,\n",
       " 'fly': 425,\n",
       " 'red': 426,\n",
       " 'ideal': 427,\n",
       " 'blazer': 428,\n",
       " '7': 429,\n",
       " 'crossbody': 430,\n",
       " 'boxy': 431,\n",
       " '16': 432,\n",
       " 'dot': 433,\n",
       " 'vibrant': 434,\n",
       " 'fresh': 435,\n",
       " 'acetate': 436,\n",
       " 'gram': 437,\n",
       " 'hold': 438,\n",
       " 'weather': 439,\n",
       " 'twill': 440,\n",
       " 'loop': 441,\n",
       " '18': 442,\n",
       " 'colorways': 443,\n",
       " 'gather': 444,\n",
       " 'team': 445,\n",
       " 'handcraft': 446,\n",
       " 'soap': 447,\n",
       " 'youll': 448,\n",
       " 'sure': 449,\n",
       " 'ensure': 450,\n",
       " 'emboss': 451,\n",
       " '36': 452,\n",
       " 'd': 453,\n",
       " 'embroidery': 454,\n",
       " 'mix': 455,\n",
       " 'grey': 456,\n",
       " 'japanese': 457,\n",
       " 'bestselling': 458,\n",
       " 'unisex': 459,\n",
       " 'panama': 460,\n",
       " 'youre': 461,\n",
       " 'northern': 462,\n",
       " 'spring': 463,\n",
       " 'flare': 464,\n",
       " 'taper': 465,\n",
       " 'local': 466,\n",
       " '38': 467,\n",
       " 'nyc': 468,\n",
       " '60': 469,\n",
       " '21': 470,\n",
       " 'romantic': 471,\n",
       " 'bring': 472,\n",
       " 'ultimate': 473,\n",
       " 'production': 474,\n",
       " 'inside': 475,\n",
       " 'jumpsuit': 476,\n",
       " 'textile': 477,\n",
       " 'knee': 478,\n",
       " 'ship': 479,\n",
       " 'graphic': 480,\n",
       " 'sophisticated': 481,\n",
       " 'dark': 482,\n",
       " 'source': 483,\n",
       " 'additional': 484,\n",
       " 'cap': 485,\n",
       " 'buckle': 486,\n",
       " '33': 487,\n",
       " 'trouser': 488,\n",
       " 'tan': 489,\n",
       " 'skin': 490,\n",
       " 'suitable': 491,\n",
       " 'basket': 492,\n",
       " 'technique': 493,\n",
       " 'construction': 494,\n",
       " 'handpainted': 495,\n",
       " 'split': 496,\n",
       " 'street': 497,\n",
       " 'brand': 498,\n",
       " 'mean': 499,\n",
       " 'point': 500,\n",
       " 'carry': 501,\n",
       " 'merino': 502,\n",
       " 'contact': 503,\n",
       " 'half': 504,\n",
       " 'form': 505,\n",
       " 'credit': 506,\n",
       " 'h': 507,\n",
       " 'satin': 508,\n",
       " '80': 509,\n",
       " 'vegan': 510,\n",
       " 'fun': 511,\n",
       " 'vneckline': 512,\n",
       " 'surface': 513,\n",
       " 'self': 514,\n",
       " 'thread': 515,\n",
       " 'terry': 516,\n",
       " 'tonal': 517,\n",
       " 'outfit': 518,\n",
       " 'offset': 519,\n",
       " 'tuck': 520,\n",
       " 'plaid': 521,\n",
       " 'stain': 522,\n",
       " 'maxi': 523,\n",
       " 'softness': 524,\n",
       " 'scoop': 525,\n",
       " '85': 526,\n",
       " 'oil': 527,\n",
       " 'easily': 528,\n",
       " 'mesh': 529,\n",
       " 'version': 530,\n",
       " '9': 531,\n",
       " 'poly': 532,\n",
       " 'tote': 533,\n",
       " 'hoodie': 534,\n",
       " 'know': 535,\n",
       " 'stylish': 536,\n",
       " 'try': 537,\n",
       " 'get': 538,\n",
       " 'card': 539,\n",
       " 'approx': 540,\n",
       " 'cardigan': 541,\n",
       " 'durable': 542,\n",
       " 'gentle': 543,\n",
       " 'waste': 544,\n",
       " 'raw': 545,\n",
       " 'curve': 546,\n",
       " 'accra': 547,\n",
       " 'home': 548,\n",
       " 'quality': 549,\n",
       " 'uv': 550,\n",
       " 'weve': 551,\n",
       " 'specs': 552,\n",
       " 'exclusive': 553,\n",
       " 'le': 554,\n",
       " 'damage': 555,\n",
       " 'india': 556,\n",
       " 'rinse': 557,\n",
       " 'ease': 558,\n",
       " 'vibe': 559,\n",
       " 'paint': 560,\n",
       " 'result': 561,\n",
       " 'hook': 562,\n",
       " 'elasticated': 563,\n",
       " 'sit': 564,\n",
       " 'addition': 565,\n",
       " '29': 566,\n",
       " 'scarf': 567,\n",
       " 'sportswear': 568,\n",
       " 'tip': 569,\n",
       " 'magnetic': 570,\n",
       " 'platform': 571,\n",
       " 'prescription': 572,\n",
       " 'jacquard': 573,\n",
       " 'yellow': 574,\n",
       " 'flap': 575,\n",
       " 'tight': 576,\n",
       " 'direct': 577,\n",
       " 'hue': 578,\n",
       " 'chufy': 579,\n",
       " 'cycle': 580,\n",
       " 'combine': 581,\n",
       " 'alpaca': 582,\n",
       " 'hidden': 583,\n",
       " 'performance': 584,\n",
       " 'accessory': 585,\n",
       " 'braid': 586,\n",
       " 'velvet': 587,\n",
       " 'normal': 588,\n",
       " 'hot': 589,\n",
       " 'lenses': 590,\n",
       " '65': 591,\n",
       " 'brush': 592,\n",
       " '90': 593,\n",
       " 'filter': 594,\n",
       " 'asymmetrical': 595,\n",
       " 'hemline': 596,\n",
       " 'iconic': 597,\n",
       " 'legging': 598,\n",
       " 'fashion': 599,\n",
       " '75': 600,\n",
       " 'follow': 601,\n",
       " 'cinch': 602,\n",
       " 'spain': 603,\n",
       " 'premium': 604,\n",
       " 'exchange': 605,\n",
       " 'crisp': 606,\n",
       " 'gorgeous': 607,\n",
       " 'goto': 608,\n",
       " 'functional': 609,\n",
       " 'tassel': 610,\n",
       " 'oz': 611,\n",
       " 'lens': 612,\n",
       " 'coordinate': 613,\n",
       " 'cause': 614,\n",
       " 'eligible': 615,\n",
       " 'wood': 616,\n",
       " 'tencel': 617,\n",
       " 'textured': 618,\n",
       " 'voile': 619,\n",
       " 'highwaisted': 620,\n",
       " 'rough': 621,\n",
       " 'faux': 622,\n",
       " 'pop': 623,\n",
       " 'condition': 624,\n",
       " 'option': 625,\n",
       " 'separately': 626,\n",
       " 'effortlessly': 627,\n",
       " 'construct': 628,\n",
       " 'kind': 629,\n",
       " '11': 630,\n",
       " 'side': 631,\n",
       " 'fasten': 632,\n",
       " '13': 633,\n",
       " 'cup': 634,\n",
       " 'pima': 635,\n",
       " 'extend': 636,\n",
       " 'wax': 637,\n",
       " 'refine': 638,\n",
       " 'effect': 639,\n",
       " 'contour': 640,\n",
       " 'max': 641,\n",
       " 'leopard': 642,\n",
       " 'lemlem': 643,\n",
       " 'wear': 644,\n",
       " 'california': 645,\n",
       " 'pack': 646,\n",
       " 'collaboration': 647,\n",
       " 'movement': 648,\n",
       " 'underwear': 649,\n",
       " 'lounge': 650,\n",
       " 'sun': 651,\n",
       " 'brown': 652,\n",
       " 'key': 653,\n",
       " 'flower': 654,\n",
       " 'clutch': 655,\n",
       " 'colorful': 656,\n",
       " 'flowy': 657,\n",
       " 'eyelet': 658,\n",
       " '56': 659,\n",
       " 'heat': 660,\n",
       " 'vegetable': 661,\n",
       " 'footbed': 662,\n",
       " 'beautifully': 663,\n",
       " 'safe': 664,\n",
       " 'girl': 665,\n",
       " 'modal': 666,\n",
       " 'millinery': 667,\n",
       " 'standard': 668,\n",
       " 'eye': 669,\n",
       " 'men': 670,\n",
       " 'strong': 671,\n",
       " 'turtleneck': 672,\n",
       " 'bond': 673,\n",
       " 'poplin': 674,\n",
       " 'potential': 675,\n",
       " 'ultra': 676,\n",
       " '42': 677,\n",
       " 'shear': 678,\n",
       " '4way': 679,\n",
       " 'yoke': 680,\n",
       " 'flutter': 681,\n",
       " 'heavy': 682,\n",
       " 'ecofriendly': 683,\n",
       " 'mid': 684,\n",
       " 'quick': 685,\n",
       " 'waisted': 686,\n",
       " 'sweet': 687,\n",
       " 'label': 688,\n",
       " 'designer': 689,\n",
       " 'ancient': 690,\n",
       " 'batik': 691,\n",
       " '110': 692,\n",
       " 'recycled': 693,\n",
       " 'bow': 694,\n",
       " 'sunlight': 695,\n",
       " 'slide': 696,\n",
       " 'breezy': 697,\n",
       " 'hide': 698,\n",
       " 'kenya': 699,\n",
       " 'cream': 700,\n",
       " '345': 701,\n",
       " 'shell': 702,\n",
       " 'technology': 703,\n",
       " 'virgin': 704,\n",
       " 'polyurethane': 705,\n",
       " '37': 706,\n",
       " 'keep': 707,\n",
       " 'volume': 708,\n",
       " 'bright': 709,\n",
       " 'air': 710,\n",
       " '61': 711,\n",
       " 'tunic': 712,\n",
       " 'change': 713,\n",
       " 'cleanable': 714,\n",
       " 'chain': 715,\n",
       " '72': 716,\n",
       " 'occasion': 717,\n",
       " 'inspired': 718,\n",
       " 'comfy': 719,\n",
       " 'preserve': 720,\n",
       " 'simon': 721,\n",
       " 'lining': 722,\n",
       " 'surf': 723,\n",
       " 'miller': 724,\n",
       " 'brass': 725,\n",
       " 'fade': 726,\n",
       " 'variation': 727,\n",
       " 'core': 728,\n",
       " 'foam': 729,\n",
       " 'conceal': 730,\n",
       " 'airy': 731,\n",
       " 'shop': 732,\n",
       " 'fold': 733,\n",
       " 'washable': 734,\n",
       " 'ivory': 735,\n",
       " 'pouch': 736,\n",
       " 'msrp': 737,\n",
       " 'voluminous': 738,\n",
       " 'wet': 739,\n",
       " 'coast': 740,\n",
       " 'bit': 741,\n",
       " 'draw': 742,\n",
       " 'multifunctional': 743,\n",
       " 'welt': 744,\n",
       " 'neoprene': 745,\n",
       " 'locally': 746,\n",
       " 'dont': 747,\n",
       " 'spaghetti': 748,\n",
       " 'chunky': 749,\n",
       " 'calfskin': 750,\n",
       " 'highrise': 751,\n",
       " 'choose': 752,\n",
       " 'throw': 753,\n",
       " 'warmth': 754,\n",
       " 'keyhole': 755,\n",
       " 'portugal': 756,\n",
       " 'elasticized': 757,\n",
       " 'original': 758,\n",
       " 'bottom': 759,\n",
       " 'motif': 760,\n",
       " 'pearl': 761,\n",
       " 'chambray': 762,\n",
       " 'tab': 763,\n",
       " 'factory': 764,\n",
       " 'ribbed': 765,\n",
       " 'packable': 766,\n",
       " 'exclusively': 767,\n",
       " '54': 768,\n",
       " 'plat': 769,\n",
       " 'mother': 770,\n",
       " 'stretchy': 771,\n",
       " 'room': 772,\n",
       " 'elongate': 773,\n",
       " 'balance': 774,\n",
       " 'world': 775,\n",
       " 'suggest': 776,\n",
       " 'handtwisted': 777,\n",
       " 'shade': 778,\n",
       " 'aline': 779,\n",
       " 'lambskin': 780,\n",
       " 'grow': 781,\n",
       " 'big': 782,\n",
       " 'theyre': 783,\n",
       " 'faherty': 784,\n",
       " 'lifespan': 785,\n",
       " 'solid': 786,\n",
       " 'jewelry': 787,\n",
       " '245': 788,\n",
       " 'colour': 789,\n",
       " 'thing': 790,\n",
       " 'degree': 791,\n",
       " 'achieve': 792,\n",
       " 'screw': 793,\n",
       " 'georgette': 794,\n",
       " 'sand': 795,\n",
       " 'secure': 796,\n",
       " 'compartment': 797,\n",
       " 'bodysuit': 798,\n",
       " 'upf': 799,\n",
       " 'mule': 800,\n",
       " 'west': 801,\n",
       " 'stand': 802,\n",
       " 'wring': 803,\n",
       " '0': 804,\n",
       " 'sewn': 805,\n",
       " 'selftie': 806,\n",
       " 'boy': 807,\n",
       " 'stay': 808,\n",
       " 'transition': 809,\n",
       " 'immediately': 810,\n",
       " 'clare': 811,\n",
       " 'ruched': 812,\n",
       " 'vent': 813,\n",
       " 'inhouse': 814,\n",
       " 'fedora': 815,\n",
       " 'define': 816,\n",
       " 'comfortably': 817,\n",
       " 'wallet': 818,\n",
       " 'even': 819,\n",
       " 'silky': 820,\n",
       " 'orange': 821,\n",
       " 'shapewear': 822,\n",
       " 'bridge': 823,\n",
       " 'plant': 824,\n",
       " 'weartested': 825,\n",
       " 'pencil': 826,\n",
       " 'sponge': 827,\n",
       " '19': 828,\n",
       " 'bralette': 829,\n",
       " 'chine': 830,\n",
       " 'debossed': 831,\n",
       " 'environmental': 832,\n",
       " 'abstract': 833,\n",
       " 'cutout': 834,\n",
       " 'turn': 835,\n",
       " 'expose': 836,\n",
       " 'versatility': 837,\n",
       " 'functionality': 838,\n",
       " 'gauze': 839,\n",
       " 'thoughtful': 840,\n",
       " 'africa': 841,\n",
       " 'retro': 842,\n",
       " 'knot': 843,\n",
       " 'raglan': 844,\n",
       " 'cord': 845,\n",
       " 'pullon': 846,\n",
       " 'ready': 847,\n",
       " 'lamb': 848,\n",
       " 'chat': 849,\n",
       " 'gigi': 850,\n",
       " 'burris': 851,\n",
       " 'slipon': 852,\n",
       " 'cowhide': 853,\n",
       " 'manufacture': 854,\n",
       " 'prevent': 855,\n",
       " 'hour': 856,\n",
       " 'france': 857,\n",
       " '17': 858,\n",
       " 'weekend': 859,\n",
       " 'calf': 860,\n",
       " 'aesther': 861,\n",
       " 'ekme': 862,\n",
       " '190': 863,\n",
       " 'steel': 864,\n",
       " 'let': 865,\n",
       " 'jenni': 866,\n",
       " 'ocean': 867,\n",
       " 'function': 868,\n",
       " 'wooden': 869,\n",
       " 'enjoy': 870,\n",
       " 'beauty': 871,\n",
       " 'close': 872,\n",
       " 'head': 873,\n",
       " 'sweat': 874,\n",
       " 'tone': 875,\n",
       " 'highlight': 876,\n",
       " 'project': 877,\n",
       " 'caftan': 878,\n",
       " 'basic': 879,\n",
       " 'laidback': 880,\n",
       " 'hair': 881,\n",
       " 'thong': 882,\n",
       " 'intend': 883,\n",
       " '616': 884,\n",
       " '98': 885,\n",
       " 'livedin': 886,\n",
       " 'lurex': 887,\n",
       " 'deadstock': 888,\n",
       " 'kayne': 889,\n",
       " 'earring': 890,\n",
       " 'econyl': 891,\n",
       " 'prefer': 892,\n",
       " 'handbatik': 893,\n",
       " 'holiday': 894,\n",
       " 'charm': 895,\n",
       " 'gift': 896,\n",
       " 'midweight': 897,\n",
       " 'figure': 898,\n",
       " 'friend': 899,\n",
       " 'simply': 900,\n",
       " 'possible': 901,\n",
       " 'chemical': 902,\n",
       " 'neutral': 903,\n",
       " 'raffia': 904,\n",
       " 'memory': 905,\n",
       " 'winter': 906,\n",
       " 'reusable': 907,\n",
       " 'wipe': 908,\n",
       " 'accentuate': 909,\n",
       " 'sporty': 910,\n",
       " 'midrise': 911,\n",
       " 'crochet': 912,\n",
       " 'check': 913,\n",
       " 'mild': 914,\n",
       " 'experience': 915,\n",
       " 'age': 916,\n",
       " 'supple': 917,\n",
       " 'bucket': 918,\n",
       " 'insert': 919,\n",
       " 'luxury': 920,\n",
       " 'stamp': 921,\n",
       " 'exactly': 922,\n",
       " 'supersoft': 923,\n",
       " '73': 924,\n",
       " 'notch': 925,\n",
       " '595': 926,\n",
       " 'total': 927,\n",
       " 'lapel': 928,\n",
       " 'vacation': 929,\n",
       " 'personal': 930,\n",
       " 'completely': 931,\n",
       " '2way': 932,\n",
       " 'arm': 933,\n",
       " 'legs': 934,\n",
       " 'develop': 935,\n",
       " 'artist': 936,\n",
       " 'powerful': 937,\n",
       " 'multiple': 938,\n",
       " 'live': 939,\n",
       " 'lightly': 940,\n",
       " 'detachable': 941,\n",
       " 'circumference': 942,\n",
       " 'pass': 943,\n",
       " 'sits': 944,\n",
       " 'put': 945,\n",
       " 'ring': 946,\n",
       " 'slouchy': 947,\n",
       " 'cushion': 948,\n",
       " 'ear': 949,\n",
       " 'global': 950,\n",
       " 'typical': 951,\n",
       " 'plunge': 952,\n",
       " 'post': 953,\n",
       " 'different': 954,\n",
       " 'screen': 955,\n",
       " 'selfcovered': 956,\n",
       " '3d': 957,\n",
       " '92': 958,\n",
       " 'cross': 959,\n",
       " 'certify': 960,\n",
       " 'flow': 961,\n",
       " 'baby': 962,\n",
       " 'laceup': 963,\n",
       " 'incredibly': 964,\n",
       " 'authentic': 965,\n",
       " 'combination': 966,\n",
       " 'glass': 967,\n",
       " 'petal': 968,\n",
       " 'elegance': 969,\n",
       " 'whisker': 970,\n",
       " 'stainless': 971,\n",
       " 'stack': 972,\n",
       " 'exterior': 973,\n",
       " 'element': 974,\n",
       " 'resistant': 975,\n",
       " 'xl': 976,\n",
       " 'cape': 977,\n",
       " 'spec': 978,\n",
       " 'mark': 979,\n",
       " 'choice': 980,\n",
       " 'high': 981,\n",
       " 'nonstretchy': 982,\n",
       " 'learn': 983,\n",
       " 'patent': 984,\n",
       " 'clear': 985,\n",
       " 'longer': 986,\n",
       " 'model': 987,\n",
       " 'dip': 988,\n",
       " 'dedicate': 989,\n",
       " 'case': 990,\n",
       " 'pajama': 991,\n",
       " 'end': 992,\n",
       " 'oneofakind': 993,\n",
       " 'sign': 994,\n",
       " 'reduce': 995,\n",
       " 'pip': 996,\n",
       " '48': 997,\n",
       " 'heart': 998,\n",
       " 'strappy': 999,\n",
       " 'sustainability': 1000,\n",
       " ...}"
      ]
     },
     "execution_count": 31,
     "metadata": {},
     "output_type": "execute_result"
    }
   ],
   "source": [
    "tokenizer.word_index"
   ]
  },
  {
   "cell_type": "markdown",
   "metadata": {},
   "source": [
    "# Integer Encoding of Docs and padding"
   ]
  },
  {
   "cell_type": "markdown",
   "metadata": {},
   "source": [
    "This `texts_to_sequences` encoding will give us a list of integer sequences encoding the words in sentence."
   ]
  },
  {
   "cell_type": "code",
   "execution_count": 32,
   "metadata": {
    "ExecuteTime": {
     "end_time": "2021-05-12T02:55:57.630691Z",
     "start_time": "2021-05-12T02:55:57.617072Z"
    }
   },
   "outputs": [],
   "source": [
    "def integer_encode_documents(docs, tokenizer):\n",
    "    return tokenizer.texts_to_sequences(docs)"
   ]
  },
  {
   "cell_type": "code",
   "execution_count": 33,
   "metadata": {
    "ExecuteTime": {
     "end_time": "2021-05-12T02:56:00.172427Z",
     "start_time": "2021-05-12T02:55:57.634856Z"
    }
   },
   "outputs": [],
   "source": [
    "# integer encode the documents\n",
    "docs=behold_prod['lemmatized_description'].astype(str)\n",
    "encoded_docs = integer_encode_documents(docs, tokenizer)"
   ]
  },
  {
   "cell_type": "code",
   "execution_count": 34,
   "metadata": {
    "ExecuteTime": {
     "end_time": "2021-05-12T02:56:00.199823Z",
     "start_time": "2021-05-12T02:56:00.176659Z"
    }
   },
   "outputs": [],
   "source": [
    "def get_max_token_length_per_doc(docs: List[List[str]])-> int:\n",
    "    return max(list(map(lambda x: len(x.split()), docs)))"
   ]
  },
  {
   "cell_type": "code",
   "execution_count": 35,
   "metadata": {
    "ExecuteTime": {
     "end_time": "2021-05-12T02:56:00.410688Z",
     "start_time": "2021-05-12T02:56:00.204837Z"
    }
   },
   "outputs": [
    {
     "data": {
      "text/plain": [
       "374"
      ]
     },
     "execution_count": 35,
     "metadata": {},
     "output_type": "execute_result"
    }
   ],
   "source": [
    "max_length = get_max_token_length_per_doc(docs)\n",
    "max_length"
   ]
  },
  {
   "cell_type": "code",
   "execution_count": 36,
   "metadata": {
    "ExecuteTime": {
     "end_time": "2021-05-12T02:56:01.075551Z",
     "start_time": "2021-05-12T02:56:00.414239Z"
    }
   },
   "outputs": [
    {
     "name": "stdout",
     "output_type": "stream",
     "text": [
      "Padded docs: [[  75 2773   70 ...    0    0    0]\n",
      " [2113   14   52 ...    0    0    0]\n",
      " [2345  241  545 ...    0    0    0]\n",
      " ...\n",
      " [ 139    1  800 ...    0    0    0]\n",
      " [ 139 7737  800 ...    0    0    0]\n",
      " [ 139    1  800 ...    0    0    0]]\n"
     ]
    }
   ],
   "source": [
    "max_length=300\n",
    "padded_docs = pad_sequences(encoded_docs, maxlen=max_length, padding='post')\n",
    "print(\"Padded docs:\", padded_docs)"
   ]
  },
  {
   "cell_type": "markdown",
   "metadata": {},
   "source": [
    "# Loading Pretrained Embeddings"
   ]
  },
  {
   "cell_type": "code",
   "execution_count": 37,
   "metadata": {
    "ExecuteTime": {
     "end_time": "2021-05-12T02:56:02.144228Z",
     "start_time": "2021-05-12T02:56:01.079301Z"
    }
   },
   "outputs": [
    {
     "ename": "FileNotFoundError",
     "evalue": "[Errno 2] No such file or directory: 'glove.6B.100d.txt'",
     "output_type": "error",
     "traceback": [
      "\u001b[0;31m---------------------------------------------------------------------------\u001b[0m",
      "\u001b[0;31mFileNotFoundError\u001b[0m                         Traceback (most recent call last)",
      "\u001b[0;32m<ipython-input-37-a76a6e39de91>\u001b[0m in \u001b[0;36m<module>\u001b[0;34m\u001b[0m\n\u001b[0;32m----> 1\u001b[0;31m \u001b[0mf\u001b[0m \u001b[0;34m=\u001b[0m \u001b[0mopen\u001b[0m\u001b[0;34m(\u001b[0m\u001b[0;34m'glove.6B.100d.txt'\u001b[0m\u001b[0;34m,\u001b[0m\u001b[0mencoding\u001b[0m\u001b[0;34m=\u001b[0m\u001b[0;34m'utf-8'\u001b[0m\u001b[0;34m)\u001b[0m\u001b[0;34m\u001b[0m\u001b[0;34m\u001b[0m\u001b[0m\n\u001b[0m\u001b[1;32m      2\u001b[0m \u001b[0membeddings_index\u001b[0m\u001b[0;34m=\u001b[0m\u001b[0;34m{\u001b[0m\u001b[0;34m}\u001b[0m\u001b[0;34m\u001b[0m\u001b[0;34m\u001b[0m\u001b[0m\n\u001b[1;32m      3\u001b[0m \u001b[0;32mfor\u001b[0m \u001b[0mline\u001b[0m \u001b[0;32min\u001b[0m \u001b[0mf\u001b[0m\u001b[0;34m:\u001b[0m\u001b[0;34m\u001b[0m\u001b[0;34m\u001b[0m\u001b[0m\n\u001b[1;32m      4\u001b[0m     \u001b[0mvalues\u001b[0m \u001b[0;34m=\u001b[0m \u001b[0mline\u001b[0m\u001b[0;34m.\u001b[0m\u001b[0msplit\u001b[0m\u001b[0;34m(\u001b[0m\u001b[0;34m)\u001b[0m\u001b[0;34m\u001b[0m\u001b[0;34m\u001b[0m\u001b[0m\n\u001b[1;32m      5\u001b[0m     \u001b[0mword\u001b[0m \u001b[0;34m=\u001b[0m \u001b[0mvalues\u001b[0m\u001b[0;34m[\u001b[0m\u001b[0;36m0\u001b[0m\u001b[0;34m]\u001b[0m\u001b[0;34m\u001b[0m\u001b[0;34m\u001b[0m\u001b[0m\n",
      "\u001b[0;31mFileNotFoundError\u001b[0m: [Errno 2] No such file or directory: 'glove.6B.100d.txt'"
     ]
    }
   ],
   "source": [
    "f = open('glove.6B.100d.txt',encoding='utf-8')\n",
    "embeddings_index={}\n",
    "for line in f:\n",
    "    values = line.split()\n",
    "    word = values[0]\n",
    "    coefs = asarray(values[1:], dtype='float32')\n",
    "    embeddings_index[word] = coefs\n",
    "f.close()\n",
    "print('Loaded %s word vectors.' % len(embeddings_index))"
   ]
  },
  {
   "cell_type": "code",
   "execution_count": null,
   "metadata": {
    "ExecuteTime": {
     "end_time": "2021-05-12T02:56:02.157819Z",
     "start_time": "2021-05-12T02:51:41.156Z"
    }
   },
   "outputs": [],
   "source": [
    "# create a weight matrix for words in training docs\n",
    "embedding_matrix = zeros((vocab_size, 100))\n",
    "for word, i in tokenizer.word_index.items():\n",
    "    embedding_vector = embeddings_index.get(word)\n",
    "    if embedding_vector is not None: # check that it is an actual word that we have embeddings for\n",
    "        embedding_matrix[i] = embedding_vector"
   ]
  },
  {
   "cell_type": "code",
   "execution_count": null,
   "metadata": {
    "ExecuteTime": {
     "end_time": "2021-05-12T02:56:02.160915Z",
     "start_time": "2021-05-12T02:51:41.162Z"
    },
    "scrolled": true
   },
   "outputs": [],
   "source": [
    "# X_all_1:np.concatenate([X_cv.toarray(),features_princ_comps],axis=1)\n",
    "cv_featPca = np.concatenate([X_cv.toarray(),features_princ_comps],axis=1)\n",
    "# X_all_2:np.concatenate([princ_comps_cv,cat_feat_array],axis=1)\n",
    "cvPca_feat = np.concatenate([princ_comps_cv,cat_feat_array],axis=1)\n",
    "# X_all_3:np.concatenate([princ_comps_cv,features_princ_comps],axis=1)\n",
    "cvPca_featPca = np.concatenate([princ_comps_cv,features_princ_comps],axis=1)\n",
    "# X_all_4:np.concatenate([princ_comps_tfidf,features_princ_comps],axis=1)\n",
    "tfidfPca_featPca = np.concatenate([princ_comps_tfidf,features_princ_comps],axis=1)"
   ]
  },
  {
   "cell_type": "markdown",
   "metadata": {},
   "source": [
    "# Writing pickle files"
   ]
  },
  {
   "cell_type": "code",
   "execution_count": null,
   "metadata": {
    "ExecuteTime": {
     "end_time": "2021-05-12T02:56:02.170591Z",
     "start_time": "2021-05-12T02:51:41.167Z"
    }
   },
   "outputs": [],
   "source": [
    "# save data \n",
    "import pickle\n",
    "\n",
    "# cat_feat_array.pkl is the array of encoded features\n",
    "with open('cat_feat_array.pkl', 'wb') as f:\n",
    "    pickle.dump(cat_feat_array, f)\n",
    "\n",
    "# features_princ_comps.pkl is pca on the encoded feature array (cat_feat_array.pkl)\n",
    "with open('features_princ_comps.pkl', 'wb') as f:\n",
    "    pickle.dump(features_princ_comps, f)\n",
    "\n",
    "#=====================================================================   \n",
    "# X_cv.pkl is the Countvertorized lemmatized descriptions\n",
    "with open('X_cv.pkl', 'wb') as f:\n",
    "    pickle.dump(X_cv, f)  \n",
    "# princ_comps_cv.pkl is the pca on Countvertorized lemmatized descriptions(X_cv.pkl)\n",
    "with open('princ_comps_cv.pkl', 'wb') as f:\n",
    "    pickle.dump(princ_comps_cv, f)\n",
    "\n",
    "#=====================================================================   \n",
    "\n",
    " # X_tfidf.pkl is the tfidf vectorized lemmatized description\n",
    "with open('X_tfidf.pkl', 'wb') as f:\n",
    "    pickle.dump( X_tfidf, f)  \n",
    " # princ_comps_tfidf.pkl is the tfidf vectorized lemmatized description(X_tfidf.pkl) with PCA\n",
    "with open('princ_comps_tfidf.pkl', 'wb') as f:\n",
    "    pickle.dump(princ_comps_tfidf, f)  \n",
    "\n",
    "#=====================================================================  \n",
    "\n",
    "## combinations of the above data, to make different set of training data\n",
    "\n",
    "# cv_featPca_1.pkl is the countvectorized lemma description + encoded feature array with PCA\n",
    "with open('cv_featPca_1.pkl', 'wb') as f:\n",
    "    pickle.dump(cv_featPca, f)\n",
    "# cvPca_feat_2.pkl is the countvectorized lemma description with PCA + encoded feature vector without PCA\n",
    "with open('cvPca_feat_2.pkl', 'wb') as f:\n",
    "    pickle.dump(cvPca_feat, f)     \n",
    "# cvPca_featPca_3.pkl is the the countvectorized lemma description with PCA + encoded feature array with PCA\n",
    "with open('cvPca_featPca_3.pkl', 'wb') as f:\n",
    "    pickle.dump(cvPca_featPca, f)   \n",
    "# tfidfPca_featPca_4.pkl is the tfidf vectorized lemma description with PCA + encoded feature array with PCA\n",
    "with open('tfidfPca_featPca_4.pkl', 'wb') as f:\n",
    "    pickle.dump(tfidfPca_featPca, f)\n",
    "\n",
    "#===================================================================== \n",
    "    \n",
    " # padded_docs.pkl is the lemmatized_description after integer encoding and padding \n",
    "with open('padded_docs.pkl', 'wb') as f:\n",
    "    pickle.dump(padded_docs, f)"
   ]
  },
  {
   "cell_type": "code",
   "execution_count": null,
   "metadata": {
    "ExecuteTime": {
     "end_time": "2021-05-12T02:56:02.173982Z",
     "start_time": "2021-05-12T02:51:41.172Z"
    }
   },
   "outputs": [],
   "source": [
    "    \n",
    " # embedding_matrix.pkl is the loaded pretrained embeddings from GloVe\n",
    "with open('embedding_matrix.pkl', 'wb') as f:\n",
    "    pickle.dump(embedding_matrix, f)\n",
    "\n"
   ]
  },
  {
   "cell_type": "code",
   "execution_count": null,
   "metadata": {
    "ExecuteTime": {
     "end_time": "2021-05-12T02:56:02.177880Z",
     "start_time": "2021-05-12T02:51:41.181Z"
    }
   },
   "outputs": [],
   "source": [
    "#tokenizer_word_index.pkl is the tokenized lemma description \n",
    "with open('tokenizer_word_index.pkl', 'wb') as f:\n",
    "    pickle.dump(tokenizer.word_index, f)\n"
   ]
  }
 ],
 "metadata": {
  "kernelspec": {
   "display_name": "Python 3",
   "language": "python",
   "name": "python3"
  },
  "language_info": {
   "codemirror_mode": {
    "name": "ipython",
    "version": 3
   },
   "file_extension": ".py",
   "mimetype": "text/x-python",
   "name": "python",
   "nbconvert_exporter": "python",
   "pygments_lexer": "ipython3",
   "version": "3.8.8"
  },
  "toc": {
   "base_numbering": 1,
   "nav_menu": {},
   "number_sections": true,
   "sideBar": true,
   "skip_h1_title": false,
   "title_cell": "Table of Contents",
   "title_sidebar": "Contents",
   "toc_cell": false,
   "toc_position": {
    "height": "calc(100% - 180px)",
    "left": "10px",
    "top": "150px",
    "width": "269px"
   },
   "toc_section_display": true,
   "toc_window_display": true
  },
  "varInspector": {
   "cols": {
    "lenName": 16,
    "lenType": 16,
    "lenVar": 40
   },
   "kernels_config": {
    "python": {
     "delete_cmd_postfix": "",
     "delete_cmd_prefix": "del ",
     "library": "var_list.py",
     "varRefreshCmd": "print(var_dic_list())"
    },
    "r": {
     "delete_cmd_postfix": ") ",
     "delete_cmd_prefix": "rm(",
     "library": "var_list.r",
     "varRefreshCmd": "cat(var_dic_list()) "
    }
   },
   "position": {
    "height": "167px",
    "left": "852px",
    "right": "20px",
    "top": "16px",
    "width": "261px"
   },
   "types_to_exclude": [
    "module",
    "function",
    "builtin_function_or_method",
    "instance",
    "_Feature"
   ],
   "window_display": false
  }
 },
 "nbformat": 4,
 "nbformat_minor": 4
}
