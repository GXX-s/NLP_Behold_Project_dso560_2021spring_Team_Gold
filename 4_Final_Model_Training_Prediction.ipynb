{
 "cells": [
  {
   "cell_type": "markdown",
   "id": "a4def692",
   "metadata": {},
   "source": [
    "# Final Notebook - Summary"
   ]
  },
  {
   "cell_type": "markdown",
   "id": "09e12a31",
   "metadata": {},
   "source": [
    "This is the notebook that trains the final model on the cleaned dataset and produces a final prediction on the test data.\n",
    "\n",
    "**Input to this notebook:** `final_cleaned_data.csv` (which is the output of notebook named `1_Data_Cleaning_Feature_Creation.ipynb`)\n",
    "\n",
    "\n",
    "**In order to get the predictions:**\n",
    "    \n",
    "    Step 1: Run all cells from section 1 to 5.2.1 (Predictions)\n",
    "    Step 2: Enter file name of test file in section 5.2.1.1\n",
    "    Step 3: Run 5.2.2 to get predicted brands and accuracy"
   ]
  },
  {
   "cell_type": "markdown",
   "id": "36378019",
   "metadata": {},
   "source": [
    "# Importing Libraries"
   ]
  },
  {
   "cell_type": "code",
   "execution_count": 1,
   "id": "ee9f9760",
   "metadata": {
    "ExecuteTime": {
     "end_time": "2021-05-12T05:34:48.626318Z",
     "start_time": "2021-05-12T05:34:32.402203Z"
    }
   },
   "outputs": [
    {
     "name": "stderr",
     "output_type": "stream",
     "text": [
      "/Users/sneharaj/opt/anaconda3/lib/python3.8/site-packages/gensim/similarities/__init__.py:15: UserWarning: The gensim.similarities.levenshtein submodule is disabled, because the optional Levenshtein package <https://pypi.org/project/python-Levenshtein/> is unavailable. Install Levenhstein (e.g. `pip install python-Levenshtein`) to suppress this warning.\n",
      "  warnings.warn(msg)\n",
      "[nltk_data] Downloading package averaged_perceptron_tagger to\n",
      "[nltk_data]     /Users/sneharaj/nltk_data...\n",
      "[nltk_data]   Package averaged_perceptron_tagger is already up-to-\n",
      "[nltk_data]       date!\n",
      "[nltk_data] Downloading package wordnet to\n",
      "[nltk_data]     /Users/sneharaj/nltk_data...\n",
      "[nltk_data]   Package wordnet is already up-to-date!\n"
     ]
    }
   ],
   "source": [
    "import pandas as pd\n",
    "import nltk\n",
    "from nltk.stem.porter import PorterStemmer\n",
    "import pandas as pd\n",
    "import sys\n",
    "import re\n",
    "import matplotlib.pyplot as plt\n",
    "from collections import Counter\n",
    "import numpy as np\n",
    "import string\n",
    "from nltk.corpus import stopwords\n",
    "import seaborn as sns\n",
    "from nltk.stem import WordNetLemmatizer\n",
    "from sklearn.feature_extraction.text import CountVectorizer\n",
    "from nltk.tokenize import sent_tokenize\n",
    "from nltk.corpus import wordnet\n",
    "from sklearn.feature_extraction.text import TfidfVectorizer\n",
    "import gensim\n",
    "import seaborn as sns\n",
    "from gensim.parsing.preprocessing import remove_stopwords\n",
    "nltk.download('averaged_perceptron_tagger')\n",
    "nltk.download('wordnet')\n",
    "from collections import Counter\n",
    "from sklearn.linear_model import LogisticRegression\n",
    "from sklearn import preprocessing\n",
    "import nltk\n",
    "from nltk.collocations import BigramCollocationFinder, BigramAssocMeasures\n",
    "from nltk.stem import WordNetLemmatizer\n",
    "from nltk.stem import PorterStemmer\n",
    "from nltk import word_tokenize\n",
    "from nltk.corpus import wordnet\n",
    "lemmatizer = WordNetLemmatizer()\n",
    "from tqdm import tqdm\n",
    "from sklearn.feature_extraction.text import CountVectorizer\n",
    "from sklearn.feature_extraction.text import TfidfVectorizer\n",
    "from sklearn.decomposition import TruncatedSVD\n",
    "import matplotlib.pyplot as plt\n",
    "import numpy as np\n",
    "from sklearn.model_selection import train_test_split\n",
    "from keras.utils import to_categorical\n",
    "from sklearn.preprocessing import LabelEncoder\n",
    "from sklearn.preprocessing import OneHotEncoder\n",
    "from sklearn.decomposition import PCA"
   ]
  },
  {
   "cell_type": "markdown",
   "id": "49d66f26",
   "metadata": {},
   "source": [
    "# Load the clean data\n",
    "\n",
    "The file `final_cleaned_data.csv` has the description cleaned and the features added to it. This is the same file that will be output from `1_Data_Cleaning_Feature_Creation.ipynb` "
   ]
  },
  {
   "cell_type": "code",
   "execution_count": 2,
   "id": "a00762d7",
   "metadata": {
    "ExecuteTime": {
     "end_time": "2021-05-12T05:34:58.465114Z",
     "start_time": "2021-05-12T05:34:53.812442Z"
    }
   },
   "outputs": [],
   "source": [
    "behold_prod = pd.read_csv('final_cleaned_data.csv')"
   ]
  },
  {
   "cell_type": "markdown",
   "id": "8e20d6aa",
   "metadata": {},
   "source": [
    "# Final Model Data Preparation\n",
    "\n",
    "We have chosen **Logistic Regression** as our final model.\n",
    "It has comparable performance to LSTM models and easier to explain. This model takes significantly less time to run compared to LSTM models\n",
    "\n",
    "\n",
    "For data preparation we need to:\n",
    "- Perform Count Vectorization on the Lemmatized description column followed by SVD to reduce dimensionality\n",
    "- One-hot Encode the features and apply PCA to reduce feature space\n",
    "- Concatenate the two arrays. This will become our X\n",
    "- Label encode the brands. This becomes our y"
   ]
  },
  {
   "cell_type": "markdown",
   "id": "750e838e",
   "metadata": {},
   "source": [
    "## Count Vectorization"
   ]
  },
  {
   "cell_type": "code",
   "execution_count": 3,
   "id": "f61f1a46",
   "metadata": {
    "ExecuteTime": {
     "end_time": "2021-05-12T05:35:00.702119Z",
     "start_time": "2021-05-12T05:34:59.094214Z"
    }
   },
   "outputs": [],
   "source": [
    "behold_prod.fillna('Blank',inplace=True)"
   ]
  },
  {
   "cell_type": "code",
   "execution_count": 4,
   "id": "a788f437",
   "metadata": {
    "ExecuteTime": {
     "end_time": "2021-05-12T05:35:06.975469Z",
     "start_time": "2021-05-12T05:35:01.234840Z"
    }
   },
   "outputs": [],
   "source": [
    "countvectorizer = CountVectorizer(stop_words=\"english\", binary=True, min_df=0.001)\n",
    "X_cv = countvectorizer.fit_transform(behold_prod['lemmatized_description'].astype(str))"
   ]
  },
  {
   "cell_type": "code",
   "execution_count": 5,
   "id": "289a0e7e",
   "metadata": {
    "ExecuteTime": {
     "end_time": "2021-05-12T05:35:07.528305Z",
     "start_time": "2021-05-12T05:35:07.503521Z"
    }
   },
   "outputs": [
    {
     "data": {
      "text/plain": [
       "(61355, 2724)"
      ]
     },
     "execution_count": 5,
     "metadata": {},
     "output_type": "execute_result"
    }
   ],
   "source": [
    "X_cv.shape"
   ]
  },
  {
   "cell_type": "markdown",
   "id": "aa2914db",
   "metadata": {},
   "source": [
    "## SVD on CountVectorisation\n",
    "\n",
    "Linear dimensionality reduction using Singular Value Decomposition(SVD) of the data projects it to a lower dimensional space. Principal Component Analysis (PCA) can't work on the sparse matrix coming from Count Vectorizer. So we use SVD to reduce the dimensionality of the count vectorization output. \n",
    "\n",
    "\n"
   ]
  },
  {
   "cell_type": "code",
   "execution_count": 5,
   "id": "597c9d60",
   "metadata": {},
   "outputs": [
    {
     "data": {
      "text/plain": [
       "Text(0, 0.5, 'Cumulative Explained variance')"
      ]
     },
     "execution_count": 5,
     "metadata": {},
     "output_type": "execute_result"
    },
    {
     "data": {
      "image/png": "[encoded data removed]",
      "text/plain": [
       "<Figure size 432x288 with 1 Axes>"
      ]
     },
     "metadata": {
      "needs_background": "light"
     },
     "output_type": "display_data"
    }
   ],
   "source": [
    "svd_cv = TruncatedSVD(n_components=800, n_iter=7, random_state=42)\n",
    "svd_cv.fit(X_cv)\n",
    "import matplotlib.pyplot as plt\n",
    "import numpy as np\n",
    "plt.plot(np.cumsum((svd_cv.explained_variance_ratio_)))\n",
    "plt.xlabel(\"Number of Components\")\n",
    "plt.ylabel(\"Cumulative Explained variance\")"
   ]
  },
  {
   "cell_type": "code",
   "execution_count": 85,
   "id": "a23cabdf",
   "metadata": {},
   "outputs": [],
   "source": [
    "# The top 600 components capture 80% variance\n",
    "svd_cv=TruncatedSVD(n_components=600) \n",
    "princ_comps_cv=svd_cv.fit_transform(X_cv)"
   ]
  },
  {
   "cell_type": "markdown",
   "id": "e5491cce",
   "metadata": {},
   "source": [
    "We keep the top 600 components which capture ~80% of the variance"
   ]
  },
  {
   "cell_type": "markdown",
   "id": "35626c89",
   "metadata": {},
   "source": [
    "## Feature Encoding\n",
    "\n",
    "We use one-hot encoding for our categorical features."
   ]
  },
  {
   "cell_type": "code",
   "execution_count": 86,
   "id": "66451c56",
   "metadata": {},
   "outputs": [
    {
     "name": "stdout",
     "output_type": "stream",
     "text": [
      "12\n",
      "28\n",
      "2\n",
      "2\n"
     ]
    }
   ],
   "source": [
    "enc=OneHotEncoder(handle_unknown='ignore')\n",
    "\n",
    "for c in ['Made_In','final_fabric','Handcrafted','True_To_Size']:\n",
    "    enc.fit(behold_prod[c].values.reshape(-1,1))\n",
    "    FeatureInput=enc.transform(behold_prod[[c]]).toarray()\n",
    "    if c=='Made_In':\n",
    "        cat_feat_array=FeatureInput\n",
    "    else:\n",
    "        cat_feat_array=np.concatenate([FeatureInput,cat_feat_array],axis=1)"
   ]
  },
  {
   "cell_type": "code",
   "execution_count": 87,
   "id": "dbe1315d",
   "metadata": {},
   "outputs": [],
   "source": [
    "# There are different fields for washtype so we convert them into an array as well\n",
    "washtype_df = behold_prod[['is_dry_clean', 'is_hand_wash', 'is_machine_wash_cold',\n",
    "       'is_machine_wash', 'is_tumble_dry', 'is_not_bleach']]\n",
    "washtype_array = washtype_df.to_numpy()"
   ]
  },
  {
   "cell_type": "code",
   "execution_count": 88,
   "id": "8aab9ff8",
   "metadata": {},
   "outputs": [],
   "source": [
    "# Combining the two datasets to produce an array of the encoded features\n",
    "cat_feat_array=np.concatenate([washtype_array,cat_feat_array],axis=1)"
   ]
  },
  {
   "cell_type": "code",
   "execution_count": 89,
   "id": "2c0d89a3",
   "metadata": {
    "scrolled": true
   },
   "outputs": [
    {
     "data": {
      "text/plain": [
       "(61355, 50)"
      ]
     },
     "execution_count": 89,
     "metadata": {},
     "output_type": "execute_result"
    }
   ],
   "source": [
    "cat_feat_array.shape"
   ]
  },
  {
   "cell_type": "markdown",
   "id": "b16a23e2",
   "metadata": {},
   "source": [
    "## PCA on Encoded Features\n",
    "\n",
    "Encoded features have length of 50. We would perform PCA to keep the ones which captures about >90% of the variance."
   ]
  },
  {
   "cell_type": "code",
   "execution_count": 90,
   "id": "a99e9fc1",
   "metadata": {},
   "outputs": [
    {
     "data": {
      "text/plain": [
       "Text(0, 0.5, 'Cumulative Explained variance')"
      ]
     },
     "execution_count": 90,
     "metadata": {},
     "output_type": "execute_result"
    },
    {
     "data": {
      "image/png": "[encoded data removed]",
      "text/plain": [
       "<Figure size 432x288 with 1 Axes>"
      ]
     },
     "metadata": {
      "needs_background": "light"
     },
     "output_type": "display_data"
    }
   ],
   "source": [
    "pca=PCA(n_components=0.99,svd_solver=\"full\")\n",
    "pca.fit(cat_feat_array)\n",
    "\n",
    "plt.plot(np.cumsum((pca.explained_variance_ratio_)))\n",
    "plt.xlabel(\"Number of Components\")\n",
    "plt.ylabel(\"Cumulative Explained variance\")"
   ]
  },
  {
   "cell_type": "code",
   "execution_count": 91,
   "id": "b534c99e",
   "metadata": {},
   "outputs": [],
   "source": [
    "pca=PCA(n_components=20) #  around 100% captured by 25 features\n",
    "features_princ_comps=pca.fit_transform(cat_feat_array)"
   ]
  },
  {
   "cell_type": "markdown",
   "id": "2385daee",
   "metadata": {},
   "source": [
    "## Final Model"
   ]
  },
  {
   "cell_type": "markdown",
   "id": "223e4a41",
   "metadata": {},
   "source": [
    "### Label encoding of Target variable\n",
    "\n",
    "In this stage we are label encoding the 31 labels (top 30 brand names) to numerical values so that we can feed it as `y` to our Logistic Regression Model"
   ]
  },
  {
   "cell_type": "code",
   "execution_count": 92,
   "id": "ce59e84e",
   "metadata": {},
   "outputs": [],
   "source": [
    "\n",
    "le = preprocessing.LabelEncoder()\n",
    "le.fit(behold_prod['label'].astype(str))\n",
    "y=le.transform(behold_prod['label'].astype(str))"
   ]
  },
  {
   "cell_type": "markdown",
   "id": "35ffb5f1",
   "metadata": {},
   "source": [
    "### Concatenation of Features\n",
    "\n",
    "The reduced features (through PCA and SVD) from both Count Vectorization and Categorical features are concatenated to create our X."
   ]
  },
  {
   "cell_type": "code",
   "execution_count": 97,
   "id": "21af7f26",
   "metadata": {},
   "outputs": [],
   "source": [
    " X_all=np.concatenate([princ_comps_cv,features_princ_comps],axis=1)"
   ]
  },
  {
   "cell_type": "code",
   "execution_count": 98,
   "id": "f6d34af3",
   "metadata": {},
   "outputs": [
    {
     "data": {
      "text/plain": [
       "(61355, 650)"
      ]
     },
     "execution_count": 98,
     "metadata": {},
     "output_type": "execute_result"
    }
   ],
   "source": [
    "X_all.shape"
   ]
  },
  {
   "cell_type": "markdown",
   "id": "110a4c9b",
   "metadata": {},
   "source": [
    "### Train and Test\n",
    "\n",
    "We split the data into training and testing datasets ensuring `stratify=y` to maintain a representative distribution of the labels."
   ]
  },
  {
   "cell_type": "code",
   "execution_count": 99,
   "id": "a0bf1f0a",
   "metadata": {},
   "outputs": [],
   "source": [
    "lr=LogisticRegression(max_iter=500)"
   ]
  },
  {
   "cell_type": "code",
   "execution_count": null,
   "id": "4167d505",
   "metadata": {},
   "outputs": [],
   "source": [
    "X_train,X_test,y_train,y_test=train_test_split(X_all ,y, test_size=0.2, random_state=1,stratify=y)\n",
    "\n",
    "lr.fit(X_train, y_train)\n",
    "y_pred = lr.predict(X_test)\n",
    "\n",
    "# calculate accuracy ~around 87-88% across multiple train test split\n",
    "print(np.mean(y_pred == y_test))"
   ]
  },
  {
   "cell_type": "markdown",
   "id": "dc8d1d57",
   "metadata": {},
   "source": [
    "> We were getting around 90-91% accuracy on test data without using PCA/SVD on count vectoriser and encoded features. But chosen the PCA route to reduce dimensionality and correlation among features"
   ]
  },
  {
   "cell_type": "markdown",
   "id": "c6faeb00",
   "metadata": {},
   "source": [
    "## Further tuning the model to get best performance in unknown set"
   ]
  },
  {
   "cell_type": "code",
   "execution_count": null,
   "id": "e7829eb8",
   "metadata": {},
   "outputs": [],
   "source": [
    "# Fitting on whole data with same settings\n",
    "lr.fit(X_all, y) "
   ]
  },
  {
   "cell_type": "code",
   "execution_count": null,
   "id": "2a984b59",
   "metadata": {},
   "outputs": [],
   "source": [
    "# y_pred = lr.predict(X_test)\n",
    "# print(np.mean(y_pred == y_test))"
   ]
  },
  {
   "cell_type": "markdown",
   "id": "2454dfde",
   "metadata": {},
   "source": [
    "# Function to get prediction from a test dataset"
   ]
  },
  {
   "cell_type": "markdown",
   "id": "d295ca5a",
   "metadata": {},
   "source": [
    "## Supporting Functions"
   ]
  },
  {
   "cell_type": "markdown",
   "id": "33bee6a6",
   "metadata": {},
   "source": [
    "We declare functions in this section so that we can process our input file the same way as the original data set."
   ]
  },
  {
   "cell_type": "markdown",
   "id": "a3b1c3b2",
   "metadata": {},
   "source": [
    "### Stopwords"
   ]
  },
  {
   "cell_type": "code",
   "execution_count": 20,
   "id": "66784d4b",
   "metadata": {},
   "outputs": [],
   "source": [
    "# declaring stopwords to add \n",
    "stopwords_mod = ['moreover', 'only', 'eight', 'otherwise', 'unless', 'done', 'as', 'somehow',\n",
    " 'off', 'three', 'do', 'become', 'nothing', 'a', 'top', 'describe', 'not',\n",
    " 'although', 'co', 'if', 'mostly', 'such', 'third', 'myself', 'sometime',\n",
    " 'because', 'yours', 'within', 'noone', 'former', 'through', 'seeming',\n",
    " 'further', 'fifteen', 'had', 'inc', 'into', 'is', 'who', 'amount', 'during', 'per', 'doing',\n",
    " 'for', 'neither', 'an', 'yourself', 'under', 'still', 'doesn', 'this', 'name', 'rather', 'it',\n",
    " 'whence', 'toward', 'various', 'somewhere', 'the', 'hasnt', 'few', 'thereupon', 'alone', 'all', 'own', 'yet',\n",
    " 'well', 'ourselves', 'anywhere', 'with', 'many', 'themselves', 'until',\n",
    " 'side', 'move', 'from', 'its', 'her', 'upon', 'here', 'don', 'above',\n",
    " 'wherein', 'their', 'becomes', 'thus', 'up', 'either', 'another', 'can', 'beforehand', 'twelve', 'ours', 'call',\n",
    " 'hereafter', 'me', 'part', 'less', 'between', 'other', 'de', 'kg', 'nowhere', 'at', 'without', 'among', 'thin', 'anyway', 'towards', 'using',\n",
    " 'see', 'what', 'serious', 'whether', 'perhaps', 'thereafter', 'or', 'put', 'thick', 'sixty', 'five', 'i', 'how', 'even', 'one', 'didn', 'below', 'which', 'first', 'them', 'hundred', 'hereupon', 'mill', 'been', 'besides', 'to', 'amongst', 'make', 'however', 'just', 'must', 'both', 'each', 'any', 'again', 'are', 'everyone', 'herein', 'bill', 'then', 'get', 'fifty',\n",
    " 'anyone', 'whereby', 'so', 'un', 'became', 'nor', 'were', 'used', 'whereupon',\n",
    " 'show', 'give', 'seems', 'but', 'always', 'against', 'him', 'wherever', 'made',\n",
    " 'some', 'last', 'along', 'computer', 'anyhow', 'cry', 'about', 'that', 'on', 'due',\n",
    " 'meanwhile', 'his', 'our', 'when', 'these', 'and', 'several', 'formerly', 'since',\n",
    " 'whole', 'am', 'eleven', 'once', 'whoever', 'eg', 'please', 'amoungst', 'least',\n",
    " 'hence', 'us', 'ie', 'go', 'ever', 'every', 'none', 'others', 'of', 'fire', 'whenever', 'too', 'indeed',\n",
    " 'already', 'by', 'becoming', 'whose', 'something', 'yourselves', 're', 'around', 'nine', 'via', 'where', 'forty', 'hereby', 'everything', 'sometimes', 'system', 'might', 'no', 'across', 'could', 'very', 'more', 'behind', 'afterwards', 'whereas', 'twenty', 'while', 'out', 'ten', 'latterly', 'namely', 'be', 'should', 'thereby', 'mine', 'whom', 'fill', 'two', 'beyond', 'take', 'my', 'else', 'throughout', 'would', 'thence', 'say', 'will', 'down', 'does', 'together', 'though', 'next', 'also', 'we', 'back', 'cannot', 'sincere', 'most', 'seemed', 'therein', 'she', 'being',\n",
    " 'latter', 'they', 'seem', 'did', 'detail', 'whatever', 'someone', 'himself', 'regarding', 'nobody', 'six', 'bottom', 'elsewhere', 'find', 'etc', 'couldnt', 'your', 'interest', 'has', 'ltd', 'therefore', 'thru', 'four', 'km', 'anything', 'quite', 'now', 'everywhere', 'those', 'con', 'much', 'you', 'than', 'same', 'keep', 'full', 'cant', 'beside', 'herself', 'except', 'itself', 'after', 'may', 'before', 'often', 'in', 'almost', 'nevertheless', 'why', 'have', 'front', 'enough', 'whereafter', 'there', 'whither', 'he', 'found', 'really', 'hers', 'no','in',\n",
    " 'empty', 'never', 'was', 'onto', 'over']"
   ]
  },
  {
   "cell_type": "code",
   "execution_count": 21,
   "id": "f32079a7",
   "metadata": {},
   "outputs": [],
   "source": [
    "# Defining custom stopwords\n",
    "custom_sw = ['size', 'fit','height', 'wide',\n",
    "             'waist','bust' 'hip','measurement',\n",
    "             'model','wear','small','medium','large',\n",
    "            'sizing','high','small','long','cm','easy']\n",
    "stopwords_list = stopwords_mod + custom_sw\n"
   ]
  },
  {
   "cell_type": "code",
   "execution_count": 22,
   "id": "aa4398c5",
   "metadata": {},
   "outputs": [],
   "source": [
    "# Function to remove stopwords\n",
    "def remove_sw(text):\n",
    "    ''' Remove Stopwords'''\n",
    "    text = str(text)\n",
    "    # split sentence into words\n",
    "    words = word_tokenize(text)\n",
    "    \n",
    "    new_words = []\n",
    "    # remove stopwords\n",
    "    for w in words:\n",
    "        if w in stopwords_list:\n",
    "            continue\n",
    "        new_words.append(w)\n",
    "    return ' '.join(new_words)"
   ]
  },
  {
   "cell_type": "code",
   "execution_count": 23,
   "id": "aa5ed921",
   "metadata": {},
   "outputs": [],
   "source": [
    "def remove_whitespace(row):\n",
    "    '''Function to remove the single white space in certain rows'''\n",
    "    if len(row)==0:\n",
    "        return 'Blank'\n",
    "    else:\n",
    "        return row"
   ]
  },
  {
   "cell_type": "code",
   "execution_count": 24,
   "id": "c004816a",
   "metadata": {},
   "outputs": [],
   "source": [
    "# remove other stopwords pattern\n",
    "pattern=r'\\b(mm|(x)?(x)?s|wear(s|ing)?|measurements?|x|new(est)?|detail(s|ed)?|)\\b'\n"
   ]
  },
  {
   "cell_type": "markdown",
   "id": "07549d72",
   "metadata": {},
   "source": [
    "### Made In"
   ]
  },
  {
   "cell_type": "code",
   "execution_count": 25,
   "id": "703e7070",
   "metadata": {},
   "outputs": [],
   "source": [
    "def extract_madein(product): \n",
    "    ''' Extracting the location from 'details' and 'description' columns of the dataset passed'''\n",
    "    location_list_clean = []\n",
    "    for rows in range(0,len(product)):\n",
    "        #check if content in description column, if not (aka null), there's usually content in details column\n",
    "        if pd.isnull(product.loc[rows,'description']):\n",
    "            if pd.isnull(product.loc[rows,'details']):\n",
    "                location_list_clean.append('None')\n",
    "                continue\n",
    "            else:\n",
    "                #append entity to list and operate on the details column, will be used to slap it onto main dataframe later\n",
    "                if len(re.findall(r'\\b(USA|United States)\\b',str(product.loc[rows,'details']),flags=re.IGNORECASE)) >= 1:\n",
    "                    location_list_clean.append('USA')\n",
    "                elif len(re.findall(r'\\b(Italy)\\b',str(product.loc[rows,'details']),flags=re.IGNORECASE)) >= 1:\n",
    "                    location_list_clean.append('Italy')\n",
    "                elif len(re.findall(r'\\b(New York|NewYork|new_york_city|NewYorkCity|NY|NYC|N\\.Y\\.)\\b',str(product.loc[rows,'details']),flags=re.IGNORECASE)) >= 1:\n",
    "                    location_list_clean.append('New York')\n",
    "                elif len(re.findall(r'\\b(Los Angeles|LA|LosAngeles|L\\.A\\.)\\b',str(product.loc[rows,'details']),flags=re.IGNORECASE)) >= 1:\n",
    "                    location_list_clean.append('LA')\n",
    "                elif len(re.findall(r'\\b(Ghana)\\b',str(product.loc[rows,'details']),flags=re.IGNORECASE)) >= 1:\n",
    "                    location_list_clean.append('Ghana')\n",
    "                elif len(re.findall(r'\\b(China)\\b',str(product.loc[rows,'details']),flags=re.IGNORECASE)) >= 1:\n",
    "                    location_list_clean.append('China')\n",
    "                elif len(re.findall(r'\\b(India)\\b',str(product.loc[rows,'details']),flags=re.IGNORECASE)) >= 1:\n",
    "                    location_list_clean.append('India')\n",
    "                elif len(re.findall(r'\\b(Spain)\\b',str(product.loc[rows,'details']),flags=re.IGNORECASE)) >= 1:\n",
    "                    location_list_clean.append('Spain')\n",
    "                elif len(re.findall(r'\\b(France)\\b',str(product.loc[rows,'details']),flags=re.IGNORECASE)) >= 1:\n",
    "                    location_list_clean.append('France')\n",
    "                elif len(re.findall(r'\\b(London|UK|U\\.K\\.)\\b',str(product.loc[rows,'details']),flags=re.IGNORECASE)) >= 1:\n",
    "                    location_list_clean.append('London/UK')\n",
    "                elif len(re.findall(r'\\b(Japan|Tokyo)\\b',str(product.loc[rows,'details']),flags=re.IGNORECASE)) >= 1:\n",
    "                    location_list_clean.append('Japan')\n",
    "                else:\n",
    "                    location_list_clean.append('None')\n",
    "        else:\n",
    "            #do the same thing as above if content is in description column\n",
    "                if len(re.findall(r'\\b(USA|United States)\\b',str(product.loc[rows,'description']),flags=re.IGNORECASE)) >= 1:\n",
    "                    location_list_clean.append('USA')\n",
    "                elif len(re.findall(r'\\b(Italy)\\b',str(product.loc[rows,'description']),flags=re.IGNORECASE)) >= 1:\n",
    "                    location_list_clean.append('Italy')\n",
    "                elif len(re.findall(r'\\b(New York|NewYork|new_york_city|NewYorkCity|NY|NYC|N\\.Y\\.)\\b',str(product.loc[rows,'description']),flags=re.IGNORECASE)) >= 1:\n",
    "                    location_list_clean.append('New York')\n",
    "                elif len(re.findall(r'\\b(Los Angeles|LA|LosAngeles|L\\.A\\.)\\b',str(product.loc[rows,'description']),flags=re.IGNORECASE)) >= 1:\n",
    "                    location_list_clean.append('LA')\n",
    "                elif len(re.findall(r'\\b(Ghana)\\b',str(product.loc[rows,'description']),flags=re.IGNORECASE)) >= 1:\n",
    "                    location_list_clean.append('Ghana')\n",
    "                elif len(re.findall(r'\\b(China)\\b',str(product.loc[rows,'description']),flags=re.IGNORECASE)) >= 1:\n",
    "                    location_list_clean.append('China')\n",
    "                elif len(re.findall(r'\\b(India)\\b',str(product.loc[rows,'description']),flags=re.IGNORECASE)) >= 1:\n",
    "                    location_list_clean.append('India')\n",
    "                elif len(re.findall(r'\\b(Spain)\\b',str(product.loc[rows,'description']),flags=re.IGNORECASE)) >= 1:\n",
    "                    location_list_clean.append('Spain')\n",
    "                elif len(re.findall(r'\\b(France)\\b',str(product.loc[rows,'description']),flags=re.IGNORECASE)) >= 1:\n",
    "                    location_list_clean.append('France')\n",
    "                elif len(re.findall(r'\\b(London|UK|U\\.K\\.)\\b',str(product.loc[rows,'description']),flags=re.IGNORECASE)) >= 1:\n",
    "                    location_list_clean.append('London/UK')\n",
    "                elif len(re.findall(r'\\b(Japan|Tokyo)\\b',str(product.loc[rows,'description']),flags=re.IGNORECASE)) >= 1:\n",
    "                    location_list_clean.append('Japan')\n",
    "                else:\n",
    "                    location_list_clean.append('None')\n",
    "    return location_list_clean"
   ]
  },
  {
   "cell_type": "markdown",
   "id": "c42953a9",
   "metadata": {},
   "source": [
    "### Handcraft"
   ]
  },
  {
   "cell_type": "code",
   "execution_count": 26,
   "id": "9a2a7cef",
   "metadata": {},
   "outputs": [],
   "source": [
    "def extract_handcraft(df):\n",
    "    ''' Extracting the Hand-crafted feature from 'details' and 'description' columns of the dataset passed'''\n",
    "    handcrafted_list = []\n",
    "    truetosize_list = []\n",
    "    for rows in range(0,len(df)):\n",
    "        #check if content in description column, if not (aka null), there's usually content in details column\n",
    "        if pd.isnull(df.loc[rows,'description']):\n",
    "            if pd.isnull(df.loc[rows,'details']):\n",
    "                handcrafted_list.append(0)\n",
    "                continue\n",
    "            else:\n",
    "                #append entity to list and operate on the details column, will be used to slap it onto main dataframe later\n",
    "                if len(re.findall(r'\\b(handcrafted|hand-crafted)\\b',str(df.loc[rows,'details']),flags=re.IGNORECASE)) >=1:\n",
    "                    handcrafted_list.append(1)\n",
    "                else:\n",
    "                    handcrafted_list.append(0)\n",
    "\n",
    "        else:\n",
    "            #do the same thing as above if content is in description column\n",
    "                if len(re.findall(r'\\b(handcrafted|hand-crafted)\\b',str(df.loc[rows,'description']),flags=re.IGNORECASE)) >=1:\n",
    "                    handcrafted_list.append(1)\n",
    "                else:\n",
    "                    handcrafted_list.append(0)\n",
    "\n",
    "    return handcrafted_list"
   ]
  },
  {
   "cell_type": "markdown",
   "id": "08171cd9",
   "metadata": {},
   "source": [
    "### True to Size"
   ]
  },
  {
   "cell_type": "code",
   "execution_count": 27,
   "id": "51dd8721",
   "metadata": {},
   "outputs": [],
   "source": [
    "def extract_truetosize(df):\n",
    "    ''' Extracting the whether the description mentions True to Size from 'details' and 'description' columns of the dataset passed'''\n",
    "    truetosize_list = []\n",
    "    for rows in range(0,len(product)):\n",
    "        #check if content in description column, if not (aka null), there's usually content in details column\n",
    "        if pd.isnull(product.loc[rows,'description']):\n",
    "            if pd.isnull(product.loc[rows,'details']):\n",
    "                truetosize_list.append(0)\n",
    "                continue\n",
    "            else:\n",
    "                #append entity to list and operate on the details column, will be used to slap it onto main dataframe later\n",
    "                if len(re.findall(r'\\b(true to size)\\b',str(product.loc[rows,'details']),flags=re.IGNORECASE)) >=1:\n",
    "                    truetosize_list.append(1)\n",
    "                else:\n",
    "                    truetosize_list.append(0)\n",
    "\n",
    "        else:\n",
    "            #do the same thing as above if content is in description column\n",
    "                if len(re.findall(r'\\b(true to size)\\b',str(product.loc[rows,'description']),flags=re.IGNORECASE)) >=1:\n",
    "                    truetosize_list.append(1)\n",
    "                else:\n",
    "                    truetosize_list.append(0)\n",
    "    return truetosize_list"
   ]
  },
  {
   "cell_type": "markdown",
   "id": "71704196",
   "metadata": {},
   "source": [
    "### Wash Type"
   ]
  },
  {
   "cell_type": "code",
   "execution_count": 28,
   "id": "41039976",
   "metadata": {},
   "outputs": [],
   "source": [
    "def findCare(txt):\n",
    "    \"\"\" Function to determine the care method of item \"\"\"\n",
    "    txt = str(txt)\n",
    "    val = []\n",
    "    care_re = r'\\b(dry clean|hand wash|not? bleach|tumble dry|hang dry\\\n",
    "                |machine wash cold|machine wash|(?:[don\\'t|not?]) machine wash)\\b'\n",
    "    if re.findall(care_re, txt, re.IGNORECASE ):\n",
    "        val = re.findall(care_re, txt, re.IGNORECASE)\n",
    "    return val"
   ]
  },
  {
   "cell_type": "code",
   "execution_count": 29,
   "id": "5445c4e5",
   "metadata": {},
   "outputs": [],
   "source": [
    "def is_dry_clean(txt):\n",
    "    '''Function to check for dry clean condition'''\n",
    "    txt = str(txt)\n",
    "    val = 0\n",
    "    if re.search(r'\\b(dry clean)\\b', txt, re.IGNORECASE ):\n",
    "        val = 1\n",
    "   \n",
    "    return val"
   ]
  },
  {
   "cell_type": "code",
   "execution_count": 30,
   "id": "4956330f",
   "metadata": {},
   "outputs": [],
   "source": [
    "def is_hand_wash(txt):\n",
    "    '''Function to check for hand wash instructions'''\n",
    "    txt = str(txt)\n",
    "    val = 0\n",
    "    if re.search(r'\\b(handwash)\\b', txt, re.IGNORECASE ):\n",
    "        val = 1\n",
    "   \n",
    "    return val"
   ]
  },
  {
   "cell_type": "code",
   "execution_count": 31,
   "id": "27417135",
   "metadata": {},
   "outputs": [],
   "source": [
    "def is_machine_wash_cold(txt):\n",
    "    '''Function to check for machine wash cold instruction'''\n",
    "    txt = str(txt)\n",
    "    val = 0\n",
    "    if re.search(r'\\b(machine wash cold)\\b', txt, re.IGNORECASE ):\n",
    "        val = 1\n",
    "   \n",
    "    return val"
   ]
  },
  {
   "cell_type": "code",
   "execution_count": 32,
   "id": "6abd1f2a",
   "metadata": {},
   "outputs": [],
   "source": [
    "def is_machine_wash(txt):\n",
    "    '''Function to check for machine wash instruction'''\n",
    "    txt = str(txt)\n",
    "    val = 0\n",
    "    if re.search(r'\\b(machine wash)\\b', txt, re.IGNORECASE ):\n",
    "        val =1\n",
    "   \n",
    "    return val"
   ]
  },
  {
   "cell_type": "code",
   "execution_count": 33,
   "id": "c3d167d1",
   "metadata": {},
   "outputs": [],
   "source": [
    "def is_tumble_dry(txt):\n",
    "    '''Function to check for tumble dry instructions'''\n",
    "    txt = str(txt)\n",
    "    val = 0\n",
    "    if re.search(r'\\b(tumble dry)\\b', txt, re.IGNORECASE ):\n",
    "        val = 1\n",
    "   \n",
    "    return val"
   ]
  },
  {
   "cell_type": "code",
   "execution_count": 34,
   "id": "e23a64f3",
   "metadata": {},
   "outputs": [],
   "source": [
    "def is_not_bleach(txt):\n",
    "    '''Function to check for do not bleach instruction'''\n",
    "    txt = str(txt)\n",
    "    val = 0\n",
    "    if re.search(r'\\b((not|no) bleach)\\b', txt, re.IGNORECASE ):\n",
    "        val = 1\n",
    "   \n",
    "    return val\n"
   ]
  },
  {
   "cell_type": "markdown",
   "id": "98a888eb",
   "metadata": {},
   "source": [
    "### Fabric"
   ]
  },
  {
   "cell_type": "code",
   "execution_count": 35,
   "id": "40261806",
   "metadata": {},
   "outputs": [],
   "source": [
    "def findFabric(txt):\n",
    "    \"\"\" Function to determine the fabric of item \"\"\"\n",
    "    fabric_re = r'\\b(broadcloth|brocade|calico|cashmere|chambray|chiffon|corduroy|cotton|eyelet|faille|foulard|furbelow|fustian|gingham|grosgrain|jacquard|knit\\\n",
    "                    |linen|lisle|madras|merino|paisley|sateen|satin|\\\n",
    "                    seersucker|shetland|silk|taffeta|tulle|velvet|polyester|rayon)\\b'\n",
    "    val = []\n",
    "    txt = str(txt)\n",
    "    if re.findall(fabric_re, txt, re.IGNORECASE ):\n",
    "        val = re.findall(fabric_re, txt, re.IGNORECASE )\n",
    "    return val"
   ]
  },
  {
   "cell_type": "markdown",
   "id": "d5fd42bd",
   "metadata": {},
   "source": [
    "### Lemmatization Function"
   ]
  },
  {
   "cell_type": "code",
   "execution_count": 36,
   "id": "85c9dd79",
   "metadata": {},
   "outputs": [],
   "source": [
    "\n",
    "# function to convert nltk tag to wordnet tag\n",
    "def nltk_tag_to_wordnet_tag(nltk_tag):\n",
    "    if nltk_tag.startswith('J'):\n",
    "        return wordnet.ADJ\n",
    "    elif nltk_tag.startswith('V'):\n",
    "        return wordnet.VERB\n",
    "    elif nltk_tag.startswith('N'):\n",
    "        return wordnet.NOUN\n",
    "    elif nltk_tag.startswith('R'):\n",
    "        return wordnet.ADV\n",
    "    else:          \n",
    "        return None\n",
    "    \n",
    "def lemmatize_sentence(sentence):\n",
    "    sentence = str(sentence)\n",
    "    #tokenize the sentence and find the POS tag for each token\n",
    "    nltk_tagged = nltk.pos_tag(nltk.word_tokenize(sentence))  \n",
    "    #tuple of (token, wordnet_tag)\n",
    "    wordnet_tagged = map(lambda x: (x[0], nltk_tag_to_wordnet_tag(x[1])), nltk_tagged)\n",
    "    lemmatized_sentence = []\n",
    "    for word, tag in wordnet_tagged:\n",
    "        if tag is None:\n",
    "            #if there is no available tag, append the token as is\n",
    "            lemmatized_sentence.append(word)\n",
    "        else:        \n",
    "            #else use the tag to lemmatize the token\n",
    "            lemmatized_sentence.append(lemmatizer.lemmatize(word, tag))\n",
    "    return lemmatized_sentence\n"
   ]
  },
  {
   "cell_type": "markdown",
   "id": "35bb941b",
   "metadata": {},
   "source": [
    "## Main Function"
   ]
  },
  {
   "cell_type": "markdown",
   "id": "eeb115a0",
   "metadata": {},
   "source": [
    "### Predictions"
   ]
  },
  {
   "cell_type": "markdown",
   "id": "1ca59858",
   "metadata": {},
   "source": [
    "#### Read in the test data\n",
    "\n",
    "Please enter the filename of the test dataset into `filename=` and run the subsequent cells."
   ]
  },
  {
   "cell_type": "code",
   "execution_count": 38,
   "id": "43398078",
   "metadata": {
    "scrolled": false
   },
   "outputs": [],
   "source": [
    "# filename=<Please type in filename>\n",
    "product = pd.read_excel('Behold+product+data+04262021.xlsx')\n"
   ]
  },
  {
   "cell_type": "code",
   "execution_count": 39,
   "id": "8799e30f",
   "metadata": {
    "code_folding": []
   },
   "outputs": [],
   "source": [
    "import warnings\n",
    "warnings.filterwarnings(\"ignore\")\n",
    "\n",
    "def get_predictons(data):\n",
    "    '''data: Test Data\n",
    "    This function generates the array with predicted brands.\n",
    "    This function requires the following columns in the test data:\n",
    "    - description\n",
    "    - details\n",
    "    - name '''\n",
    "    \n",
    "    data.fillna('None',inplace = True)\n",
    "    # remove less useful elements\n",
    "    data.description = data.description.str.replace('\\n',' ')\n",
    "    data.description = data.description.str.replace('\\r',' ')\n",
    "    data.description = data.description.str.replace(r'  ',' ')\n",
    "    data.description = data.description.str.replace(r'\\bs\\b','')\n",
    "    # # remove punctuations\n",
    "    data.description = data.description.str.replace(r'[^A-Za-z0-9 ]+','')\n",
    "    data.description = data.description.str.lower()\n",
    "    # Handcraft\n",
    "    data['Handcrafted']=extract_handcraft(data)\n",
    "     \n",
    "    # Parsing out location\n",
    "    \n",
    "    data['description'] = data['description'].str.\\\n",
    "                                replace(r'\\bnew\\b\\s\\byork\\b\\s(?:\\bcity\\b)?','new_york_city ')\n",
    "\n",
    "    data['description'] = data['description'].str.\\\n",
    "                                    replace(r'\\b(?:the\\s)?usa?\\b','USA')\n",
    "    data['description'] = data['description'].str.\\\n",
    "                                    replace(r'\\b(?:the\\s)?united\\sstates\\b','USA')\n",
    "    # Made-in information extraction\n",
    "    data['Made_In']=extract_madein(data)\n",
    "    \n",
    "    \n",
    "    #Fabric parsing\n",
    "    data['fabric_list'] = data['description'].apply(findFabric) +data['name'].apply(findFabric)              \n",
    "    data['fabrics'] = data['fabric_list'].apply(lambda x: set(y.lower() for y in x))\n",
    "    data['n_fabric'] = data['fabrics'].apply(len)\n",
    "    data['final_fabric'] = np.nan\n",
    "    data.loc[data['n_fabric']>1,'final_fabric'] = 'multi'\n",
    "    data.loc[data['n_fabric']==1,'final_fabric'] = \\\n",
    "           data.loc[data['n_fabric']==1,'fabrics'].apply(lambda x:list(x)[0])\n",
    "    # True to size\n",
    "    data['True_To_Size']=extract_truetosize(data)\n",
    "    # Wash Type\n",
    "    data['care_list'] = data['description'].apply(findCare)              \n",
    "    data['wash_type'] = data['care_list'].apply(lambda x: set(y.lower() for y in x))\n",
    "    data['is_dry_clean'] = pd.DataFrame(data.description.apply(is_dry_clean))\n",
    "    data['is_hand_wash'] = pd.DataFrame(data.description.apply(is_hand_wash))\n",
    "    data['is_machine_wash'] = pd.DataFrame(data.description.apply(is_machine_wash))\n",
    "    data['is_machine_wash_cold'] = pd.DataFrame(data.description.apply(is_machine_wash_cold))\n",
    "    data['is_not_bleach'] = pd.DataFrame(data.description.apply(is_not_bleach))\n",
    "    data['is_tumble_dry'] = pd.DataFrame(data.description.apply(is_tumble_dry))\n",
    "   \n",
    "    # Stopwords\n",
    "    data['description'] = data['description'].apply(remove_sw)\n",
    "    data.description=data.description.str.replace(pattern,'')\n",
    "    data.description=data.description.apply(remove_whitespace)\n",
    "    \n",
    "      #Lemmatization\n",
    "    lemmatized_descriptions = []\n",
    "    for des in data['description']:\n",
    "        lemmatized_description =  lemmatize_sentence(des)\n",
    "        lemmatized_descriptions.append(lemmatized_description)\n",
    "    lemmatized_description_join = []\n",
    "    for doc in tqdm(lemmatized_descriptions):\n",
    "        new_doc = ' '.join(doc)\n",
    "        lemmatized_description_join.append(new_doc)\n",
    "\n",
    "    data.fillna('Blank',inplace=True)\n",
    "    data['lemmatized_description'] = lemmatized_description_join \n",
    "        \n",
    "    #Count Vectorisation\n",
    "    X_cv = countvectorizer.transform(data['lemmatized_description'].astype(str))\n",
    "    \n",
    "    #SVD on Count Vectorisation\n",
    "    princ_comps_cv=svd_cv.transform(X_cv) \n",
    "    \n",
    "    #Feature encoding\n",
    "    for c in ['Made_In','final_fabric','Handcrafted','True_To_Size']:\n",
    "        enc.fit(behold_prod[c].values.reshape(-1,1)) #fits on known data\n",
    "        FeatureInput=enc.transform(data[[c]]).toarray() #transforms on test\n",
    "        if c=='Made_In':\n",
    "            cat_feat_array=FeatureInput\n",
    "        else:\n",
    "            cat_feat_array=np.concatenate([FeatureInput,cat_feat_array],axis=1)\n",
    "    washtype_df = data[['is_dry_clean', 'is_hand_wash', 'is_machine_wash_cold',\n",
    "           'is_machine_wash', 'is_tumble_dry', 'is_not_bleach']]\n",
    "    washtype_array = washtype_df.to_numpy()\n",
    "    cat_feat_array=np.concatenate([washtype_array,cat_feat_array],axis=1)\n",
    "    print(cat_feat_array.shape)\n",
    "    # PCA on Encoded Features\n",
    "    features_princ_comps=pca.transform(cat_feat_array)\n",
    "    \n",
    "    #Concatenate both PCA and SVD outputs\n",
    "    X_all=np.concatenate([princ_comps_cv,features_princ_comps],axis=1)\n",
    "    \n",
    "    #Get prediction\n",
    "    y_pred = lr.predict(X_all)\n",
    "    \n",
    "    # Get actual brands\n",
    "    brand_pred=le.inverse_transform(y_pred)\n",
    "    \n",
    "    return brand_pred         \n",
    "    \n"
   ]
  },
  {
   "cell_type": "markdown",
   "id": "274b14f7",
   "metadata": {},
   "source": [
    "### Get Accuracy"
   ]
  },
  {
   "cell_type": "code",
   "execution_count": 45,
   "id": "4516aa5d",
   "metadata": {},
   "outputs": [],
   "source": [
    "\n",
    "def brand_exclusion(row):\n",
    "    '''Function to select the top 30 brands to classify and label the rest as Other'''\n",
    "    if str(row) in list(behold_prod.label):\n",
    "        return str(row)\n",
    "    else:\n",
    "        return 'Other'\n",
    "def get_accuracy(data,colname=''):\n",
    "    '''This function takes in inputdataset\n",
    "    data: Input Data\n",
    "    colname: Actual brand column name\n",
    "    This function prints the accuracy if a actual label column name is passed\n",
    "    Otherwise, it returns the predicted brands array'''\n",
    "    \n",
    "    \n",
    "    predictions=get_predictons(product)\n",
    "\n",
    "    if colname!='':\n",
    "        data['label']=data['brand'].apply(brand_exclusion)\n",
    "        accuracy=np.mean(data.label.values==predictions)*100\n",
    "        print(f'Accuracy: {accuracy}%')\n",
    "    else:\n",
    "        print(f'Predictions Ready')\n",
    "        \n",
    "    return predictions"
   ]
  },
  {
   "cell_type": "code",
   "execution_count": 41,
   "id": "86ebcca1",
   "metadata": {
    "scrolled": true
   },
   "outputs": [
    {
     "name": "stderr",
     "output_type": "stream",
     "text": [
      "100%|████████████████████████████████████████████████████████████████████████| 61355/61355 [00:00<00:00, 337845.78it/s]\n"
     ]
    },
    {
     "name": "stdout",
     "output_type": "stream",
     "text": [
      "(61355, 50)\n"
     ]
    },
    {
     "data": {
      "text/plain": [
       "array(['Other', 'Collina Strada', 'Other', ..., 'Other', 'Other', 'Other'],\n",
       "      dtype=object)"
      ]
     },
     "execution_count": 41,
     "metadata": {},
     "output_type": "execute_result"
    }
   ],
   "source": [
    "get_accuracy(product) \n",
    "\n",
    "# add the column name of the actual label if you want to print Accuracy\n",
    "# get_accuracy(product,'brand') (when actual column name is brand)"
   ]
  },
  {
   "cell_type": "markdown",
   "id": "c197e3ee",
   "metadata": {},
   "source": [
    "# Conclusion and future scope"
   ]
  },
  {
   "cell_type": "markdown",
   "id": "08e528b5",
   "metadata": {},
   "source": [
    "We got ~88% accuracy on our test data using Logistic Regression + Count Vectorization. This concludes our best model within the scope of this project. \n",
    "\n",
    "\n",
    "Given more time and resources, we have a few ideas to improve the project. \n",
    "\n",
    "- We would like to explore looking at accuracy within brand level. There might be few brands for which the model performance is worse than average. In those cases, we would need to go back to the description and extract some more intelligent features and weighting them to help the model classify those.\n",
    "\n",
    "- Using the misclassification pattern, we would like to study which features cause the misclassification and avoid generalization."
   ]
  }
 ],
 "metadata": {
  "kernelspec": {
   "display_name": "Python 3",
   "language": "python",
   "name": "python3"
  },
  "language_info": {
   "codemirror_mode": {
    "name": "ipython",
    "version": 3
   },
   "file_extension": ".py",
   "mimetype": "text/x-python",
   "name": "python",
   "nbconvert_exporter": "python",
   "pygments_lexer": "ipython3",
   "version": "3.8.8"
  },
  "toc": {
   "base_numbering": 1,
   "nav_menu": {},
   "number_sections": true,
   "sideBar": true,
   "skip_h1_title": false,
   "title_cell": "Table of Contents",
   "title_sidebar": "Contents",
   "toc_cell": false,
   "toc_position": {},
   "toc_section_display": true,
   "toc_window_display": true
  },
  "varInspector": {
   "cols": {
    "lenName": 16,
    "lenType": 16,
    "lenVar": 40
   },
   "kernels_config": {
    "python": {
     "delete_cmd_postfix": "",
     "delete_cmd_prefix": "del ",
     "library": "var_list.py",
     "varRefreshCmd": "print(var_dic_list())"
    },
    "r": {
     "delete_cmd_postfix": ") ",
     "delete_cmd_prefix": "rm(",
     "library": "var_list.r",
     "varRefreshCmd": "cat(var_dic_list()) "
    }
   },
   "types_to_exclude": [
    "module",
    "function",
    "builtin_function_or_method",
    "instance",
    "_Feature"
   ],
   "window_display": false
  }
 },
 "nbformat": 4,
 "nbformat_minor": 5
}
